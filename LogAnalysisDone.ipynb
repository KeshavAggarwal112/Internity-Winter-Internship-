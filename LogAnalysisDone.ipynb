{
 "cells": [
  {
   "cell_type": "code",
   "execution_count": 38,
   "metadata": {},
   "outputs": [],
   "source": [
    "import pandas as pd\n",
    "import numpy as np\n",
    "from bs4 import BeautifulSoup as bs\n",
    "import requests\n",
    "import urllib.request\n",
    "import json\n",
    "from tqdm.notebook import tqdm\n",
    "import pycountry \n",
    "import re\n",
    "import matplotlib.pyplot as plt\n",
    "import plotly.express as px\n",
    "import plotly.graph_objs as go\n",
    "from plotly.offline import  iplot"
   ]
  },
  {
   "cell_type": "code",
   "execution_count": 39,
   "metadata": {},
   "outputs": [],
   "source": [
    "def html_to_df(urls, clean_empty = False , attrs = {}, helper = None):\n",
    "    '''\n",
    "    Input:\n",
    "        urls : url's list from which the tabel need to be scrapping.\n",
    "        clean_empty : if remove completly empty column.\n",
    "        attrs : html attr. dict tag while more then on table e.g. {'class' : 'class_name'}.\n",
    "        helper : helper function for cleaning df.\n",
    "    Output:\n",
    "        df : dataframe\n",
    "    '''\n",
    "    df_l = []\n",
    "    for url in urls:\n",
    "        html_content = requests.get(url).text\n",
    "        soup = bs(html_content, \"lxml\")\n",
    "        table = str(soup.find(\"table\", attrs=attrs))\n",
    "        df = pd.read_html(str(table))[0]\n",
    "    \n",
    "        if clean_empty :\n",
    "            df = df.loc[:, ~df.isnull().all(axis = 0)]\n",
    "        \n",
    "        if helper:\n",
    "            df = helper(df) \n",
    "        df_l.append(df)\n",
    "    return pd.concat(df_l,ignore_index=True)\n",
    "\n",
    "def loc_dict_maker(unq_series):\n",
    "    '''\n",
    "    input:\n",
    "        series: series of unique ip address.\n",
    "    output:\n",
    "        res: dict contain country code, lat, long.\n",
    "    '''\n",
    "    def ip_loc(x):\n",
    "        '''\n",
    "        input:\n",
    "            x : ip address\n",
    "        output:\n",
    "            dictionary which contain country,latitude and longitude.\n",
    "        '''\n",
    "        res = {}\n",
    "        url = \"https://geolocation-db.com/jsonp/\"+x\n",
    "        with urllib.request.urlopen(url) as url:\n",
    "            data = json.loads(url.read().decode().split(\"(\")[1].strip(\")\"))\n",
    "        res = {\"country_code\":data[\"country_code\"], 'latitude':data['latitude'],'longitude':data['longitude']}\n",
    "        try:\n",
    "            res['alpha_3'] = pycountry.countries.get(alpha_2=country).alpha_3\n",
    "        except:\n",
    "            res['alpha_3'] = 'Not found'\n",
    "        return res\n",
    "    \n",
    "    result = {}\n",
    "    for ip in tqdm(unq_series):\n",
    "        result[ip] = ip_loc(ip)\n",
    "    return result\n",
    "\n",
    "\n",
    "def log_parser_re(str_):\n",
    "    '''\n",
    "    input:\n",
    "        str_ : log string.\n",
    "    output:\n",
    "        return a dictionary which contain all element of log string.\n",
    "    '''\n",
    "    finder = [r'(?P<ip>\\A\\w+[.]\\w+[.]+\\w+[.]+\\w+)',\n",
    "              r'(?P<RFC931>\\S+)',\n",
    "              r'(?P<user>\\S+)',\n",
    "              r'\\[(?P<date>\\d{2}/[a-zA-Z]{3}/\\d{4}:\\d{2}:\\d{2}:\\d{2}) (?P<gmt>[+-]\\d{4})]',\n",
    "              r'\"(?P<action>.*) HTTP/\\d*\\.*\\d*\"',\n",
    "              r'(?P<status>[0-9]*)',\n",
    "              r'(?P<size>\\S*)',\n",
    "              r'\"(?P<referrer>.*)\" \"(?P<browser>.*)\"']\n",
    "    m = re.search(' '.join(finder),str_)\n",
    "    return m.groupdict()\n",
    "\n",
    "\n",
    "\n",
    "def log_df(df,col_name ,columns = [] ):\n",
    "    '''\n",
    "    input: \n",
    "        df : dataframe\n",
    "        col_name : column name of dataframe on which we need to apply function.\n",
    "        columns : column name for new dataframe.\n",
    "    output:\n",
    "        return new dataframe.\n",
    "    '''\n",
    "    def log_parser(str_):\n",
    "        '''\n",
    "        input:\n",
    "            str_ : log string.\n",
    "        output:\n",
    "            return a dictionary which contain all element of log string.\n",
    "        '''\n",
    "        find = {}\n",
    "        find['ip'] = str_.split()[0]\n",
    "        find['RFC931'] = str_.split()[1]\n",
    "        find['user'] = str_.split()[2]\n",
    "        find['date'] = str_.split('[')[1].split()[0]\n",
    "        find['gmt'] = str_.split('[')[1].split()[1].strip(']')\n",
    "        try:\n",
    "            if 'HTTP' in str_.split('\"')[1].split()[-1]:\n",
    "                find['action'] =  str_.split('\"')[1].replace(str_.split('\"')[1].split()[2],'').strip()\n",
    "            else:\n",
    "                find['action'] =  str_.split('\"')[1].strip()\n",
    "        except:\n",
    "            find['action'] = '-'\n",
    "        try:\n",
    "            find['status'] = str_.split('\"')[2].strip().split()[0]\n",
    "        except:\n",
    "            find['status'] = '-'\n",
    "        try:\n",
    "            find['size'] = str_.split('\"')[2].strip().split()[1]\n",
    "        except:\n",
    "            find['size'] = '-'\n",
    "        try:\n",
    "            find['referrer'] = str_.strip().split('\"')[3]\n",
    "        except:\n",
    "            find['referrer'] ='-'\n",
    "        try:\n",
    "            find['browser'] = str_.strip().split('\"')[5]\n",
    "        except:\n",
    "            find['browser'] = '-'\n",
    "        \n",
    "        return find\n",
    "\n",
    "\n",
    "    df = pd.DataFrame(list(df[col_name].apply(log_parser).values) )\n",
    "    if len(df.columns) == len(columns):\n",
    "        df.columns = columns\n",
    "    return df\n",
    "    \n",
    "    \n",
    "def XSS_finder(str_):\n",
    "    flag = 0\n",
    "    l1 = ['<','>','\\\\','`']\n",
    "    l2 = ['/',')','(']\n",
    "    for char in l1:\n",
    "        aasci_encoding = '%'+hex(ord(char)).replace('0x','')\n",
    "        if (char in str_) or (aasci_encoding in str_):\n",
    "            flag = 1\n",
    "            break\n",
    "    if flag != 1:\n",
    "        try:\n",
    "            req_str = ''.join(str_.split('?')[1:])\n",
    "            for char in l2:\n",
    "                aasci_encoding = '%'+hex(ord(char)).replace('0x','')\n",
    "                if (char in req_str) or (aasci_encoding in req_str):\n",
    "                    flag = 1\n",
    "                    break\n",
    "        except:\n",
    "            pass\n",
    "    return bool(flag)\n",
    "    \n",
    "def add_location_data(df,column,keys):\n",
    "    def loc_dict_maker(unq_series):\n",
    "        '''\n",
    "        input:\n",
    "            series: series of unique ip address.\n",
    "        output:\n",
    "            res: dict contain country code, lat, long.\n",
    "        '''\n",
    "        def ip_loc(x):\n",
    "            '''\n",
    "            input:\n",
    "                x : ip address\n",
    "            output:\n",
    "                dictionary which contain country,latitude and longitude.\n",
    "            '''\n",
    "            res = {}\n",
    "            url = \"https://geolocation-db.com/jsonp/\"+x\n",
    "            with urllib.request.urlopen(url) as url:\n",
    "                data = json.loads(url.read().decode().split(\"(\")[1].strip(\")\"))\n",
    "            res = {\"country_code\":data[\"country_code\"], 'latitude':data['latitude'],'longitude':data['longitude']}\n",
    "            try:\n",
    "                res['alpha_3'] = pycountry.countries.get(alpha_2=res[\"country_code\"]).alpha_3\n",
    "            except:\n",
    "                res['alpha_3'] = 'Not found'\n",
    "            return res\n",
    "\n",
    "        result = {}\n",
    "        for ip in tqdm(unq_series):\n",
    "            result[ip] = ip_loc(ip)\n",
    "        return result\n",
    "    \n",
    "    loc_dict = loc_dict_maker(df[column].unique())\n",
    "    for key in keys:\n",
    "        df[key] = df[column].apply(lambda x: loc_dict[x][key])\n",
    "    return df"
   ]
  },
  {
   "cell_type": "code",
   "execution_count": 40,
   "metadata": {},
   "outputs": [],
   "source": [
    "def helper(df):\n",
    "    df = pd.DataFrame(list(df[1].apply(lambda x: x.split())))\n",
    "    df[3] = df[3].apply(lambda x: x.replace('[','') )\n",
    "    df[4] = df[4].apply(lambda x: x.replace(']','') )\n",
    "    df[5] = df.apply(lambda x : ' '.join([x[5],x[6]]).replace('\"',''), axis = 1)\n",
    "    df.drop([1,2,7,6],inplace=True,axis = 1)\n",
    "    \n",
    "    return df"
   ]
  },
  {
   "cell_type": "code",
   "execution_count": 41,
   "metadata": {},
   "outputs": [],
   "source": [
    "url1 = \"https://github.com/ayedaemon/RuckSack-Python/blob/master/log_analysis/access_log\"\n",
    "url2 = \"https://github.com/ayedaemon/RuckSack-Python/blob/master/log_analysis/access_log2\"\n",
    "url3 = \"https://github.com/robert456456456456/Web_server_log_parser/blob/master/devops.log\"\n",
    "urls=[url1,url2,url3]\n"
   ]
  },
  {
   "cell_type": "code",
   "execution_count": 42,
   "metadata": {},
   "outputs": [],
   "source": [
    "df = html_to_df(urls,clean_empty=True)"
   ]
  },
  {
   "cell_type": "code",
   "execution_count": 43,
   "metadata": {},
   "outputs": [],
   "source": [
    "columns = [\"User_ID\",\"RFC931\",\"User\",\"date\",\"gmt\",\"action\",\"status\",\"size\",\"referrer\",\"browser\"]\n",
    "df=log_df(df,1,columns)"
   ]
  },
  {
   "cell_type": "code",
   "execution_count": 44,
   "metadata": {},
   "outputs": [
    {
     "data": {
      "text/html": [
       "<div>\n",
       "<style scoped>\n",
       "    .dataframe tbody tr th:only-of-type {\n",
       "        vertical-align: middle;\n",
       "    }\n",
       "\n",
       "    .dataframe tbody tr th {\n",
       "        vertical-align: top;\n",
       "    }\n",
       "\n",
       "    .dataframe thead th {\n",
       "        text-align: right;\n",
       "    }\n",
       "</style>\n",
       "<table border=\"1\" class=\"dataframe\">\n",
       "  <thead>\n",
       "    <tr style=\"text-align: right;\">\n",
       "      <th></th>\n",
       "      <th>User_ID</th>\n",
       "      <th>RFC931</th>\n",
       "      <th>User</th>\n",
       "      <th>date</th>\n",
       "      <th>gmt</th>\n",
       "      <th>action</th>\n",
       "      <th>status</th>\n",
       "      <th>size</th>\n",
       "      <th>referrer</th>\n",
       "      <th>browser</th>\n",
       "    </tr>\n",
       "  </thead>\n",
       "  <tbody>\n",
       "    <tr>\n",
       "      <th>0</th>\n",
       "      <td>127.0.0.1</td>\n",
       "      <td>-</td>\n",
       "      <td>-</td>\n",
       "      <td>15/Jan/2021:08:54:07</td>\n",
       "      <td>+0000</td>\n",
       "      <td>GET /</td>\n",
       "      <td>403</td>\n",
       "      <td>4006</td>\n",
       "      <td>-</td>\n",
       "      <td>curl/7.61.1</td>\n",
       "    </tr>\n",
       "    <tr>\n",
       "      <th>1</th>\n",
       "      <td>127.0.0.1</td>\n",
       "      <td>-</td>\n",
       "      <td>-</td>\n",
       "      <td>15/Jan/2021:08:55:23</td>\n",
       "      <td>+0000</td>\n",
       "      <td>GET /cgi-bin/weakform.py</td>\n",
       "      <td>403</td>\n",
       "      <td>199</td>\n",
       "      <td>-</td>\n",
       "      <td>curl/7.61.1</td>\n",
       "    </tr>\n",
       "    <tr>\n",
       "      <th>2</th>\n",
       "      <td>127.0.0.1</td>\n",
       "      <td>-</td>\n",
       "      <td>-</td>\n",
       "      <td>15/Jan/2021:09:01:38</td>\n",
       "      <td>+0000</td>\n",
       "      <td>GET /cgi-bin/weak_form.py</td>\n",
       "      <td>200</td>\n",
       "      <td>19</td>\n",
       "      <td>-</td>\n",
       "      <td>curl/7.61.1</td>\n",
       "    </tr>\n",
       "    <tr>\n",
       "      <th>3</th>\n",
       "      <td>172.17.0.1</td>\n",
       "      <td>-</td>\n",
       "      <td>-</td>\n",
       "      <td>15/Jan/2021:09:02:14</td>\n",
       "      <td>+0000</td>\n",
       "      <td>GET /</td>\n",
       "      <td>403</td>\n",
       "      <td>4288</td>\n",
       "      <td>-</td>\n",
       "      <td>Mozilla/5.0 (X11; Linux x86_64; rv:84.0) Gecko...</td>\n",
       "    </tr>\n",
       "    <tr>\n",
       "      <th>4</th>\n",
       "      <td>172.17.0.1</td>\n",
       "      <td>-</td>\n",
       "      <td>-</td>\n",
       "      <td>15/Jan/2021:09:02:15</td>\n",
       "      <td>+0000</td>\n",
       "      <td>GET /noindex/common/css/bootstrap.min.css</td>\n",
       "      <td>200</td>\n",
       "      <td>99548</td>\n",
       "      <td>http://172.17.0.2/</td>\n",
       "      <td>Mozilla/5.0 (X11; Linux x86_64; rv:84.0) Gecko...</td>\n",
       "    </tr>\n",
       "  </tbody>\n",
       "</table>\n",
       "</div>"
      ],
      "text/plain": [
       "      User_ID RFC931 User                  date    gmt  \\\n",
       "0   127.0.0.1      -    -  15/Jan/2021:08:54:07  +0000   \n",
       "1   127.0.0.1      -    -  15/Jan/2021:08:55:23  +0000   \n",
       "2   127.0.0.1      -    -  15/Jan/2021:09:01:38  +0000   \n",
       "3  172.17.0.1      -    -  15/Jan/2021:09:02:14  +0000   \n",
       "4  172.17.0.1      -    -  15/Jan/2021:09:02:15  +0000   \n",
       "\n",
       "                                      action status   size  \\\n",
       "0                                      GET /    403   4006   \n",
       "1                   GET /cgi-bin/weakform.py    403    199   \n",
       "2                  GET /cgi-bin/weak_form.py    200     19   \n",
       "3                                      GET /    403   4288   \n",
       "4  GET /noindex/common/css/bootstrap.min.css    200  99548   \n",
       "\n",
       "             referrer                                            browser  \n",
       "0                   -                                        curl/7.61.1  \n",
       "1                   -                                        curl/7.61.1  \n",
       "2                   -                                        curl/7.61.1  \n",
       "3                   -  Mozilla/5.0 (X11; Linux x86_64; rv:84.0) Gecko...  \n",
       "4  http://172.17.0.2/  Mozilla/5.0 (X11; Linux x86_64; rv:84.0) Gecko...  "
      ]
     },
     "execution_count": 44,
     "metadata": {},
     "output_type": "execute_result"
    }
   ],
   "source": [
    "df.head()"
   ]
  },
  {
   "cell_type": "markdown",
   "metadata": {},
   "source": [
    "# 1.) Country to Which user belongs"
   ]
  },
  {
   "cell_type": "code",
   "execution_count": 45,
   "metadata": {},
   "outputs": [
    {
     "data": {
      "application/vnd.jupyter.widget-view+json": {
       "model_id": "fe532d5fea6c4c479ce38cd006fb4e04",
       "version_major": 2,
       "version_minor": 0
      },
      "text/plain": [
       "  0%|          | 0/174 [00:00<?, ?it/s]"
      ]
     },
     "metadata": {},
     "output_type": "display_data"
    },
    {
     "data": {
      "text/html": [
       "<div>\n",
       "<style scoped>\n",
       "    .dataframe tbody tr th:only-of-type {\n",
       "        vertical-align: middle;\n",
       "    }\n",
       "\n",
       "    .dataframe tbody tr th {\n",
       "        vertical-align: top;\n",
       "    }\n",
       "\n",
       "    .dataframe thead th {\n",
       "        text-align: right;\n",
       "    }\n",
       "</style>\n",
       "<table border=\"1\" class=\"dataframe\">\n",
       "  <thead>\n",
       "    <tr style=\"text-align: right;\">\n",
       "      <th></th>\n",
       "      <th>User_ID</th>\n",
       "      <th>RFC931</th>\n",
       "      <th>User</th>\n",
       "      <th>date</th>\n",
       "      <th>gmt</th>\n",
       "      <th>action</th>\n",
       "      <th>status</th>\n",
       "      <th>size</th>\n",
       "      <th>referrer</th>\n",
       "      <th>browser</th>\n",
       "      <th>country_code</th>\n",
       "      <th>latitude</th>\n",
       "      <th>longitude</th>\n",
       "      <th>alpha_3</th>\n",
       "    </tr>\n",
       "  </thead>\n",
       "  <tbody>\n",
       "    <tr>\n",
       "      <th>0</th>\n",
       "      <td>127.0.0.1</td>\n",
       "      <td>-</td>\n",
       "      <td>-</td>\n",
       "      <td>15/Jan/2021:08:54:07</td>\n",
       "      <td>+0000</td>\n",
       "      <td>GET /</td>\n",
       "      <td>403</td>\n",
       "      <td>4006</td>\n",
       "      <td>-</td>\n",
       "      <td>curl/7.61.1</td>\n",
       "      <td>Not found</td>\n",
       "      <td>Not found</td>\n",
       "      <td>Not found</td>\n",
       "      <td>Not found</td>\n",
       "    </tr>\n",
       "    <tr>\n",
       "      <th>1</th>\n",
       "      <td>127.0.0.1</td>\n",
       "      <td>-</td>\n",
       "      <td>-</td>\n",
       "      <td>15/Jan/2021:08:55:23</td>\n",
       "      <td>+0000</td>\n",
       "      <td>GET /cgi-bin/weakform.py</td>\n",
       "      <td>403</td>\n",
       "      <td>199</td>\n",
       "      <td>-</td>\n",
       "      <td>curl/7.61.1</td>\n",
       "      <td>Not found</td>\n",
       "      <td>Not found</td>\n",
       "      <td>Not found</td>\n",
       "      <td>Not found</td>\n",
       "    </tr>\n",
       "    <tr>\n",
       "      <th>2</th>\n",
       "      <td>127.0.0.1</td>\n",
       "      <td>-</td>\n",
       "      <td>-</td>\n",
       "      <td>15/Jan/2021:09:01:38</td>\n",
       "      <td>+0000</td>\n",
       "      <td>GET /cgi-bin/weak_form.py</td>\n",
       "      <td>200</td>\n",
       "      <td>19</td>\n",
       "      <td>-</td>\n",
       "      <td>curl/7.61.1</td>\n",
       "      <td>Not found</td>\n",
       "      <td>Not found</td>\n",
       "      <td>Not found</td>\n",
       "      <td>Not found</td>\n",
       "    </tr>\n",
       "    <tr>\n",
       "      <th>3</th>\n",
       "      <td>172.17.0.1</td>\n",
       "      <td>-</td>\n",
       "      <td>-</td>\n",
       "      <td>15/Jan/2021:09:02:14</td>\n",
       "      <td>+0000</td>\n",
       "      <td>GET /</td>\n",
       "      <td>403</td>\n",
       "      <td>4288</td>\n",
       "      <td>-</td>\n",
       "      <td>Mozilla/5.0 (X11; Linux x86_64; rv:84.0) Gecko...</td>\n",
       "      <td>Not found</td>\n",
       "      <td>Not found</td>\n",
       "      <td>Not found</td>\n",
       "      <td>Not found</td>\n",
       "    </tr>\n",
       "    <tr>\n",
       "      <th>4</th>\n",
       "      <td>172.17.0.1</td>\n",
       "      <td>-</td>\n",
       "      <td>-</td>\n",
       "      <td>15/Jan/2021:09:02:15</td>\n",
       "      <td>+0000</td>\n",
       "      <td>GET /noindex/common/css/bootstrap.min.css</td>\n",
       "      <td>200</td>\n",
       "      <td>99548</td>\n",
       "      <td>http://172.17.0.2/</td>\n",
       "      <td>Mozilla/5.0 (X11; Linux x86_64; rv:84.0) Gecko...</td>\n",
       "      <td>Not found</td>\n",
       "      <td>Not found</td>\n",
       "      <td>Not found</td>\n",
       "      <td>Not found</td>\n",
       "    </tr>\n",
       "  </tbody>\n",
       "</table>\n",
       "</div>"
      ],
      "text/plain": [
       "      User_ID RFC931 User                  date    gmt  \\\n",
       "0   127.0.0.1      -    -  15/Jan/2021:08:54:07  +0000   \n",
       "1   127.0.0.1      -    -  15/Jan/2021:08:55:23  +0000   \n",
       "2   127.0.0.1      -    -  15/Jan/2021:09:01:38  +0000   \n",
       "3  172.17.0.1      -    -  15/Jan/2021:09:02:14  +0000   \n",
       "4  172.17.0.1      -    -  15/Jan/2021:09:02:15  +0000   \n",
       "\n",
       "                                      action status   size  \\\n",
       "0                                      GET /    403   4006   \n",
       "1                   GET /cgi-bin/weakform.py    403    199   \n",
       "2                  GET /cgi-bin/weak_form.py    200     19   \n",
       "3                                      GET /    403   4288   \n",
       "4  GET /noindex/common/css/bootstrap.min.css    200  99548   \n",
       "\n",
       "             referrer                                            browser  \\\n",
       "0                   -                                        curl/7.61.1   \n",
       "1                   -                                        curl/7.61.1   \n",
       "2                   -                                        curl/7.61.1   \n",
       "3                   -  Mozilla/5.0 (X11; Linux x86_64; rv:84.0) Gecko...   \n",
       "4  http://172.17.0.2/  Mozilla/5.0 (X11; Linux x86_64; rv:84.0) Gecko...   \n",
       "\n",
       "  country_code   latitude  longitude    alpha_3  \n",
       "0    Not found  Not found  Not found  Not found  \n",
       "1    Not found  Not found  Not found  Not found  \n",
       "2    Not found  Not found  Not found  Not found  \n",
       "3    Not found  Not found  Not found  Not found  \n",
       "4    Not found  Not found  Not found  Not found  "
      ]
     },
     "execution_count": 45,
     "metadata": {},
     "output_type": "execute_result"
    }
   ],
   "source": [
    "keys = ['country_code', 'latitude', 'longitude', 'alpha_3']\n",
    "df = add_location_data(df,'User_ID',keys)\n",
    "df.head()"
   ]
  },
  {
   "cell_type": "code",
   "execution_count": 56,
   "metadata": {},
   "outputs": [],
   "source": [
    "from plotly.offline import  iplot"
   ]
  },
  {
   "cell_type": "code",
   "execution_count": 57,
   "metadata": {},
   "outputs": [],
   "source": [
    "def geo_plotting(country_series,colorbar_title,title):\n",
    "    data = dict(\n",
    "            type = 'choropleth',\n",
    "            locations = country_series.value_counts().index,\n",
    "            z = country_series.value_counts().values,\n",
    "            colorbar = {'title' : colorbar_title},\n",
    "          )\n",
    "    layout = dict(\n",
    "        title = title,\n",
    "        geo = dict(\n",
    "                showframe = False,\n",
    "                projection = {'type':'natural earth'}    \n",
    "        )\n",
    "    )\n",
    "    choromap = go.Figure(data = [data],layout = layout)\n",
    "    iplot(choromap)"
   ]
  },
  {
   "cell_type": "code",
   "execution_count": 59,
   "metadata": {},
   "outputs": [
    {
     "data": {
      "application/vnd.plotly.v1+json": {
       "config": {
        "linkText": "Export to plot.ly",
        "plotlyServerURL": "https://plot.ly",
        "showLink": false
       },
       "data": [
        {
         "colorbar": {
          "title": {
           "text": "Number of Users"
          }
         },
         "locations": [
          "IND",
          "USA",
          "CAN",
          "ESP",
          "AUS",
          "SVN",
          "DEU",
          "NLD",
          "CHN",
          "PHL",
          "GBR",
          "BRA",
          "AUT",
          "MYS"
         ],
         "type": "choropleth",
         "z": [
          707,
          479,
          27,
          16,
          13,
          12,
          7,
          4,
          4,
          3,
          1,
          1,
          1,
          1
         ]
        }
       ],
       "layout": {
        "geo": {
         "projection": {
          "type": "natural earth"
         },
         "showframe": false
        },
        "template": {
         "data": {
          "bar": [
           {
            "error_x": {
             "color": "#2a3f5f"
            },
            "error_y": {
             "color": "#2a3f5f"
            },
            "marker": {
             "line": {
              "color": "#E5ECF6",
              "width": 0.5
             }
            },
            "type": "bar"
           }
          ],
          "barpolar": [
           {
            "marker": {
             "line": {
              "color": "#E5ECF6",
              "width": 0.5
             }
            },
            "type": "barpolar"
           }
          ],
          "carpet": [
           {
            "aaxis": {
             "endlinecolor": "#2a3f5f",
             "gridcolor": "white",
             "linecolor": "white",
             "minorgridcolor": "white",
             "startlinecolor": "#2a3f5f"
            },
            "baxis": {
             "endlinecolor": "#2a3f5f",
             "gridcolor": "white",
             "linecolor": "white",
             "minorgridcolor": "white",
             "startlinecolor": "#2a3f5f"
            },
            "type": "carpet"
           }
          ],
          "choropleth": [
           {
            "colorbar": {
             "outlinewidth": 0,
             "ticks": ""
            },
            "type": "choropleth"
           }
          ],
          "contour": [
           {
            "colorbar": {
             "outlinewidth": 0,
             "ticks": ""
            },
            "colorscale": [
             [
              0,
              "#0d0887"
             ],
             [
              0.1111111111111111,
              "#46039f"
             ],
             [
              0.2222222222222222,
              "#7201a8"
             ],
             [
              0.3333333333333333,
              "#9c179e"
             ],
             [
              0.4444444444444444,
              "#bd3786"
             ],
             [
              0.5555555555555556,
              "#d8576b"
             ],
             [
              0.6666666666666666,
              "#ed7953"
             ],
             [
              0.7777777777777778,
              "#fb9f3a"
             ],
             [
              0.8888888888888888,
              "#fdca26"
             ],
             [
              1,
              "#f0f921"
             ]
            ],
            "type": "contour"
           }
          ],
          "contourcarpet": [
           {
            "colorbar": {
             "outlinewidth": 0,
             "ticks": ""
            },
            "type": "contourcarpet"
           }
          ],
          "heatmap": [
           {
            "colorbar": {
             "outlinewidth": 0,
             "ticks": ""
            },
            "colorscale": [
             [
              0,
              "#0d0887"
             ],
             [
              0.1111111111111111,
              "#46039f"
             ],
             [
              0.2222222222222222,
              "#7201a8"
             ],
             [
              0.3333333333333333,
              "#9c179e"
             ],
             [
              0.4444444444444444,
              "#bd3786"
             ],
             [
              0.5555555555555556,
              "#d8576b"
             ],
             [
              0.6666666666666666,
              "#ed7953"
             ],
             [
              0.7777777777777778,
              "#fb9f3a"
             ],
             [
              0.8888888888888888,
              "#fdca26"
             ],
             [
              1,
              "#f0f921"
             ]
            ],
            "type": "heatmap"
           }
          ],
          "heatmapgl": [
           {
            "colorbar": {
             "outlinewidth": 0,
             "ticks": ""
            },
            "colorscale": [
             [
              0,
              "#0d0887"
             ],
             [
              0.1111111111111111,
              "#46039f"
             ],
             [
              0.2222222222222222,
              "#7201a8"
             ],
             [
              0.3333333333333333,
              "#9c179e"
             ],
             [
              0.4444444444444444,
              "#bd3786"
             ],
             [
              0.5555555555555556,
              "#d8576b"
             ],
             [
              0.6666666666666666,
              "#ed7953"
             ],
             [
              0.7777777777777778,
              "#fb9f3a"
             ],
             [
              0.8888888888888888,
              "#fdca26"
             ],
             [
              1,
              "#f0f921"
             ]
            ],
            "type": "heatmapgl"
           }
          ],
          "histogram": [
           {
            "marker": {
             "colorbar": {
              "outlinewidth": 0,
              "ticks": ""
             }
            },
            "type": "histogram"
           }
          ],
          "histogram2d": [
           {
            "colorbar": {
             "outlinewidth": 0,
             "ticks": ""
            },
            "colorscale": [
             [
              0,
              "#0d0887"
             ],
             [
              0.1111111111111111,
              "#46039f"
             ],
             [
              0.2222222222222222,
              "#7201a8"
             ],
             [
              0.3333333333333333,
              "#9c179e"
             ],
             [
              0.4444444444444444,
              "#bd3786"
             ],
             [
              0.5555555555555556,
              "#d8576b"
             ],
             [
              0.6666666666666666,
              "#ed7953"
             ],
             [
              0.7777777777777778,
              "#fb9f3a"
             ],
             [
              0.8888888888888888,
              "#fdca26"
             ],
             [
              1,
              "#f0f921"
             ]
            ],
            "type": "histogram2d"
           }
          ],
          "histogram2dcontour": [
           {
            "colorbar": {
             "outlinewidth": 0,
             "ticks": ""
            },
            "colorscale": [
             [
              0,
              "#0d0887"
             ],
             [
              0.1111111111111111,
              "#46039f"
             ],
             [
              0.2222222222222222,
              "#7201a8"
             ],
             [
              0.3333333333333333,
              "#9c179e"
             ],
             [
              0.4444444444444444,
              "#bd3786"
             ],
             [
              0.5555555555555556,
              "#d8576b"
             ],
             [
              0.6666666666666666,
              "#ed7953"
             ],
             [
              0.7777777777777778,
              "#fb9f3a"
             ],
             [
              0.8888888888888888,
              "#fdca26"
             ],
             [
              1,
              "#f0f921"
             ]
            ],
            "type": "histogram2dcontour"
           }
          ],
          "mesh3d": [
           {
            "colorbar": {
             "outlinewidth": 0,
             "ticks": ""
            },
            "type": "mesh3d"
           }
          ],
          "parcoords": [
           {
            "line": {
             "colorbar": {
              "outlinewidth": 0,
              "ticks": ""
             }
            },
            "type": "parcoords"
           }
          ],
          "pie": [
           {
            "automargin": true,
            "type": "pie"
           }
          ],
          "scatter": [
           {
            "marker": {
             "colorbar": {
              "outlinewidth": 0,
              "ticks": ""
             }
            },
            "type": "scatter"
           }
          ],
          "scatter3d": [
           {
            "line": {
             "colorbar": {
              "outlinewidth": 0,
              "ticks": ""
             }
            },
            "marker": {
             "colorbar": {
              "outlinewidth": 0,
              "ticks": ""
             }
            },
            "type": "scatter3d"
           }
          ],
          "scattercarpet": [
           {
            "marker": {
             "colorbar": {
              "outlinewidth": 0,
              "ticks": ""
             }
            },
            "type": "scattercarpet"
           }
          ],
          "scattergeo": [
           {
            "marker": {
             "colorbar": {
              "outlinewidth": 0,
              "ticks": ""
             }
            },
            "type": "scattergeo"
           }
          ],
          "scattergl": [
           {
            "marker": {
             "colorbar": {
              "outlinewidth": 0,
              "ticks": ""
             }
            },
            "type": "scattergl"
           }
          ],
          "scattermapbox": [
           {
            "marker": {
             "colorbar": {
              "outlinewidth": 0,
              "ticks": ""
             }
            },
            "type": "scattermapbox"
           }
          ],
          "scatterpolar": [
           {
            "marker": {
             "colorbar": {
              "outlinewidth": 0,
              "ticks": ""
             }
            },
            "type": "scatterpolar"
           }
          ],
          "scatterpolargl": [
           {
            "marker": {
             "colorbar": {
              "outlinewidth": 0,
              "ticks": ""
             }
            },
            "type": "scatterpolargl"
           }
          ],
          "scatterternary": [
           {
            "marker": {
             "colorbar": {
              "outlinewidth": 0,
              "ticks": ""
             }
            },
            "type": "scatterternary"
           }
          ],
          "surface": [
           {
            "colorbar": {
             "outlinewidth": 0,
             "ticks": ""
            },
            "colorscale": [
             [
              0,
              "#0d0887"
             ],
             [
              0.1111111111111111,
              "#46039f"
             ],
             [
              0.2222222222222222,
              "#7201a8"
             ],
             [
              0.3333333333333333,
              "#9c179e"
             ],
             [
              0.4444444444444444,
              "#bd3786"
             ],
             [
              0.5555555555555556,
              "#d8576b"
             ],
             [
              0.6666666666666666,
              "#ed7953"
             ],
             [
              0.7777777777777778,
              "#fb9f3a"
             ],
             [
              0.8888888888888888,
              "#fdca26"
             ],
             [
              1,
              "#f0f921"
             ]
            ],
            "type": "surface"
           }
          ],
          "table": [
           {
            "cells": {
             "fill": {
              "color": "#EBF0F8"
             },
             "line": {
              "color": "white"
             }
            },
            "header": {
             "fill": {
              "color": "#C8D4E3"
             },
             "line": {
              "color": "white"
             }
            },
            "type": "table"
           }
          ]
         },
         "layout": {
          "annotationdefaults": {
           "arrowcolor": "#2a3f5f",
           "arrowhead": 0,
           "arrowwidth": 1
          },
          "autotypenumbers": "strict",
          "coloraxis": {
           "colorbar": {
            "outlinewidth": 0,
            "ticks": ""
           }
          },
          "colorscale": {
           "diverging": [
            [
             0,
             "#8e0152"
            ],
            [
             0.1,
             "#c51b7d"
            ],
            [
             0.2,
             "#de77ae"
            ],
            [
             0.3,
             "#f1b6da"
            ],
            [
             0.4,
             "#fde0ef"
            ],
            [
             0.5,
             "#f7f7f7"
            ],
            [
             0.6,
             "#e6f5d0"
            ],
            [
             0.7,
             "#b8e186"
            ],
            [
             0.8,
             "#7fbc41"
            ],
            [
             0.9,
             "#4d9221"
            ],
            [
             1,
             "#276419"
            ]
           ],
           "sequential": [
            [
             0,
             "#0d0887"
            ],
            [
             0.1111111111111111,
             "#46039f"
            ],
            [
             0.2222222222222222,
             "#7201a8"
            ],
            [
             0.3333333333333333,
             "#9c179e"
            ],
            [
             0.4444444444444444,
             "#bd3786"
            ],
            [
             0.5555555555555556,
             "#d8576b"
            ],
            [
             0.6666666666666666,
             "#ed7953"
            ],
            [
             0.7777777777777778,
             "#fb9f3a"
            ],
            [
             0.8888888888888888,
             "#fdca26"
            ],
            [
             1,
             "#f0f921"
            ]
           ],
           "sequentialminus": [
            [
             0,
             "#0d0887"
            ],
            [
             0.1111111111111111,
             "#46039f"
            ],
            [
             0.2222222222222222,
             "#7201a8"
            ],
            [
             0.3333333333333333,
             "#9c179e"
            ],
            [
             0.4444444444444444,
             "#bd3786"
            ],
            [
             0.5555555555555556,
             "#d8576b"
            ],
            [
             0.6666666666666666,
             "#ed7953"
            ],
            [
             0.7777777777777778,
             "#fb9f3a"
            ],
            [
             0.8888888888888888,
             "#fdca26"
            ],
            [
             1,
             "#f0f921"
            ]
           ]
          },
          "colorway": [
           "#636efa",
           "#EF553B",
           "#00cc96",
           "#ab63fa",
           "#FFA15A",
           "#19d3f3",
           "#FF6692",
           "#B6E880",
           "#FF97FF",
           "#FECB52"
          ],
          "font": {
           "color": "#2a3f5f"
          },
          "geo": {
           "bgcolor": "white",
           "lakecolor": "white",
           "landcolor": "#E5ECF6",
           "showlakes": true,
           "showland": true,
           "subunitcolor": "white"
          },
          "hoverlabel": {
           "align": "left"
          },
          "hovermode": "closest",
          "mapbox": {
           "style": "light"
          },
          "paper_bgcolor": "white",
          "plot_bgcolor": "#E5ECF6",
          "polar": {
           "angularaxis": {
            "gridcolor": "white",
            "linecolor": "white",
            "ticks": ""
           },
           "bgcolor": "#E5ECF6",
           "radialaxis": {
            "gridcolor": "white",
            "linecolor": "white",
            "ticks": ""
           }
          },
          "scene": {
           "xaxis": {
            "backgroundcolor": "#E5ECF6",
            "gridcolor": "white",
            "gridwidth": 2,
            "linecolor": "white",
            "showbackground": true,
            "ticks": "",
            "zerolinecolor": "white"
           },
           "yaxis": {
            "backgroundcolor": "#E5ECF6",
            "gridcolor": "white",
            "gridwidth": 2,
            "linecolor": "white",
            "showbackground": true,
            "ticks": "",
            "zerolinecolor": "white"
           },
           "zaxis": {
            "backgroundcolor": "#E5ECF6",
            "gridcolor": "white",
            "gridwidth": 2,
            "linecolor": "white",
            "showbackground": true,
            "ticks": "",
            "zerolinecolor": "white"
           }
          },
          "shapedefaults": {
           "line": {
            "color": "#2a3f5f"
           }
          },
          "ternary": {
           "aaxis": {
            "gridcolor": "white",
            "linecolor": "white",
            "ticks": ""
           },
           "baxis": {
            "gridcolor": "white",
            "linecolor": "white",
            "ticks": ""
           },
           "bgcolor": "#E5ECF6",
           "caxis": {
            "gridcolor": "white",
            "linecolor": "white",
            "ticks": ""
           }
          },
          "title": {
           "x": 0.05
          },
          "xaxis": {
           "automargin": true,
           "gridcolor": "white",
           "linecolor": "white",
           "ticks": "",
           "title": {
            "standoff": 15
           },
           "zerolinecolor": "white",
           "zerolinewidth": 2
          },
          "yaxis": {
           "automargin": true,
           "gridcolor": "white",
           "linecolor": "white",
           "ticks": "",
           "title": {
            "standoff": 15
           },
           "zerolinecolor": "white",
           "zerolinewidth": 2
          }
         }
        },
        "title": {
         "text": "User's Geo-location Data"
        }
       }
      },
      "text/html": [
       "<div>                            <div id=\"a690e72a-b84f-4746-825a-b356c339cc25\" class=\"plotly-graph-div\" style=\"height:525px; width:100%;\"></div>            <script type=\"text/javascript\">                require([\"plotly\"], function(Plotly) {                    window.PLOTLYENV=window.PLOTLYENV || {};                                    if (document.getElementById(\"a690e72a-b84f-4746-825a-b356c339cc25\")) {                    Plotly.newPlot(                        \"a690e72a-b84f-4746-825a-b356c339cc25\",                        [{\"colorbar\": {\"title\": {\"text\": \"Number of Users\"}}, \"locations\": [\"IND\", \"USA\", \"CAN\", \"ESP\", \"AUS\", \"SVN\", \"DEU\", \"NLD\", \"CHN\", \"PHL\", \"GBR\", \"BRA\", \"AUT\", \"MYS\"], \"type\": \"choropleth\", \"z\": [707, 479, 27, 16, 13, 12, 7, 4, 4, 3, 1, 1, 1, 1]}],                        {\"geo\": {\"projection\": {\"type\": \"natural earth\"}, \"showframe\": false}, \"template\": {\"data\": {\"bar\": [{\"error_x\": {\"color\": \"#2a3f5f\"}, \"error_y\": {\"color\": \"#2a3f5f\"}, \"marker\": {\"line\": {\"color\": \"#E5ECF6\", \"width\": 0.5}}, \"type\": \"bar\"}], \"barpolar\": [{\"marker\": {\"line\": {\"color\": \"#E5ECF6\", \"width\": 0.5}}, \"type\": \"barpolar\"}], \"carpet\": [{\"aaxis\": {\"endlinecolor\": \"#2a3f5f\", \"gridcolor\": \"white\", \"linecolor\": \"white\", \"minorgridcolor\": \"white\", \"startlinecolor\": \"#2a3f5f\"}, \"baxis\": {\"endlinecolor\": \"#2a3f5f\", \"gridcolor\": \"white\", \"linecolor\": \"white\", \"minorgridcolor\": \"white\", \"startlinecolor\": \"#2a3f5f\"}, \"type\": \"carpet\"}], \"choropleth\": [{\"colorbar\": {\"outlinewidth\": 0, \"ticks\": \"\"}, \"type\": \"choropleth\"}], \"contour\": [{\"colorbar\": {\"outlinewidth\": 0, \"ticks\": \"\"}, \"colorscale\": [[0.0, \"#0d0887\"], [0.1111111111111111, \"#46039f\"], [0.2222222222222222, \"#7201a8\"], [0.3333333333333333, \"#9c179e\"], [0.4444444444444444, \"#bd3786\"], [0.5555555555555556, \"#d8576b\"], [0.6666666666666666, \"#ed7953\"], [0.7777777777777778, \"#fb9f3a\"], [0.8888888888888888, \"#fdca26\"], [1.0, \"#f0f921\"]], \"type\": \"contour\"}], \"contourcarpet\": [{\"colorbar\": {\"outlinewidth\": 0, \"ticks\": \"\"}, \"type\": \"contourcarpet\"}], \"heatmap\": [{\"colorbar\": {\"outlinewidth\": 0, \"ticks\": \"\"}, \"colorscale\": [[0.0, \"#0d0887\"], [0.1111111111111111, \"#46039f\"], [0.2222222222222222, \"#7201a8\"], [0.3333333333333333, \"#9c179e\"], [0.4444444444444444, \"#bd3786\"], [0.5555555555555556, \"#d8576b\"], [0.6666666666666666, \"#ed7953\"], [0.7777777777777778, \"#fb9f3a\"], [0.8888888888888888, \"#fdca26\"], [1.0, \"#f0f921\"]], \"type\": \"heatmap\"}], \"heatmapgl\": [{\"colorbar\": {\"outlinewidth\": 0, \"ticks\": \"\"}, \"colorscale\": [[0.0, \"#0d0887\"], [0.1111111111111111, \"#46039f\"], [0.2222222222222222, \"#7201a8\"], [0.3333333333333333, \"#9c179e\"], [0.4444444444444444, \"#bd3786\"], [0.5555555555555556, \"#d8576b\"], [0.6666666666666666, \"#ed7953\"], [0.7777777777777778, \"#fb9f3a\"], [0.8888888888888888, \"#fdca26\"], [1.0, \"#f0f921\"]], \"type\": \"heatmapgl\"}], \"histogram\": [{\"marker\": {\"colorbar\": {\"outlinewidth\": 0, \"ticks\": \"\"}}, \"type\": \"histogram\"}], \"histogram2d\": [{\"colorbar\": {\"outlinewidth\": 0, \"ticks\": \"\"}, \"colorscale\": [[0.0, \"#0d0887\"], [0.1111111111111111, \"#46039f\"], [0.2222222222222222, \"#7201a8\"], [0.3333333333333333, \"#9c179e\"], [0.4444444444444444, \"#bd3786\"], [0.5555555555555556, \"#d8576b\"], [0.6666666666666666, \"#ed7953\"], [0.7777777777777778, \"#fb9f3a\"], [0.8888888888888888, \"#fdca26\"], [1.0, \"#f0f921\"]], \"type\": \"histogram2d\"}], \"histogram2dcontour\": [{\"colorbar\": {\"outlinewidth\": 0, \"ticks\": \"\"}, \"colorscale\": [[0.0, \"#0d0887\"], [0.1111111111111111, \"#46039f\"], [0.2222222222222222, \"#7201a8\"], [0.3333333333333333, \"#9c179e\"], [0.4444444444444444, \"#bd3786\"], [0.5555555555555556, \"#d8576b\"], [0.6666666666666666, \"#ed7953\"], [0.7777777777777778, \"#fb9f3a\"], [0.8888888888888888, \"#fdca26\"], [1.0, \"#f0f921\"]], \"type\": \"histogram2dcontour\"}], \"mesh3d\": [{\"colorbar\": {\"outlinewidth\": 0, \"ticks\": \"\"}, \"type\": \"mesh3d\"}], \"parcoords\": [{\"line\": {\"colorbar\": {\"outlinewidth\": 0, \"ticks\": \"\"}}, \"type\": \"parcoords\"}], \"pie\": [{\"automargin\": true, \"type\": \"pie\"}], \"scatter\": [{\"marker\": {\"colorbar\": {\"outlinewidth\": 0, \"ticks\": \"\"}}, \"type\": \"scatter\"}], \"scatter3d\": [{\"line\": {\"colorbar\": {\"outlinewidth\": 0, \"ticks\": \"\"}}, \"marker\": {\"colorbar\": {\"outlinewidth\": 0, \"ticks\": \"\"}}, \"type\": \"scatter3d\"}], \"scattercarpet\": [{\"marker\": {\"colorbar\": {\"outlinewidth\": 0, \"ticks\": \"\"}}, \"type\": \"scattercarpet\"}], \"scattergeo\": [{\"marker\": {\"colorbar\": {\"outlinewidth\": 0, \"ticks\": \"\"}}, \"type\": \"scattergeo\"}], \"scattergl\": [{\"marker\": {\"colorbar\": {\"outlinewidth\": 0, \"ticks\": \"\"}}, \"type\": \"scattergl\"}], \"scattermapbox\": [{\"marker\": {\"colorbar\": {\"outlinewidth\": 0, \"ticks\": \"\"}}, \"type\": \"scattermapbox\"}], \"scatterpolar\": [{\"marker\": {\"colorbar\": {\"outlinewidth\": 0, \"ticks\": \"\"}}, \"type\": \"scatterpolar\"}], \"scatterpolargl\": [{\"marker\": {\"colorbar\": {\"outlinewidth\": 0, \"ticks\": \"\"}}, \"type\": \"scatterpolargl\"}], \"scatterternary\": [{\"marker\": {\"colorbar\": {\"outlinewidth\": 0, \"ticks\": \"\"}}, \"type\": \"scatterternary\"}], \"surface\": [{\"colorbar\": {\"outlinewidth\": 0, \"ticks\": \"\"}, \"colorscale\": [[0.0, \"#0d0887\"], [0.1111111111111111, \"#46039f\"], [0.2222222222222222, \"#7201a8\"], [0.3333333333333333, \"#9c179e\"], [0.4444444444444444, \"#bd3786\"], [0.5555555555555556, \"#d8576b\"], [0.6666666666666666, \"#ed7953\"], [0.7777777777777778, \"#fb9f3a\"], [0.8888888888888888, \"#fdca26\"], [1.0, \"#f0f921\"]], \"type\": \"surface\"}], \"table\": [{\"cells\": {\"fill\": {\"color\": \"#EBF0F8\"}, \"line\": {\"color\": \"white\"}}, \"header\": {\"fill\": {\"color\": \"#C8D4E3\"}, \"line\": {\"color\": \"white\"}}, \"type\": \"table\"}]}, \"layout\": {\"annotationdefaults\": {\"arrowcolor\": \"#2a3f5f\", \"arrowhead\": 0, \"arrowwidth\": 1}, \"autotypenumbers\": \"strict\", \"coloraxis\": {\"colorbar\": {\"outlinewidth\": 0, \"ticks\": \"\"}}, \"colorscale\": {\"diverging\": [[0, \"#8e0152\"], [0.1, \"#c51b7d\"], [0.2, \"#de77ae\"], [0.3, \"#f1b6da\"], [0.4, \"#fde0ef\"], [0.5, \"#f7f7f7\"], [0.6, \"#e6f5d0\"], [0.7, \"#b8e186\"], [0.8, \"#7fbc41\"], [0.9, \"#4d9221\"], [1, \"#276419\"]], \"sequential\": [[0.0, \"#0d0887\"], [0.1111111111111111, \"#46039f\"], [0.2222222222222222, \"#7201a8\"], [0.3333333333333333, \"#9c179e\"], [0.4444444444444444, \"#bd3786\"], [0.5555555555555556, \"#d8576b\"], [0.6666666666666666, \"#ed7953\"], [0.7777777777777778, \"#fb9f3a\"], [0.8888888888888888, \"#fdca26\"], [1.0, \"#f0f921\"]], \"sequentialminus\": [[0.0, \"#0d0887\"], [0.1111111111111111, \"#46039f\"], [0.2222222222222222, \"#7201a8\"], [0.3333333333333333, \"#9c179e\"], [0.4444444444444444, \"#bd3786\"], [0.5555555555555556, \"#d8576b\"], [0.6666666666666666, \"#ed7953\"], [0.7777777777777778, \"#fb9f3a\"], [0.8888888888888888, \"#fdca26\"], [1.0, \"#f0f921\"]]}, \"colorway\": [\"#636efa\", \"#EF553B\", \"#00cc96\", \"#ab63fa\", \"#FFA15A\", \"#19d3f3\", \"#FF6692\", \"#B6E880\", \"#FF97FF\", \"#FECB52\"], \"font\": {\"color\": \"#2a3f5f\"}, \"geo\": {\"bgcolor\": \"white\", \"lakecolor\": \"white\", \"landcolor\": \"#E5ECF6\", \"showlakes\": true, \"showland\": true, \"subunitcolor\": \"white\"}, \"hoverlabel\": {\"align\": \"left\"}, \"hovermode\": \"closest\", \"mapbox\": {\"style\": \"light\"}, \"paper_bgcolor\": \"white\", \"plot_bgcolor\": \"#E5ECF6\", \"polar\": {\"angularaxis\": {\"gridcolor\": \"white\", \"linecolor\": \"white\", \"ticks\": \"\"}, \"bgcolor\": \"#E5ECF6\", \"radialaxis\": {\"gridcolor\": \"white\", \"linecolor\": \"white\", \"ticks\": \"\"}}, \"scene\": {\"xaxis\": {\"backgroundcolor\": \"#E5ECF6\", \"gridcolor\": \"white\", \"gridwidth\": 2, \"linecolor\": \"white\", \"showbackground\": true, \"ticks\": \"\", \"zerolinecolor\": \"white\"}, \"yaxis\": {\"backgroundcolor\": \"#E5ECF6\", \"gridcolor\": \"white\", \"gridwidth\": 2, \"linecolor\": \"white\", \"showbackground\": true, \"ticks\": \"\", \"zerolinecolor\": \"white\"}, \"zaxis\": {\"backgroundcolor\": \"#E5ECF6\", \"gridcolor\": \"white\", \"gridwidth\": 2, \"linecolor\": \"white\", \"showbackground\": true, \"ticks\": \"\", \"zerolinecolor\": \"white\"}}, \"shapedefaults\": {\"line\": {\"color\": \"#2a3f5f\"}}, \"ternary\": {\"aaxis\": {\"gridcolor\": \"white\", \"linecolor\": \"white\", \"ticks\": \"\"}, \"baxis\": {\"gridcolor\": \"white\", \"linecolor\": \"white\", \"ticks\": \"\"}, \"bgcolor\": \"#E5ECF6\", \"caxis\": {\"gridcolor\": \"white\", \"linecolor\": \"white\", \"ticks\": \"\"}}, \"title\": {\"x\": 0.05}, \"xaxis\": {\"automargin\": true, \"gridcolor\": \"white\", \"linecolor\": \"white\", \"ticks\": \"\", \"title\": {\"standoff\": 15}, \"zerolinecolor\": \"white\", \"zerolinewidth\": 2}, \"yaxis\": {\"automargin\": true, \"gridcolor\": \"white\", \"linecolor\": \"white\", \"ticks\": \"\", \"title\": {\"standoff\": 15}, \"zerolinecolor\": \"white\", \"zerolinewidth\": 2}}}, \"title\": {\"text\": \"User's Geo-location Data\"}},                        {\"responsive\": true}                    ).then(function(){\n",
       "                            \n",
       "var gd = document.getElementById('a690e72a-b84f-4746-825a-b356c339cc25');\n",
       "var x = new MutationObserver(function (mutations, observer) {{\n",
       "        var display = window.getComputedStyle(gd).display;\n",
       "        if (!display || display === 'none') {{\n",
       "            console.log([gd, 'removed!']);\n",
       "            Plotly.purge(gd);\n",
       "            observer.disconnect();\n",
       "        }}\n",
       "}});\n",
       "\n",
       "// Listen for the removal of the full notebook cells\n",
       "var notebookContainer = gd.closest('#notebook-container');\n",
       "if (notebookContainer) {{\n",
       "    x.observe(notebookContainer, {childList: true});\n",
       "}}\n",
       "\n",
       "// Listen for the clearing of the current output cell\n",
       "var outputEl = gd.closest('.output');\n",
       "if (outputEl) {{\n",
       "    x.observe(outputEl, {childList: true});\n",
       "}}\n",
       "\n",
       "                        })                };                });            </script>        </div>"
      ]
     },
     "metadata": {},
     "output_type": "display_data"
    }
   ],
   "source": [
    "geo_plotting(df[df['alpha_3']!= 'Not found']['alpha_3'],\"Number of Users\",\"User's Geo-location Data\")\n"
   ]
  },
  {
   "cell_type": "markdown",
   "metadata": {},
   "source": [
    "# 2. a.) OS Used to Open Webpage"
   ]
  },
  {
   "cell_type": "code",
   "execution_count": 60,
   "metadata": {},
   "outputs": [],
   "source": [
    "def OS_dict(browser_series):\n",
    "    os = ['Windows','Machintosh','Linux','Other']\n",
    "    res_dict = {o:0 for o in os}\n",
    "    for browser in browser_series:\n",
    "        flag = 0\n",
    "        for i in os[:-1]:\n",
    "            if i in browser:\n",
    "                res_dict[i]+=1\n",
    "                flag = 1\n",
    "                break\n",
    "        if flag==0:\n",
    "            res_dict['Other']+=1\n",
    "    return res_dict"
   ]
  },
  {
   "cell_type": "code",
   "execution_count": 61,
   "metadata": {},
   "outputs": [
    {
     "data": {
      "application/vnd.plotly.v1+json": {
       "config": {
        "plotlyServerURL": "https://plot.ly"
       },
       "data": [
        {
         "domain": {
          "x": [
           0,
           1
          ],
          "y": [
           0,
           1
          ]
         },
         "hovertemplate": "label=%{label}<br>value=%{value}<extra></extra>",
         "labels": [
          "Windows",
          "Machintosh",
          "Linux",
          "Other"
         ],
         "legendgroup": "",
         "name": "",
         "showlegend": true,
         "type": "pie",
         "values": [
          1369,
          0,
          373,
          1604
         ]
        }
       ],
       "layout": {
        "legend": {
         "tracegroupgap": 0
        },
        "template": {
         "data": {
          "bar": [
           {
            "error_x": {
             "color": "#2a3f5f"
            },
            "error_y": {
             "color": "#2a3f5f"
            },
            "marker": {
             "line": {
              "color": "#E5ECF6",
              "width": 0.5
             }
            },
            "type": "bar"
           }
          ],
          "barpolar": [
           {
            "marker": {
             "line": {
              "color": "#E5ECF6",
              "width": 0.5
             }
            },
            "type": "barpolar"
           }
          ],
          "carpet": [
           {
            "aaxis": {
             "endlinecolor": "#2a3f5f",
             "gridcolor": "white",
             "linecolor": "white",
             "minorgridcolor": "white",
             "startlinecolor": "#2a3f5f"
            },
            "baxis": {
             "endlinecolor": "#2a3f5f",
             "gridcolor": "white",
             "linecolor": "white",
             "minorgridcolor": "white",
             "startlinecolor": "#2a3f5f"
            },
            "type": "carpet"
           }
          ],
          "choropleth": [
           {
            "colorbar": {
             "outlinewidth": 0,
             "ticks": ""
            },
            "type": "choropleth"
           }
          ],
          "contour": [
           {
            "colorbar": {
             "outlinewidth": 0,
             "ticks": ""
            },
            "colorscale": [
             [
              0,
              "#0d0887"
             ],
             [
              0.1111111111111111,
              "#46039f"
             ],
             [
              0.2222222222222222,
              "#7201a8"
             ],
             [
              0.3333333333333333,
              "#9c179e"
             ],
             [
              0.4444444444444444,
              "#bd3786"
             ],
             [
              0.5555555555555556,
              "#d8576b"
             ],
             [
              0.6666666666666666,
              "#ed7953"
             ],
             [
              0.7777777777777778,
              "#fb9f3a"
             ],
             [
              0.8888888888888888,
              "#fdca26"
             ],
             [
              1,
              "#f0f921"
             ]
            ],
            "type": "contour"
           }
          ],
          "contourcarpet": [
           {
            "colorbar": {
             "outlinewidth": 0,
             "ticks": ""
            },
            "type": "contourcarpet"
           }
          ],
          "heatmap": [
           {
            "colorbar": {
             "outlinewidth": 0,
             "ticks": ""
            },
            "colorscale": [
             [
              0,
              "#0d0887"
             ],
             [
              0.1111111111111111,
              "#46039f"
             ],
             [
              0.2222222222222222,
              "#7201a8"
             ],
             [
              0.3333333333333333,
              "#9c179e"
             ],
             [
              0.4444444444444444,
              "#bd3786"
             ],
             [
              0.5555555555555556,
              "#d8576b"
             ],
             [
              0.6666666666666666,
              "#ed7953"
             ],
             [
              0.7777777777777778,
              "#fb9f3a"
             ],
             [
              0.8888888888888888,
              "#fdca26"
             ],
             [
              1,
              "#f0f921"
             ]
            ],
            "type": "heatmap"
           }
          ],
          "heatmapgl": [
           {
            "colorbar": {
             "outlinewidth": 0,
             "ticks": ""
            },
            "colorscale": [
             [
              0,
              "#0d0887"
             ],
             [
              0.1111111111111111,
              "#46039f"
             ],
             [
              0.2222222222222222,
              "#7201a8"
             ],
             [
              0.3333333333333333,
              "#9c179e"
             ],
             [
              0.4444444444444444,
              "#bd3786"
             ],
             [
              0.5555555555555556,
              "#d8576b"
             ],
             [
              0.6666666666666666,
              "#ed7953"
             ],
             [
              0.7777777777777778,
              "#fb9f3a"
             ],
             [
              0.8888888888888888,
              "#fdca26"
             ],
             [
              1,
              "#f0f921"
             ]
            ],
            "type": "heatmapgl"
           }
          ],
          "histogram": [
           {
            "marker": {
             "colorbar": {
              "outlinewidth": 0,
              "ticks": ""
             }
            },
            "type": "histogram"
           }
          ],
          "histogram2d": [
           {
            "colorbar": {
             "outlinewidth": 0,
             "ticks": ""
            },
            "colorscale": [
             [
              0,
              "#0d0887"
             ],
             [
              0.1111111111111111,
              "#46039f"
             ],
             [
              0.2222222222222222,
              "#7201a8"
             ],
             [
              0.3333333333333333,
              "#9c179e"
             ],
             [
              0.4444444444444444,
              "#bd3786"
             ],
             [
              0.5555555555555556,
              "#d8576b"
             ],
             [
              0.6666666666666666,
              "#ed7953"
             ],
             [
              0.7777777777777778,
              "#fb9f3a"
             ],
             [
              0.8888888888888888,
              "#fdca26"
             ],
             [
              1,
              "#f0f921"
             ]
            ],
            "type": "histogram2d"
           }
          ],
          "histogram2dcontour": [
           {
            "colorbar": {
             "outlinewidth": 0,
             "ticks": ""
            },
            "colorscale": [
             [
              0,
              "#0d0887"
             ],
             [
              0.1111111111111111,
              "#46039f"
             ],
             [
              0.2222222222222222,
              "#7201a8"
             ],
             [
              0.3333333333333333,
              "#9c179e"
             ],
             [
              0.4444444444444444,
              "#bd3786"
             ],
             [
              0.5555555555555556,
              "#d8576b"
             ],
             [
              0.6666666666666666,
              "#ed7953"
             ],
             [
              0.7777777777777778,
              "#fb9f3a"
             ],
             [
              0.8888888888888888,
              "#fdca26"
             ],
             [
              1,
              "#f0f921"
             ]
            ],
            "type": "histogram2dcontour"
           }
          ],
          "mesh3d": [
           {
            "colorbar": {
             "outlinewidth": 0,
             "ticks": ""
            },
            "type": "mesh3d"
           }
          ],
          "parcoords": [
           {
            "line": {
             "colorbar": {
              "outlinewidth": 0,
              "ticks": ""
             }
            },
            "type": "parcoords"
           }
          ],
          "pie": [
           {
            "automargin": true,
            "type": "pie"
           }
          ],
          "scatter": [
           {
            "marker": {
             "colorbar": {
              "outlinewidth": 0,
              "ticks": ""
             }
            },
            "type": "scatter"
           }
          ],
          "scatter3d": [
           {
            "line": {
             "colorbar": {
              "outlinewidth": 0,
              "ticks": ""
             }
            },
            "marker": {
             "colorbar": {
              "outlinewidth": 0,
              "ticks": ""
             }
            },
            "type": "scatter3d"
           }
          ],
          "scattercarpet": [
           {
            "marker": {
             "colorbar": {
              "outlinewidth": 0,
              "ticks": ""
             }
            },
            "type": "scattercarpet"
           }
          ],
          "scattergeo": [
           {
            "marker": {
             "colorbar": {
              "outlinewidth": 0,
              "ticks": ""
             }
            },
            "type": "scattergeo"
           }
          ],
          "scattergl": [
           {
            "marker": {
             "colorbar": {
              "outlinewidth": 0,
              "ticks": ""
             }
            },
            "type": "scattergl"
           }
          ],
          "scattermapbox": [
           {
            "marker": {
             "colorbar": {
              "outlinewidth": 0,
              "ticks": ""
             }
            },
            "type": "scattermapbox"
           }
          ],
          "scatterpolar": [
           {
            "marker": {
             "colorbar": {
              "outlinewidth": 0,
              "ticks": ""
             }
            },
            "type": "scatterpolar"
           }
          ],
          "scatterpolargl": [
           {
            "marker": {
             "colorbar": {
              "outlinewidth": 0,
              "ticks": ""
             }
            },
            "type": "scatterpolargl"
           }
          ],
          "scatterternary": [
           {
            "marker": {
             "colorbar": {
              "outlinewidth": 0,
              "ticks": ""
             }
            },
            "type": "scatterternary"
           }
          ],
          "surface": [
           {
            "colorbar": {
             "outlinewidth": 0,
             "ticks": ""
            },
            "colorscale": [
             [
              0,
              "#0d0887"
             ],
             [
              0.1111111111111111,
              "#46039f"
             ],
             [
              0.2222222222222222,
              "#7201a8"
             ],
             [
              0.3333333333333333,
              "#9c179e"
             ],
             [
              0.4444444444444444,
              "#bd3786"
             ],
             [
              0.5555555555555556,
              "#d8576b"
             ],
             [
              0.6666666666666666,
              "#ed7953"
             ],
             [
              0.7777777777777778,
              "#fb9f3a"
             ],
             [
              0.8888888888888888,
              "#fdca26"
             ],
             [
              1,
              "#f0f921"
             ]
            ],
            "type": "surface"
           }
          ],
          "table": [
           {
            "cells": {
             "fill": {
              "color": "#EBF0F8"
             },
             "line": {
              "color": "white"
             }
            },
            "header": {
             "fill": {
              "color": "#C8D4E3"
             },
             "line": {
              "color": "white"
             }
            },
            "type": "table"
           }
          ]
         },
         "layout": {
          "annotationdefaults": {
           "arrowcolor": "#2a3f5f",
           "arrowhead": 0,
           "arrowwidth": 1
          },
          "autotypenumbers": "strict",
          "coloraxis": {
           "colorbar": {
            "outlinewidth": 0,
            "ticks": ""
           }
          },
          "colorscale": {
           "diverging": [
            [
             0,
             "#8e0152"
            ],
            [
             0.1,
             "#c51b7d"
            ],
            [
             0.2,
             "#de77ae"
            ],
            [
             0.3,
             "#f1b6da"
            ],
            [
             0.4,
             "#fde0ef"
            ],
            [
             0.5,
             "#f7f7f7"
            ],
            [
             0.6,
             "#e6f5d0"
            ],
            [
             0.7,
             "#b8e186"
            ],
            [
             0.8,
             "#7fbc41"
            ],
            [
             0.9,
             "#4d9221"
            ],
            [
             1,
             "#276419"
            ]
           ],
           "sequential": [
            [
             0,
             "#0d0887"
            ],
            [
             0.1111111111111111,
             "#46039f"
            ],
            [
             0.2222222222222222,
             "#7201a8"
            ],
            [
             0.3333333333333333,
             "#9c179e"
            ],
            [
             0.4444444444444444,
             "#bd3786"
            ],
            [
             0.5555555555555556,
             "#d8576b"
            ],
            [
             0.6666666666666666,
             "#ed7953"
            ],
            [
             0.7777777777777778,
             "#fb9f3a"
            ],
            [
             0.8888888888888888,
             "#fdca26"
            ],
            [
             1,
             "#f0f921"
            ]
           ],
           "sequentialminus": [
            [
             0,
             "#0d0887"
            ],
            [
             0.1111111111111111,
             "#46039f"
            ],
            [
             0.2222222222222222,
             "#7201a8"
            ],
            [
             0.3333333333333333,
             "#9c179e"
            ],
            [
             0.4444444444444444,
             "#bd3786"
            ],
            [
             0.5555555555555556,
             "#d8576b"
            ],
            [
             0.6666666666666666,
             "#ed7953"
            ],
            [
             0.7777777777777778,
             "#fb9f3a"
            ],
            [
             0.8888888888888888,
             "#fdca26"
            ],
            [
             1,
             "#f0f921"
            ]
           ]
          },
          "colorway": [
           "#636efa",
           "#EF553B",
           "#00cc96",
           "#ab63fa",
           "#FFA15A",
           "#19d3f3",
           "#FF6692",
           "#B6E880",
           "#FF97FF",
           "#FECB52"
          ],
          "font": {
           "color": "#2a3f5f"
          },
          "geo": {
           "bgcolor": "white",
           "lakecolor": "white",
           "landcolor": "#E5ECF6",
           "showlakes": true,
           "showland": true,
           "subunitcolor": "white"
          },
          "hoverlabel": {
           "align": "left"
          },
          "hovermode": "closest",
          "mapbox": {
           "style": "light"
          },
          "paper_bgcolor": "white",
          "plot_bgcolor": "#E5ECF6",
          "polar": {
           "angularaxis": {
            "gridcolor": "white",
            "linecolor": "white",
            "ticks": ""
           },
           "bgcolor": "#E5ECF6",
           "radialaxis": {
            "gridcolor": "white",
            "linecolor": "white",
            "ticks": ""
           }
          },
          "scene": {
           "xaxis": {
            "backgroundcolor": "#E5ECF6",
            "gridcolor": "white",
            "gridwidth": 2,
            "linecolor": "white",
            "showbackground": true,
            "ticks": "",
            "zerolinecolor": "white"
           },
           "yaxis": {
            "backgroundcolor": "#E5ECF6",
            "gridcolor": "white",
            "gridwidth": 2,
            "linecolor": "white",
            "showbackground": true,
            "ticks": "",
            "zerolinecolor": "white"
           },
           "zaxis": {
            "backgroundcolor": "#E5ECF6",
            "gridcolor": "white",
            "gridwidth": 2,
            "linecolor": "white",
            "showbackground": true,
            "ticks": "",
            "zerolinecolor": "white"
           }
          },
          "shapedefaults": {
           "line": {
            "color": "#2a3f5f"
           }
          },
          "ternary": {
           "aaxis": {
            "gridcolor": "white",
            "linecolor": "white",
            "ticks": ""
           },
           "baxis": {
            "gridcolor": "white",
            "linecolor": "white",
            "ticks": ""
           },
           "bgcolor": "#E5ECF6",
           "caxis": {
            "gridcolor": "white",
            "linecolor": "white",
            "ticks": ""
           }
          },
          "title": {
           "x": 0.05
          },
          "xaxis": {
           "automargin": true,
           "gridcolor": "white",
           "linecolor": "white",
           "ticks": "",
           "title": {
            "standoff": 15
           },
           "zerolinecolor": "white",
           "zerolinewidth": 2
          },
          "yaxis": {
           "automargin": true,
           "gridcolor": "white",
           "linecolor": "white",
           "ticks": "",
           "title": {
            "standoff": 15
           },
           "zerolinecolor": "white",
           "zerolinewidth": 2
          }
         }
        },
        "title": {
         "text": "OS Used to open Webpage"
        }
       }
      },
      "text/html": [
       "<div>                            <div id=\"6c4f6112-06c4-4b1a-9d38-5e4b2c888472\" class=\"plotly-graph-div\" style=\"height:525px; width:100%;\"></div>            <script type=\"text/javascript\">                require([\"plotly\"], function(Plotly) {                    window.PLOTLYENV=window.PLOTLYENV || {};                                    if (document.getElementById(\"6c4f6112-06c4-4b1a-9d38-5e4b2c888472\")) {                    Plotly.newPlot(                        \"6c4f6112-06c4-4b1a-9d38-5e4b2c888472\",                        [{\"domain\": {\"x\": [0.0, 1.0], \"y\": [0.0, 1.0]}, \"hovertemplate\": \"label=%{label}<br>value=%{value}<extra></extra>\", \"labels\": [\"Windows\", \"Machintosh\", \"Linux\", \"Other\"], \"legendgroup\": \"\", \"name\": \"\", \"showlegend\": true, \"type\": \"pie\", \"values\": [1369, 0, 373, 1604]}],                        {\"legend\": {\"tracegroupgap\": 0}, \"template\": {\"data\": {\"bar\": [{\"error_x\": {\"color\": \"#2a3f5f\"}, \"error_y\": {\"color\": \"#2a3f5f\"}, \"marker\": {\"line\": {\"color\": \"#E5ECF6\", \"width\": 0.5}}, \"type\": \"bar\"}], \"barpolar\": [{\"marker\": {\"line\": {\"color\": \"#E5ECF6\", \"width\": 0.5}}, \"type\": \"barpolar\"}], \"carpet\": [{\"aaxis\": {\"endlinecolor\": \"#2a3f5f\", \"gridcolor\": \"white\", \"linecolor\": \"white\", \"minorgridcolor\": \"white\", \"startlinecolor\": \"#2a3f5f\"}, \"baxis\": {\"endlinecolor\": \"#2a3f5f\", \"gridcolor\": \"white\", \"linecolor\": \"white\", \"minorgridcolor\": \"white\", \"startlinecolor\": \"#2a3f5f\"}, \"type\": \"carpet\"}], \"choropleth\": [{\"colorbar\": {\"outlinewidth\": 0, \"ticks\": \"\"}, \"type\": \"choropleth\"}], \"contour\": [{\"colorbar\": {\"outlinewidth\": 0, \"ticks\": \"\"}, \"colorscale\": [[0.0, \"#0d0887\"], [0.1111111111111111, \"#46039f\"], [0.2222222222222222, \"#7201a8\"], [0.3333333333333333, \"#9c179e\"], [0.4444444444444444, \"#bd3786\"], [0.5555555555555556, \"#d8576b\"], [0.6666666666666666, \"#ed7953\"], [0.7777777777777778, \"#fb9f3a\"], [0.8888888888888888, \"#fdca26\"], [1.0, \"#f0f921\"]], \"type\": \"contour\"}], \"contourcarpet\": [{\"colorbar\": {\"outlinewidth\": 0, \"ticks\": \"\"}, \"type\": \"contourcarpet\"}], \"heatmap\": [{\"colorbar\": {\"outlinewidth\": 0, \"ticks\": \"\"}, \"colorscale\": [[0.0, \"#0d0887\"], [0.1111111111111111, \"#46039f\"], [0.2222222222222222, \"#7201a8\"], [0.3333333333333333, \"#9c179e\"], [0.4444444444444444, \"#bd3786\"], [0.5555555555555556, \"#d8576b\"], [0.6666666666666666, \"#ed7953\"], [0.7777777777777778, \"#fb9f3a\"], [0.8888888888888888, \"#fdca26\"], [1.0, \"#f0f921\"]], \"type\": \"heatmap\"}], \"heatmapgl\": [{\"colorbar\": {\"outlinewidth\": 0, \"ticks\": \"\"}, \"colorscale\": [[0.0, \"#0d0887\"], [0.1111111111111111, \"#46039f\"], [0.2222222222222222, \"#7201a8\"], [0.3333333333333333, \"#9c179e\"], [0.4444444444444444, \"#bd3786\"], [0.5555555555555556, \"#d8576b\"], [0.6666666666666666, \"#ed7953\"], [0.7777777777777778, \"#fb9f3a\"], [0.8888888888888888, \"#fdca26\"], [1.0, \"#f0f921\"]], \"type\": \"heatmapgl\"}], \"histogram\": [{\"marker\": {\"colorbar\": {\"outlinewidth\": 0, \"ticks\": \"\"}}, \"type\": \"histogram\"}], \"histogram2d\": [{\"colorbar\": {\"outlinewidth\": 0, \"ticks\": \"\"}, \"colorscale\": [[0.0, \"#0d0887\"], [0.1111111111111111, \"#46039f\"], [0.2222222222222222, \"#7201a8\"], [0.3333333333333333, \"#9c179e\"], [0.4444444444444444, \"#bd3786\"], [0.5555555555555556, \"#d8576b\"], [0.6666666666666666, \"#ed7953\"], [0.7777777777777778, \"#fb9f3a\"], [0.8888888888888888, \"#fdca26\"], [1.0, \"#f0f921\"]], \"type\": \"histogram2d\"}], \"histogram2dcontour\": [{\"colorbar\": {\"outlinewidth\": 0, \"ticks\": \"\"}, \"colorscale\": [[0.0, \"#0d0887\"], [0.1111111111111111, \"#46039f\"], [0.2222222222222222, \"#7201a8\"], [0.3333333333333333, \"#9c179e\"], [0.4444444444444444, \"#bd3786\"], [0.5555555555555556, \"#d8576b\"], [0.6666666666666666, \"#ed7953\"], [0.7777777777777778, \"#fb9f3a\"], [0.8888888888888888, \"#fdca26\"], [1.0, \"#f0f921\"]], \"type\": \"histogram2dcontour\"}], \"mesh3d\": [{\"colorbar\": {\"outlinewidth\": 0, \"ticks\": \"\"}, \"type\": \"mesh3d\"}], \"parcoords\": [{\"line\": {\"colorbar\": {\"outlinewidth\": 0, \"ticks\": \"\"}}, \"type\": \"parcoords\"}], \"pie\": [{\"automargin\": true, \"type\": \"pie\"}], \"scatter\": [{\"marker\": {\"colorbar\": {\"outlinewidth\": 0, \"ticks\": \"\"}}, \"type\": \"scatter\"}], \"scatter3d\": [{\"line\": {\"colorbar\": {\"outlinewidth\": 0, \"ticks\": \"\"}}, \"marker\": {\"colorbar\": {\"outlinewidth\": 0, \"ticks\": \"\"}}, \"type\": \"scatter3d\"}], \"scattercarpet\": [{\"marker\": {\"colorbar\": {\"outlinewidth\": 0, \"ticks\": \"\"}}, \"type\": \"scattercarpet\"}], \"scattergeo\": [{\"marker\": {\"colorbar\": {\"outlinewidth\": 0, \"ticks\": \"\"}}, \"type\": \"scattergeo\"}], \"scattergl\": [{\"marker\": {\"colorbar\": {\"outlinewidth\": 0, \"ticks\": \"\"}}, \"type\": \"scattergl\"}], \"scattermapbox\": [{\"marker\": {\"colorbar\": {\"outlinewidth\": 0, \"ticks\": \"\"}}, \"type\": \"scattermapbox\"}], \"scatterpolar\": [{\"marker\": {\"colorbar\": {\"outlinewidth\": 0, \"ticks\": \"\"}}, \"type\": \"scatterpolar\"}], \"scatterpolargl\": [{\"marker\": {\"colorbar\": {\"outlinewidth\": 0, \"ticks\": \"\"}}, \"type\": \"scatterpolargl\"}], \"scatterternary\": [{\"marker\": {\"colorbar\": {\"outlinewidth\": 0, \"ticks\": \"\"}}, \"type\": \"scatterternary\"}], \"surface\": [{\"colorbar\": {\"outlinewidth\": 0, \"ticks\": \"\"}, \"colorscale\": [[0.0, \"#0d0887\"], [0.1111111111111111, \"#46039f\"], [0.2222222222222222, \"#7201a8\"], [0.3333333333333333, \"#9c179e\"], [0.4444444444444444, \"#bd3786\"], [0.5555555555555556, \"#d8576b\"], [0.6666666666666666, \"#ed7953\"], [0.7777777777777778, \"#fb9f3a\"], [0.8888888888888888, \"#fdca26\"], [1.0, \"#f0f921\"]], \"type\": \"surface\"}], \"table\": [{\"cells\": {\"fill\": {\"color\": \"#EBF0F8\"}, \"line\": {\"color\": \"white\"}}, \"header\": {\"fill\": {\"color\": \"#C8D4E3\"}, \"line\": {\"color\": \"white\"}}, \"type\": \"table\"}]}, \"layout\": {\"annotationdefaults\": {\"arrowcolor\": \"#2a3f5f\", \"arrowhead\": 0, \"arrowwidth\": 1}, \"autotypenumbers\": \"strict\", \"coloraxis\": {\"colorbar\": {\"outlinewidth\": 0, \"ticks\": \"\"}}, \"colorscale\": {\"diverging\": [[0, \"#8e0152\"], [0.1, \"#c51b7d\"], [0.2, \"#de77ae\"], [0.3, \"#f1b6da\"], [0.4, \"#fde0ef\"], [0.5, \"#f7f7f7\"], [0.6, \"#e6f5d0\"], [0.7, \"#b8e186\"], [0.8, \"#7fbc41\"], [0.9, \"#4d9221\"], [1, \"#276419\"]], \"sequential\": [[0.0, \"#0d0887\"], [0.1111111111111111, \"#46039f\"], [0.2222222222222222, \"#7201a8\"], [0.3333333333333333, \"#9c179e\"], [0.4444444444444444, \"#bd3786\"], [0.5555555555555556, \"#d8576b\"], [0.6666666666666666, \"#ed7953\"], [0.7777777777777778, \"#fb9f3a\"], [0.8888888888888888, \"#fdca26\"], [1.0, \"#f0f921\"]], \"sequentialminus\": [[0.0, \"#0d0887\"], [0.1111111111111111, \"#46039f\"], [0.2222222222222222, \"#7201a8\"], [0.3333333333333333, \"#9c179e\"], [0.4444444444444444, \"#bd3786\"], [0.5555555555555556, \"#d8576b\"], [0.6666666666666666, \"#ed7953\"], [0.7777777777777778, \"#fb9f3a\"], [0.8888888888888888, \"#fdca26\"], [1.0, \"#f0f921\"]]}, \"colorway\": [\"#636efa\", \"#EF553B\", \"#00cc96\", \"#ab63fa\", \"#FFA15A\", \"#19d3f3\", \"#FF6692\", \"#B6E880\", \"#FF97FF\", \"#FECB52\"], \"font\": {\"color\": \"#2a3f5f\"}, \"geo\": {\"bgcolor\": \"white\", \"lakecolor\": \"white\", \"landcolor\": \"#E5ECF6\", \"showlakes\": true, \"showland\": true, \"subunitcolor\": \"white\"}, \"hoverlabel\": {\"align\": \"left\"}, \"hovermode\": \"closest\", \"mapbox\": {\"style\": \"light\"}, \"paper_bgcolor\": \"white\", \"plot_bgcolor\": \"#E5ECF6\", \"polar\": {\"angularaxis\": {\"gridcolor\": \"white\", \"linecolor\": \"white\", \"ticks\": \"\"}, \"bgcolor\": \"#E5ECF6\", \"radialaxis\": {\"gridcolor\": \"white\", \"linecolor\": \"white\", \"ticks\": \"\"}}, \"scene\": {\"xaxis\": {\"backgroundcolor\": \"#E5ECF6\", \"gridcolor\": \"white\", \"gridwidth\": 2, \"linecolor\": \"white\", \"showbackground\": true, \"ticks\": \"\", \"zerolinecolor\": \"white\"}, \"yaxis\": {\"backgroundcolor\": \"#E5ECF6\", \"gridcolor\": \"white\", \"gridwidth\": 2, \"linecolor\": \"white\", \"showbackground\": true, \"ticks\": \"\", \"zerolinecolor\": \"white\"}, \"zaxis\": {\"backgroundcolor\": \"#E5ECF6\", \"gridcolor\": \"white\", \"gridwidth\": 2, \"linecolor\": \"white\", \"showbackground\": true, \"ticks\": \"\", \"zerolinecolor\": \"white\"}}, \"shapedefaults\": {\"line\": {\"color\": \"#2a3f5f\"}}, \"ternary\": {\"aaxis\": {\"gridcolor\": \"white\", \"linecolor\": \"white\", \"ticks\": \"\"}, \"baxis\": {\"gridcolor\": \"white\", \"linecolor\": \"white\", \"ticks\": \"\"}, \"bgcolor\": \"#E5ECF6\", \"caxis\": {\"gridcolor\": \"white\", \"linecolor\": \"white\", \"ticks\": \"\"}}, \"title\": {\"x\": 0.05}, \"xaxis\": {\"automargin\": true, \"gridcolor\": \"white\", \"linecolor\": \"white\", \"ticks\": \"\", \"title\": {\"standoff\": 15}, \"zerolinecolor\": \"white\", \"zerolinewidth\": 2}, \"yaxis\": {\"automargin\": true, \"gridcolor\": \"white\", \"linecolor\": \"white\", \"ticks\": \"\", \"title\": {\"standoff\": 15}, \"zerolinecolor\": \"white\", \"zerolinewidth\": 2}}}, \"title\": {\"text\": \"OS Used to open Webpage\"}},                        {\"responsive\": true}                    ).then(function(){\n",
       "                            \n",
       "var gd = document.getElementById('6c4f6112-06c4-4b1a-9d38-5e4b2c888472');\n",
       "var x = new MutationObserver(function (mutations, observer) {{\n",
       "        var display = window.getComputedStyle(gd).display;\n",
       "        if (!display || display === 'none') {{\n",
       "            console.log([gd, 'removed!']);\n",
       "            Plotly.purge(gd);\n",
       "            observer.disconnect();\n",
       "        }}\n",
       "}});\n",
       "\n",
       "// Listen for the removal of the full notebook cells\n",
       "var notebookContainer = gd.closest('#notebook-container');\n",
       "if (notebookContainer) {{\n",
       "    x.observe(notebookContainer, {childList: true});\n",
       "}}\n",
       "\n",
       "// Listen for the clearing of the current output cell\n",
       "var outputEl = gd.closest('.output');\n",
       "if (outputEl) {{\n",
       "    x.observe(outputEl, {childList: true});\n",
       "}}\n",
       "\n",
       "                        })                };                });            </script>        </div>"
      ]
     },
     "metadata": {},
     "output_type": "display_data"
    }
   ],
   "source": [
    "OS = OS_dict(df.browser)\n",
    "px.pie( values=list(OS.values()), names=list(OS.keys()), title='OS Used to open Webpage')"
   ]
  },
  {
   "cell_type": "markdown",
   "metadata": {},
   "source": [
    "# 2. b.)Browser Used to Open Webpage"
   ]
  },
  {
   "cell_type": "code",
   "execution_count": 62,
   "metadata": {},
   "outputs": [],
   "source": [
    "def brwsr_dict(browser_series):\n",
    "    brwsr = ['Firefox','Chrome','Opera','Edge','Other']\n",
    "    res_dict = {o:0 for o in brwsr}\n",
    "    for browser in browser_series:\n",
    "        flag = 0\n",
    "        for i in brwsr[:-1]:\n",
    "            if i in browser:\n",
    "                res_dict[i]+=1\n",
    "                flag = 1\n",
    "                break\n",
    "        if flag==0:\n",
    "            res_dict['Other']+=1\n",
    "    return res_dict"
   ]
  },
  {
   "cell_type": "code",
   "execution_count": 63,
   "metadata": {},
   "outputs": [
    {
     "data": {
      "application/vnd.plotly.v1+json": {
       "config": {
        "plotlyServerURL": "https://plot.ly"
       },
       "data": [
        {
         "domain": {
          "x": [
           0,
           1
          ],
          "y": [
           0,
           1
          ]
         },
         "hovertemplate": "label=%{label}<br>value=%{value}<extra></extra>",
         "labels": [
          "Firefox",
          "Chrome",
          "Opera",
          "Edge",
          "Other"
         ],
         "legendgroup": "",
         "name": "",
         "showlegend": true,
         "type": "pie",
         "values": [
          580,
          277,
          132,
          0,
          2357
         ]
        }
       ],
       "layout": {
        "legend": {
         "tracegroupgap": 0
        },
        "template": {
         "data": {
          "bar": [
           {
            "error_x": {
             "color": "#2a3f5f"
            },
            "error_y": {
             "color": "#2a3f5f"
            },
            "marker": {
             "line": {
              "color": "#E5ECF6",
              "width": 0.5
             }
            },
            "type": "bar"
           }
          ],
          "barpolar": [
           {
            "marker": {
             "line": {
              "color": "#E5ECF6",
              "width": 0.5
             }
            },
            "type": "barpolar"
           }
          ],
          "carpet": [
           {
            "aaxis": {
             "endlinecolor": "#2a3f5f",
             "gridcolor": "white",
             "linecolor": "white",
             "minorgridcolor": "white",
             "startlinecolor": "#2a3f5f"
            },
            "baxis": {
             "endlinecolor": "#2a3f5f",
             "gridcolor": "white",
             "linecolor": "white",
             "minorgridcolor": "white",
             "startlinecolor": "#2a3f5f"
            },
            "type": "carpet"
           }
          ],
          "choropleth": [
           {
            "colorbar": {
             "outlinewidth": 0,
             "ticks": ""
            },
            "type": "choropleth"
           }
          ],
          "contour": [
           {
            "colorbar": {
             "outlinewidth": 0,
             "ticks": ""
            },
            "colorscale": [
             [
              0,
              "#0d0887"
             ],
             [
              0.1111111111111111,
              "#46039f"
             ],
             [
              0.2222222222222222,
              "#7201a8"
             ],
             [
              0.3333333333333333,
              "#9c179e"
             ],
             [
              0.4444444444444444,
              "#bd3786"
             ],
             [
              0.5555555555555556,
              "#d8576b"
             ],
             [
              0.6666666666666666,
              "#ed7953"
             ],
             [
              0.7777777777777778,
              "#fb9f3a"
             ],
             [
              0.8888888888888888,
              "#fdca26"
             ],
             [
              1,
              "#f0f921"
             ]
            ],
            "type": "contour"
           }
          ],
          "contourcarpet": [
           {
            "colorbar": {
             "outlinewidth": 0,
             "ticks": ""
            },
            "type": "contourcarpet"
           }
          ],
          "heatmap": [
           {
            "colorbar": {
             "outlinewidth": 0,
             "ticks": ""
            },
            "colorscale": [
             [
              0,
              "#0d0887"
             ],
             [
              0.1111111111111111,
              "#46039f"
             ],
             [
              0.2222222222222222,
              "#7201a8"
             ],
             [
              0.3333333333333333,
              "#9c179e"
             ],
             [
              0.4444444444444444,
              "#bd3786"
             ],
             [
              0.5555555555555556,
              "#d8576b"
             ],
             [
              0.6666666666666666,
              "#ed7953"
             ],
             [
              0.7777777777777778,
              "#fb9f3a"
             ],
             [
              0.8888888888888888,
              "#fdca26"
             ],
             [
              1,
              "#f0f921"
             ]
            ],
            "type": "heatmap"
           }
          ],
          "heatmapgl": [
           {
            "colorbar": {
             "outlinewidth": 0,
             "ticks": ""
            },
            "colorscale": [
             [
              0,
              "#0d0887"
             ],
             [
              0.1111111111111111,
              "#46039f"
             ],
             [
              0.2222222222222222,
              "#7201a8"
             ],
             [
              0.3333333333333333,
              "#9c179e"
             ],
             [
              0.4444444444444444,
              "#bd3786"
             ],
             [
              0.5555555555555556,
              "#d8576b"
             ],
             [
              0.6666666666666666,
              "#ed7953"
             ],
             [
              0.7777777777777778,
              "#fb9f3a"
             ],
             [
              0.8888888888888888,
              "#fdca26"
             ],
             [
              1,
              "#f0f921"
             ]
            ],
            "type": "heatmapgl"
           }
          ],
          "histogram": [
           {
            "marker": {
             "colorbar": {
              "outlinewidth": 0,
              "ticks": ""
             }
            },
            "type": "histogram"
           }
          ],
          "histogram2d": [
           {
            "colorbar": {
             "outlinewidth": 0,
             "ticks": ""
            },
            "colorscale": [
             [
              0,
              "#0d0887"
             ],
             [
              0.1111111111111111,
              "#46039f"
             ],
             [
              0.2222222222222222,
              "#7201a8"
             ],
             [
              0.3333333333333333,
              "#9c179e"
             ],
             [
              0.4444444444444444,
              "#bd3786"
             ],
             [
              0.5555555555555556,
              "#d8576b"
             ],
             [
              0.6666666666666666,
              "#ed7953"
             ],
             [
              0.7777777777777778,
              "#fb9f3a"
             ],
             [
              0.8888888888888888,
              "#fdca26"
             ],
             [
              1,
              "#f0f921"
             ]
            ],
            "type": "histogram2d"
           }
          ],
          "histogram2dcontour": [
           {
            "colorbar": {
             "outlinewidth": 0,
             "ticks": ""
            },
            "colorscale": [
             [
              0,
              "#0d0887"
             ],
             [
              0.1111111111111111,
              "#46039f"
             ],
             [
              0.2222222222222222,
              "#7201a8"
             ],
             [
              0.3333333333333333,
              "#9c179e"
             ],
             [
              0.4444444444444444,
              "#bd3786"
             ],
             [
              0.5555555555555556,
              "#d8576b"
             ],
             [
              0.6666666666666666,
              "#ed7953"
             ],
             [
              0.7777777777777778,
              "#fb9f3a"
             ],
             [
              0.8888888888888888,
              "#fdca26"
             ],
             [
              1,
              "#f0f921"
             ]
            ],
            "type": "histogram2dcontour"
           }
          ],
          "mesh3d": [
           {
            "colorbar": {
             "outlinewidth": 0,
             "ticks": ""
            },
            "type": "mesh3d"
           }
          ],
          "parcoords": [
           {
            "line": {
             "colorbar": {
              "outlinewidth": 0,
              "ticks": ""
             }
            },
            "type": "parcoords"
           }
          ],
          "pie": [
           {
            "automargin": true,
            "type": "pie"
           }
          ],
          "scatter": [
           {
            "marker": {
             "colorbar": {
              "outlinewidth": 0,
              "ticks": ""
             }
            },
            "type": "scatter"
           }
          ],
          "scatter3d": [
           {
            "line": {
             "colorbar": {
              "outlinewidth": 0,
              "ticks": ""
             }
            },
            "marker": {
             "colorbar": {
              "outlinewidth": 0,
              "ticks": ""
             }
            },
            "type": "scatter3d"
           }
          ],
          "scattercarpet": [
           {
            "marker": {
             "colorbar": {
              "outlinewidth": 0,
              "ticks": ""
             }
            },
            "type": "scattercarpet"
           }
          ],
          "scattergeo": [
           {
            "marker": {
             "colorbar": {
              "outlinewidth": 0,
              "ticks": ""
             }
            },
            "type": "scattergeo"
           }
          ],
          "scattergl": [
           {
            "marker": {
             "colorbar": {
              "outlinewidth": 0,
              "ticks": ""
             }
            },
            "type": "scattergl"
           }
          ],
          "scattermapbox": [
           {
            "marker": {
             "colorbar": {
              "outlinewidth": 0,
              "ticks": ""
             }
            },
            "type": "scattermapbox"
           }
          ],
          "scatterpolar": [
           {
            "marker": {
             "colorbar": {
              "outlinewidth": 0,
              "ticks": ""
             }
            },
            "type": "scatterpolar"
           }
          ],
          "scatterpolargl": [
           {
            "marker": {
             "colorbar": {
              "outlinewidth": 0,
              "ticks": ""
             }
            },
            "type": "scatterpolargl"
           }
          ],
          "scatterternary": [
           {
            "marker": {
             "colorbar": {
              "outlinewidth": 0,
              "ticks": ""
             }
            },
            "type": "scatterternary"
           }
          ],
          "surface": [
           {
            "colorbar": {
             "outlinewidth": 0,
             "ticks": ""
            },
            "colorscale": [
             [
              0,
              "#0d0887"
             ],
             [
              0.1111111111111111,
              "#46039f"
             ],
             [
              0.2222222222222222,
              "#7201a8"
             ],
             [
              0.3333333333333333,
              "#9c179e"
             ],
             [
              0.4444444444444444,
              "#bd3786"
             ],
             [
              0.5555555555555556,
              "#d8576b"
             ],
             [
              0.6666666666666666,
              "#ed7953"
             ],
             [
              0.7777777777777778,
              "#fb9f3a"
             ],
             [
              0.8888888888888888,
              "#fdca26"
             ],
             [
              1,
              "#f0f921"
             ]
            ],
            "type": "surface"
           }
          ],
          "table": [
           {
            "cells": {
             "fill": {
              "color": "#EBF0F8"
             },
             "line": {
              "color": "white"
             }
            },
            "header": {
             "fill": {
              "color": "#C8D4E3"
             },
             "line": {
              "color": "white"
             }
            },
            "type": "table"
           }
          ]
         },
         "layout": {
          "annotationdefaults": {
           "arrowcolor": "#2a3f5f",
           "arrowhead": 0,
           "arrowwidth": 1
          },
          "autotypenumbers": "strict",
          "coloraxis": {
           "colorbar": {
            "outlinewidth": 0,
            "ticks": ""
           }
          },
          "colorscale": {
           "diverging": [
            [
             0,
             "#8e0152"
            ],
            [
             0.1,
             "#c51b7d"
            ],
            [
             0.2,
             "#de77ae"
            ],
            [
             0.3,
             "#f1b6da"
            ],
            [
             0.4,
             "#fde0ef"
            ],
            [
             0.5,
             "#f7f7f7"
            ],
            [
             0.6,
             "#e6f5d0"
            ],
            [
             0.7,
             "#b8e186"
            ],
            [
             0.8,
             "#7fbc41"
            ],
            [
             0.9,
             "#4d9221"
            ],
            [
             1,
             "#276419"
            ]
           ],
           "sequential": [
            [
             0,
             "#0d0887"
            ],
            [
             0.1111111111111111,
             "#46039f"
            ],
            [
             0.2222222222222222,
             "#7201a8"
            ],
            [
             0.3333333333333333,
             "#9c179e"
            ],
            [
             0.4444444444444444,
             "#bd3786"
            ],
            [
             0.5555555555555556,
             "#d8576b"
            ],
            [
             0.6666666666666666,
             "#ed7953"
            ],
            [
             0.7777777777777778,
             "#fb9f3a"
            ],
            [
             0.8888888888888888,
             "#fdca26"
            ],
            [
             1,
             "#f0f921"
            ]
           ],
           "sequentialminus": [
            [
             0,
             "#0d0887"
            ],
            [
             0.1111111111111111,
             "#46039f"
            ],
            [
             0.2222222222222222,
             "#7201a8"
            ],
            [
             0.3333333333333333,
             "#9c179e"
            ],
            [
             0.4444444444444444,
             "#bd3786"
            ],
            [
             0.5555555555555556,
             "#d8576b"
            ],
            [
             0.6666666666666666,
             "#ed7953"
            ],
            [
             0.7777777777777778,
             "#fb9f3a"
            ],
            [
             0.8888888888888888,
             "#fdca26"
            ],
            [
             1,
             "#f0f921"
            ]
           ]
          },
          "colorway": [
           "#636efa",
           "#EF553B",
           "#00cc96",
           "#ab63fa",
           "#FFA15A",
           "#19d3f3",
           "#FF6692",
           "#B6E880",
           "#FF97FF",
           "#FECB52"
          ],
          "font": {
           "color": "#2a3f5f"
          },
          "geo": {
           "bgcolor": "white",
           "lakecolor": "white",
           "landcolor": "#E5ECF6",
           "showlakes": true,
           "showland": true,
           "subunitcolor": "white"
          },
          "hoverlabel": {
           "align": "left"
          },
          "hovermode": "closest",
          "mapbox": {
           "style": "light"
          },
          "paper_bgcolor": "white",
          "plot_bgcolor": "#E5ECF6",
          "polar": {
           "angularaxis": {
            "gridcolor": "white",
            "linecolor": "white",
            "ticks": ""
           },
           "bgcolor": "#E5ECF6",
           "radialaxis": {
            "gridcolor": "white",
            "linecolor": "white",
            "ticks": ""
           }
          },
          "scene": {
           "xaxis": {
            "backgroundcolor": "#E5ECF6",
            "gridcolor": "white",
            "gridwidth": 2,
            "linecolor": "white",
            "showbackground": true,
            "ticks": "",
            "zerolinecolor": "white"
           },
           "yaxis": {
            "backgroundcolor": "#E5ECF6",
            "gridcolor": "white",
            "gridwidth": 2,
            "linecolor": "white",
            "showbackground": true,
            "ticks": "",
            "zerolinecolor": "white"
           },
           "zaxis": {
            "backgroundcolor": "#E5ECF6",
            "gridcolor": "white",
            "gridwidth": 2,
            "linecolor": "white",
            "showbackground": true,
            "ticks": "",
            "zerolinecolor": "white"
           }
          },
          "shapedefaults": {
           "line": {
            "color": "#2a3f5f"
           }
          },
          "ternary": {
           "aaxis": {
            "gridcolor": "white",
            "linecolor": "white",
            "ticks": ""
           },
           "baxis": {
            "gridcolor": "white",
            "linecolor": "white",
            "ticks": ""
           },
           "bgcolor": "#E5ECF6",
           "caxis": {
            "gridcolor": "white",
            "linecolor": "white",
            "ticks": ""
           }
          },
          "title": {
           "x": 0.05
          },
          "xaxis": {
           "automargin": true,
           "gridcolor": "white",
           "linecolor": "white",
           "ticks": "",
           "title": {
            "standoff": 15
           },
           "zerolinecolor": "white",
           "zerolinewidth": 2
          },
          "yaxis": {
           "automargin": true,
           "gridcolor": "white",
           "linecolor": "white",
           "ticks": "",
           "title": {
            "standoff": 15
           },
           "zerolinecolor": "white",
           "zerolinewidth": 2
          }
         }
        },
        "title": {
         "text": "Browser Used to open Webpage"
        }
       }
      },
      "text/html": [
       "<div>                            <div id=\"e555f86e-1609-46d9-8b2e-892e091abb73\" class=\"plotly-graph-div\" style=\"height:525px; width:100%;\"></div>            <script type=\"text/javascript\">                require([\"plotly\"], function(Plotly) {                    window.PLOTLYENV=window.PLOTLYENV || {};                                    if (document.getElementById(\"e555f86e-1609-46d9-8b2e-892e091abb73\")) {                    Plotly.newPlot(                        \"e555f86e-1609-46d9-8b2e-892e091abb73\",                        [{\"domain\": {\"x\": [0.0, 1.0], \"y\": [0.0, 1.0]}, \"hovertemplate\": \"label=%{label}<br>value=%{value}<extra></extra>\", \"labels\": [\"Firefox\", \"Chrome\", \"Opera\", \"Edge\", \"Other\"], \"legendgroup\": \"\", \"name\": \"\", \"showlegend\": true, \"type\": \"pie\", \"values\": [580, 277, 132, 0, 2357]}],                        {\"legend\": {\"tracegroupgap\": 0}, \"template\": {\"data\": {\"bar\": [{\"error_x\": {\"color\": \"#2a3f5f\"}, \"error_y\": {\"color\": \"#2a3f5f\"}, \"marker\": {\"line\": {\"color\": \"#E5ECF6\", \"width\": 0.5}}, \"type\": \"bar\"}], \"barpolar\": [{\"marker\": {\"line\": {\"color\": \"#E5ECF6\", \"width\": 0.5}}, \"type\": \"barpolar\"}], \"carpet\": [{\"aaxis\": {\"endlinecolor\": \"#2a3f5f\", \"gridcolor\": \"white\", \"linecolor\": \"white\", \"minorgridcolor\": \"white\", \"startlinecolor\": \"#2a3f5f\"}, \"baxis\": {\"endlinecolor\": \"#2a3f5f\", \"gridcolor\": \"white\", \"linecolor\": \"white\", \"minorgridcolor\": \"white\", \"startlinecolor\": \"#2a3f5f\"}, \"type\": \"carpet\"}], \"choropleth\": [{\"colorbar\": {\"outlinewidth\": 0, \"ticks\": \"\"}, \"type\": \"choropleth\"}], \"contour\": [{\"colorbar\": {\"outlinewidth\": 0, \"ticks\": \"\"}, \"colorscale\": [[0.0, \"#0d0887\"], [0.1111111111111111, \"#46039f\"], [0.2222222222222222, \"#7201a8\"], [0.3333333333333333, \"#9c179e\"], [0.4444444444444444, \"#bd3786\"], [0.5555555555555556, \"#d8576b\"], [0.6666666666666666, \"#ed7953\"], [0.7777777777777778, \"#fb9f3a\"], [0.8888888888888888, \"#fdca26\"], [1.0, \"#f0f921\"]], \"type\": \"contour\"}], \"contourcarpet\": [{\"colorbar\": {\"outlinewidth\": 0, \"ticks\": \"\"}, \"type\": \"contourcarpet\"}], \"heatmap\": [{\"colorbar\": {\"outlinewidth\": 0, \"ticks\": \"\"}, \"colorscale\": [[0.0, \"#0d0887\"], [0.1111111111111111, \"#46039f\"], [0.2222222222222222, \"#7201a8\"], [0.3333333333333333, \"#9c179e\"], [0.4444444444444444, \"#bd3786\"], [0.5555555555555556, \"#d8576b\"], [0.6666666666666666, \"#ed7953\"], [0.7777777777777778, \"#fb9f3a\"], [0.8888888888888888, \"#fdca26\"], [1.0, \"#f0f921\"]], \"type\": \"heatmap\"}], \"heatmapgl\": [{\"colorbar\": {\"outlinewidth\": 0, \"ticks\": \"\"}, \"colorscale\": [[0.0, \"#0d0887\"], [0.1111111111111111, \"#46039f\"], [0.2222222222222222, \"#7201a8\"], [0.3333333333333333, \"#9c179e\"], [0.4444444444444444, \"#bd3786\"], [0.5555555555555556, \"#d8576b\"], [0.6666666666666666, \"#ed7953\"], [0.7777777777777778, \"#fb9f3a\"], [0.8888888888888888, \"#fdca26\"], [1.0, \"#f0f921\"]], \"type\": \"heatmapgl\"}], \"histogram\": [{\"marker\": {\"colorbar\": {\"outlinewidth\": 0, \"ticks\": \"\"}}, \"type\": \"histogram\"}], \"histogram2d\": [{\"colorbar\": {\"outlinewidth\": 0, \"ticks\": \"\"}, \"colorscale\": [[0.0, \"#0d0887\"], [0.1111111111111111, \"#46039f\"], [0.2222222222222222, \"#7201a8\"], [0.3333333333333333, \"#9c179e\"], [0.4444444444444444, \"#bd3786\"], [0.5555555555555556, \"#d8576b\"], [0.6666666666666666, \"#ed7953\"], [0.7777777777777778, \"#fb9f3a\"], [0.8888888888888888, \"#fdca26\"], [1.0, \"#f0f921\"]], \"type\": \"histogram2d\"}], \"histogram2dcontour\": [{\"colorbar\": {\"outlinewidth\": 0, \"ticks\": \"\"}, \"colorscale\": [[0.0, \"#0d0887\"], [0.1111111111111111, \"#46039f\"], [0.2222222222222222, \"#7201a8\"], [0.3333333333333333, \"#9c179e\"], [0.4444444444444444, \"#bd3786\"], [0.5555555555555556, \"#d8576b\"], [0.6666666666666666, \"#ed7953\"], [0.7777777777777778, \"#fb9f3a\"], [0.8888888888888888, \"#fdca26\"], [1.0, \"#f0f921\"]], \"type\": \"histogram2dcontour\"}], \"mesh3d\": [{\"colorbar\": {\"outlinewidth\": 0, \"ticks\": \"\"}, \"type\": \"mesh3d\"}], \"parcoords\": [{\"line\": {\"colorbar\": {\"outlinewidth\": 0, \"ticks\": \"\"}}, \"type\": \"parcoords\"}], \"pie\": [{\"automargin\": true, \"type\": \"pie\"}], \"scatter\": [{\"marker\": {\"colorbar\": {\"outlinewidth\": 0, \"ticks\": \"\"}}, \"type\": \"scatter\"}], \"scatter3d\": [{\"line\": {\"colorbar\": {\"outlinewidth\": 0, \"ticks\": \"\"}}, \"marker\": {\"colorbar\": {\"outlinewidth\": 0, \"ticks\": \"\"}}, \"type\": \"scatter3d\"}], \"scattercarpet\": [{\"marker\": {\"colorbar\": {\"outlinewidth\": 0, \"ticks\": \"\"}}, \"type\": \"scattercarpet\"}], \"scattergeo\": [{\"marker\": {\"colorbar\": {\"outlinewidth\": 0, \"ticks\": \"\"}}, \"type\": \"scattergeo\"}], \"scattergl\": [{\"marker\": {\"colorbar\": {\"outlinewidth\": 0, \"ticks\": \"\"}}, \"type\": \"scattergl\"}], \"scattermapbox\": [{\"marker\": {\"colorbar\": {\"outlinewidth\": 0, \"ticks\": \"\"}}, \"type\": \"scattermapbox\"}], \"scatterpolar\": [{\"marker\": {\"colorbar\": {\"outlinewidth\": 0, \"ticks\": \"\"}}, \"type\": \"scatterpolar\"}], \"scatterpolargl\": [{\"marker\": {\"colorbar\": {\"outlinewidth\": 0, \"ticks\": \"\"}}, \"type\": \"scatterpolargl\"}], \"scatterternary\": [{\"marker\": {\"colorbar\": {\"outlinewidth\": 0, \"ticks\": \"\"}}, \"type\": \"scatterternary\"}], \"surface\": [{\"colorbar\": {\"outlinewidth\": 0, \"ticks\": \"\"}, \"colorscale\": [[0.0, \"#0d0887\"], [0.1111111111111111, \"#46039f\"], [0.2222222222222222, \"#7201a8\"], [0.3333333333333333, \"#9c179e\"], [0.4444444444444444, \"#bd3786\"], [0.5555555555555556, \"#d8576b\"], [0.6666666666666666, \"#ed7953\"], [0.7777777777777778, \"#fb9f3a\"], [0.8888888888888888, \"#fdca26\"], [1.0, \"#f0f921\"]], \"type\": \"surface\"}], \"table\": [{\"cells\": {\"fill\": {\"color\": \"#EBF0F8\"}, \"line\": {\"color\": \"white\"}}, \"header\": {\"fill\": {\"color\": \"#C8D4E3\"}, \"line\": {\"color\": \"white\"}}, \"type\": \"table\"}]}, \"layout\": {\"annotationdefaults\": {\"arrowcolor\": \"#2a3f5f\", \"arrowhead\": 0, \"arrowwidth\": 1}, \"autotypenumbers\": \"strict\", \"coloraxis\": {\"colorbar\": {\"outlinewidth\": 0, \"ticks\": \"\"}}, \"colorscale\": {\"diverging\": [[0, \"#8e0152\"], [0.1, \"#c51b7d\"], [0.2, \"#de77ae\"], [0.3, \"#f1b6da\"], [0.4, \"#fde0ef\"], [0.5, \"#f7f7f7\"], [0.6, \"#e6f5d0\"], [0.7, \"#b8e186\"], [0.8, \"#7fbc41\"], [0.9, \"#4d9221\"], [1, \"#276419\"]], \"sequential\": [[0.0, \"#0d0887\"], [0.1111111111111111, \"#46039f\"], [0.2222222222222222, \"#7201a8\"], [0.3333333333333333, \"#9c179e\"], [0.4444444444444444, \"#bd3786\"], [0.5555555555555556, \"#d8576b\"], [0.6666666666666666, \"#ed7953\"], [0.7777777777777778, \"#fb9f3a\"], [0.8888888888888888, \"#fdca26\"], [1.0, \"#f0f921\"]], \"sequentialminus\": [[0.0, \"#0d0887\"], [0.1111111111111111, \"#46039f\"], [0.2222222222222222, \"#7201a8\"], [0.3333333333333333, \"#9c179e\"], [0.4444444444444444, \"#bd3786\"], [0.5555555555555556, \"#d8576b\"], [0.6666666666666666, \"#ed7953\"], [0.7777777777777778, \"#fb9f3a\"], [0.8888888888888888, \"#fdca26\"], [1.0, \"#f0f921\"]]}, \"colorway\": [\"#636efa\", \"#EF553B\", \"#00cc96\", \"#ab63fa\", \"#FFA15A\", \"#19d3f3\", \"#FF6692\", \"#B6E880\", \"#FF97FF\", \"#FECB52\"], \"font\": {\"color\": \"#2a3f5f\"}, \"geo\": {\"bgcolor\": \"white\", \"lakecolor\": \"white\", \"landcolor\": \"#E5ECF6\", \"showlakes\": true, \"showland\": true, \"subunitcolor\": \"white\"}, \"hoverlabel\": {\"align\": \"left\"}, \"hovermode\": \"closest\", \"mapbox\": {\"style\": \"light\"}, \"paper_bgcolor\": \"white\", \"plot_bgcolor\": \"#E5ECF6\", \"polar\": {\"angularaxis\": {\"gridcolor\": \"white\", \"linecolor\": \"white\", \"ticks\": \"\"}, \"bgcolor\": \"#E5ECF6\", \"radialaxis\": {\"gridcolor\": \"white\", \"linecolor\": \"white\", \"ticks\": \"\"}}, \"scene\": {\"xaxis\": {\"backgroundcolor\": \"#E5ECF6\", \"gridcolor\": \"white\", \"gridwidth\": 2, \"linecolor\": \"white\", \"showbackground\": true, \"ticks\": \"\", \"zerolinecolor\": \"white\"}, \"yaxis\": {\"backgroundcolor\": \"#E5ECF6\", \"gridcolor\": \"white\", \"gridwidth\": 2, \"linecolor\": \"white\", \"showbackground\": true, \"ticks\": \"\", \"zerolinecolor\": \"white\"}, \"zaxis\": {\"backgroundcolor\": \"#E5ECF6\", \"gridcolor\": \"white\", \"gridwidth\": 2, \"linecolor\": \"white\", \"showbackground\": true, \"ticks\": \"\", \"zerolinecolor\": \"white\"}}, \"shapedefaults\": {\"line\": {\"color\": \"#2a3f5f\"}}, \"ternary\": {\"aaxis\": {\"gridcolor\": \"white\", \"linecolor\": \"white\", \"ticks\": \"\"}, \"baxis\": {\"gridcolor\": \"white\", \"linecolor\": \"white\", \"ticks\": \"\"}, \"bgcolor\": \"#E5ECF6\", \"caxis\": {\"gridcolor\": \"white\", \"linecolor\": \"white\", \"ticks\": \"\"}}, \"title\": {\"x\": 0.05}, \"xaxis\": {\"automargin\": true, \"gridcolor\": \"white\", \"linecolor\": \"white\", \"ticks\": \"\", \"title\": {\"standoff\": 15}, \"zerolinecolor\": \"white\", \"zerolinewidth\": 2}, \"yaxis\": {\"automargin\": true, \"gridcolor\": \"white\", \"linecolor\": \"white\", \"ticks\": \"\", \"title\": {\"standoff\": 15}, \"zerolinecolor\": \"white\", \"zerolinewidth\": 2}}}, \"title\": {\"text\": \"Browser Used to open Webpage\"}},                        {\"responsive\": true}                    ).then(function(){\n",
       "                            \n",
       "var gd = document.getElementById('e555f86e-1609-46d9-8b2e-892e091abb73');\n",
       "var x = new MutationObserver(function (mutations, observer) {{\n",
       "        var display = window.getComputedStyle(gd).display;\n",
       "        if (!display || display === 'none') {{\n",
       "            console.log([gd, 'removed!']);\n",
       "            Plotly.purge(gd);\n",
       "            observer.disconnect();\n",
       "        }}\n",
       "}});\n",
       "\n",
       "// Listen for the removal of the full notebook cells\n",
       "var notebookContainer = gd.closest('#notebook-container');\n",
       "if (notebookContainer) {{\n",
       "    x.observe(notebookContainer, {childList: true});\n",
       "}}\n",
       "\n",
       "// Listen for the clearing of the current output cell\n",
       "var outputEl = gd.closest('.output');\n",
       "if (outputEl) {{\n",
       "    x.observe(outputEl, {childList: true});\n",
       "}}\n",
       "\n",
       "                        })                };                });            </script>        </div>"
      ]
     },
     "metadata": {},
     "output_type": "display_data"
    }
   ],
   "source": [
    "BROWSER = brwsr_dict(df.browser)\n",
    "px.pie( values=list(BROWSER.values()), names=list(BROWSER.keys()), title='Browser Used to open Webpage')"
   ]
  },
  {
   "cell_type": "markdown",
   "metadata": {},
   "source": [
    "# 3.) Most and Least Visited Webpages"
   ]
  },
  {
   "cell_type": "code",
   "execution_count": 55,
   "metadata": {},
   "outputs": [
    {
     "data": {
      "text/plain": [
       "{'Most visited webpage': ['GET /twiki/pub/TWiki/TWikiLogos/twikiRobot46x50.gif'],\n",
       " 'Least visited webpage': ['GET /twiki/bin/rdiff/TWiki/TWikiPlannedFeatures']}"
      ]
     },
     "execution_count": 55,
     "metadata": {},
     "output_type": "execute_result"
    }
   ],
   "source": [
    "def most_least_visited_webpages(df,n=1,m=1):\n",
    "    result = {}\n",
    "    result['Most visited webpage'] = list(df['action'].value_counts().head(n).index)\n",
    "    result['Least visited webpage'] = list(df['action'].value_counts().tail(m).index)\n",
    "    return result\n",
    "\n",
    "most_least_visited_webpages(df)"
   ]
  },
  {
   "cell_type": "markdown",
   "metadata": {},
   "source": [
    "# 4.) Most and Least Visited Customers"
   ]
  },
  {
   "cell_type": "code",
   "execution_count": 54,
   "metadata": {},
   "outputs": [
    {
     "data": {
      "text/plain": [
       "{'Most visited customer': ['172.17.0.1'],\n",
       " 'Least visited customer': ['p5083cd5d.dip0.t-ipconnect.de']}"
      ]
     },
     "execution_count": 54,
     "metadata": {},
     "output_type": "execute_result"
    }
   ],
   "source": [
    "def most_least_visited_customer(df,n=1,m=1):  \n",
    "    result = {}\n",
    "    result['Most visited customer'] = list(df['User_ID'].value_counts().head(n).index)\n",
    "    result['Least visited customer'] = list(df['User_ID'].value_counts().tail(m).index)\n",
    "    return result\n",
    "\n",
    "most_least_visited_customer(df)"
   ]
  },
  {
   "cell_type": "markdown",
   "metadata": {},
   "source": [
    "# XSS ATTACK"
   ]
  },
  {
   "cell_type": "code",
   "execution_count": 26,
   "metadata": {},
   "outputs": [
    {
     "data": {
      "text/html": [
       "<div>\n",
       "<style scoped>\n",
       "    .dataframe tbody tr th:only-of-type {\n",
       "        vertical-align: middle;\n",
       "    }\n",
       "\n",
       "    .dataframe tbody tr th {\n",
       "        vertical-align: top;\n",
       "    }\n",
       "\n",
       "    .dataframe thead th {\n",
       "        text-align: right;\n",
       "    }\n",
       "</style>\n",
       "<table border=\"1\" class=\"dataframe\">\n",
       "  <thead>\n",
       "    <tr style=\"text-align: right;\">\n",
       "      <th></th>\n",
       "      <th>User_ID</th>\n",
       "      <th>RFC931</th>\n",
       "      <th>User</th>\n",
       "      <th>date</th>\n",
       "      <th>gmt</th>\n",
       "      <th>action</th>\n",
       "      <th>status</th>\n",
       "      <th>size</th>\n",
       "      <th>referrer</th>\n",
       "      <th>browser</th>\n",
       "      <th>country_code</th>\n",
       "      <th>latitude</th>\n",
       "      <th>longitude</th>\n",
       "      <th>alpha_3</th>\n",
       "      <th>XSS_attack</th>\n",
       "    </tr>\n",
       "  </thead>\n",
       "  <tbody>\n",
       "    <tr>\n",
       "      <th>0</th>\n",
       "      <td>127.0.0.1</td>\n",
       "      <td>-</td>\n",
       "      <td>-</td>\n",
       "      <td>15/Jan/2021:08:54:07</td>\n",
       "      <td>+0000</td>\n",
       "      <td>GET /</td>\n",
       "      <td>403</td>\n",
       "      <td>4006</td>\n",
       "      <td>-</td>\n",
       "      <td>curl/7.61.1</td>\n",
       "      <td>Not found</td>\n",
       "      <td>Not found</td>\n",
       "      <td>Not found</td>\n",
       "      <td>Not found</td>\n",
       "      <td>False</td>\n",
       "    </tr>\n",
       "    <tr>\n",
       "      <th>1</th>\n",
       "      <td>127.0.0.1</td>\n",
       "      <td>-</td>\n",
       "      <td>-</td>\n",
       "      <td>15/Jan/2021:08:55:23</td>\n",
       "      <td>+0000</td>\n",
       "      <td>GET /cgi-bin/weakform.py</td>\n",
       "      <td>403</td>\n",
       "      <td>199</td>\n",
       "      <td>-</td>\n",
       "      <td>curl/7.61.1</td>\n",
       "      <td>Not found</td>\n",
       "      <td>Not found</td>\n",
       "      <td>Not found</td>\n",
       "      <td>Not found</td>\n",
       "      <td>False</td>\n",
       "    </tr>\n",
       "    <tr>\n",
       "      <th>2</th>\n",
       "      <td>127.0.0.1</td>\n",
       "      <td>-</td>\n",
       "      <td>-</td>\n",
       "      <td>15/Jan/2021:09:01:38</td>\n",
       "      <td>+0000</td>\n",
       "      <td>GET /cgi-bin/weak_form.py</td>\n",
       "      <td>200</td>\n",
       "      <td>19</td>\n",
       "      <td>-</td>\n",
       "      <td>curl/7.61.1</td>\n",
       "      <td>Not found</td>\n",
       "      <td>Not found</td>\n",
       "      <td>Not found</td>\n",
       "      <td>Not found</td>\n",
       "      <td>False</td>\n",
       "    </tr>\n",
       "    <tr>\n",
       "      <th>3</th>\n",
       "      <td>172.17.0.1</td>\n",
       "      <td>-</td>\n",
       "      <td>-</td>\n",
       "      <td>15/Jan/2021:09:02:14</td>\n",
       "      <td>+0000</td>\n",
       "      <td>GET /</td>\n",
       "      <td>403</td>\n",
       "      <td>4288</td>\n",
       "      <td>-</td>\n",
       "      <td>Mozilla/5.0 (X11; Linux x86_64; rv:84.0) Gecko...</td>\n",
       "      <td>Not found</td>\n",
       "      <td>Not found</td>\n",
       "      <td>Not found</td>\n",
       "      <td>Not found</td>\n",
       "      <td>False</td>\n",
       "    </tr>\n",
       "    <tr>\n",
       "      <th>4</th>\n",
       "      <td>172.17.0.1</td>\n",
       "      <td>-</td>\n",
       "      <td>-</td>\n",
       "      <td>15/Jan/2021:09:02:15</td>\n",
       "      <td>+0000</td>\n",
       "      <td>GET /noindex/common/css/bootstrap.min.css</td>\n",
       "      <td>200</td>\n",
       "      <td>99548</td>\n",
       "      <td>http://172.17.0.2/</td>\n",
       "      <td>Mozilla/5.0 (X11; Linux x86_64; rv:84.0) Gecko...</td>\n",
       "      <td>Not found</td>\n",
       "      <td>Not found</td>\n",
       "      <td>Not found</td>\n",
       "      <td>Not found</td>\n",
       "      <td>False</td>\n",
       "    </tr>\n",
       "    <tr>\n",
       "      <th>...</th>\n",
       "      <td>...</td>\n",
       "      <td>...</td>\n",
       "      <td>...</td>\n",
       "      <td>...</td>\n",
       "      <td>...</td>\n",
       "      <td>...</td>\n",
       "      <td>...</td>\n",
       "      <td>...</td>\n",
       "      <td>...</td>\n",
       "      <td>...</td>\n",
       "      <td>...</td>\n",
       "      <td>...</td>\n",
       "      <td>...</td>\n",
       "      <td>...</td>\n",
       "      <td>...</td>\n",
       "    </tr>\n",
       "    <tr>\n",
       "      <th>3341</th>\n",
       "      <td>10.0.0.153</td>\n",
       "      <td>-</td>\n",
       "      <td>-</td>\n",
       "      <td>12/Mar/2004:12:23:41</td>\n",
       "      <td>-0800</td>\n",
       "      <td>GET /dccstats/stats-spam-ratio.1year.png</td>\n",
       "      <td>200</td>\n",
       "      <td>1906</td>\n",
       "      <td>-</td>\n",
       "      <td>-</td>\n",
       "      <td>Not found</td>\n",
       "      <td>Not found</td>\n",
       "      <td>Not found</td>\n",
       "      <td>Not found</td>\n",
       "      <td>False</td>\n",
       "    </tr>\n",
       "    <tr>\n",
       "      <th>3342</th>\n",
       "      <td>10.0.0.153</td>\n",
       "      <td>-</td>\n",
       "      <td>-</td>\n",
       "      <td>12/Mar/2004:12:23:41</td>\n",
       "      <td>-0800</td>\n",
       "      <td>GET /dccstats/stats-hashes.1year.png</td>\n",
       "      <td>200</td>\n",
       "      <td>1582</td>\n",
       "      <td>-</td>\n",
       "      <td>-</td>\n",
       "      <td>Not found</td>\n",
       "      <td>Not found</td>\n",
       "      <td>Not found</td>\n",
       "      <td>Not found</td>\n",
       "      <td>False</td>\n",
       "    </tr>\n",
       "    <tr>\n",
       "      <th>3343</th>\n",
       "      <td>216.139.185.45</td>\n",
       "      <td>-</td>\n",
       "      <td>-</td>\n",
       "      <td>12/Mar/2004:13:04:01</td>\n",
       "      <td>-0800</td>\n",
       "      <td>GET /mailman/listinfo/webber</td>\n",
       "      <td>200</td>\n",
       "      <td>6051</td>\n",
       "      <td>-</td>\n",
       "      <td>-</td>\n",
       "      <td>US</td>\n",
       "      <td>37.751</td>\n",
       "      <td>-97.822</td>\n",
       "      <td>USA</td>\n",
       "      <td>False</td>\n",
       "    </tr>\n",
       "    <tr>\n",
       "      <th>3344</th>\n",
       "      <td>pd95f99f2.dip.t-dialin.net</td>\n",
       "      <td>-</td>\n",
       "      <td>-</td>\n",
       "      <td>12/Mar/2004:13:18:57</td>\n",
       "      <td>-0800</td>\n",
       "      <td>GET /razor.html</td>\n",
       "      <td>200</td>\n",
       "      <td>2869</td>\n",
       "      <td>-</td>\n",
       "      <td>-</td>\n",
       "      <td>IN</td>\n",
       "      <td>28.6</td>\n",
       "      <td>77.2</td>\n",
       "      <td>IND</td>\n",
       "      <td>False</td>\n",
       "    </tr>\n",
       "    <tr>\n",
       "      <th>3345</th>\n",
       "      <td>d97082.upc-d.chello.nl</td>\n",
       "      <td>-</td>\n",
       "      <td>-</td>\n",
       "      <td>12/Mar/2004:13:25:45</td>\n",
       "      <td>-0800</td>\n",
       "      <td>GET /SpamAssassin.html</td>\n",
       "      <td>200</td>\n",
       "      <td>7368</td>\n",
       "      <td>-</td>\n",
       "      <td>-</td>\n",
       "      <td>IN</td>\n",
       "      <td>28.6</td>\n",
       "      <td>77.2</td>\n",
       "      <td>IND</td>\n",
       "      <td>False</td>\n",
       "    </tr>\n",
       "  </tbody>\n",
       "</table>\n",
       "<p>3346 rows × 15 columns</p>\n",
       "</div>"
      ],
      "text/plain": [
       "                         User_ID RFC931 User                  date    gmt  \\\n",
       "0                      127.0.0.1      -    -  15/Jan/2021:08:54:07  +0000   \n",
       "1                      127.0.0.1      -    -  15/Jan/2021:08:55:23  +0000   \n",
       "2                      127.0.0.1      -    -  15/Jan/2021:09:01:38  +0000   \n",
       "3                     172.17.0.1      -    -  15/Jan/2021:09:02:14  +0000   \n",
       "4                     172.17.0.1      -    -  15/Jan/2021:09:02:15  +0000   \n",
       "...                          ...    ...  ...                   ...    ...   \n",
       "3341                  10.0.0.153      -    -  12/Mar/2004:12:23:41  -0800   \n",
       "3342                  10.0.0.153      -    -  12/Mar/2004:12:23:41  -0800   \n",
       "3343              216.139.185.45      -    -  12/Mar/2004:13:04:01  -0800   \n",
       "3344  pd95f99f2.dip.t-dialin.net      -    -  12/Mar/2004:13:18:57  -0800   \n",
       "3345      d97082.upc-d.chello.nl      -    -  12/Mar/2004:13:25:45  -0800   \n",
       "\n",
       "                                         action status   size  \\\n",
       "0                                         GET /    403   4006   \n",
       "1                      GET /cgi-bin/weakform.py    403    199   \n",
       "2                     GET /cgi-bin/weak_form.py    200     19   \n",
       "3                                         GET /    403   4288   \n",
       "4     GET /noindex/common/css/bootstrap.min.css    200  99548   \n",
       "...                                         ...    ...    ...   \n",
       "3341   GET /dccstats/stats-spam-ratio.1year.png    200   1906   \n",
       "3342       GET /dccstats/stats-hashes.1year.png    200   1582   \n",
       "3343               GET /mailman/listinfo/webber    200   6051   \n",
       "3344                            GET /razor.html    200   2869   \n",
       "3345                     GET /SpamAssassin.html    200   7368   \n",
       "\n",
       "                referrer                                            browser  \\\n",
       "0                      -                                        curl/7.61.1   \n",
       "1                      -                                        curl/7.61.1   \n",
       "2                      -                                        curl/7.61.1   \n",
       "3                      -  Mozilla/5.0 (X11; Linux x86_64; rv:84.0) Gecko...   \n",
       "4     http://172.17.0.2/  Mozilla/5.0 (X11; Linux x86_64; rv:84.0) Gecko...   \n",
       "...                  ...                                                ...   \n",
       "3341                   -                                                  -   \n",
       "3342                   -                                                  -   \n",
       "3343                   -                                                  -   \n",
       "3344                   -                                                  -   \n",
       "3345                   -                                                  -   \n",
       "\n",
       "     country_code   latitude  longitude    alpha_3  XSS_attack  \n",
       "0       Not found  Not found  Not found  Not found       False  \n",
       "1       Not found  Not found  Not found  Not found       False  \n",
       "2       Not found  Not found  Not found  Not found       False  \n",
       "3       Not found  Not found  Not found  Not found       False  \n",
       "4       Not found  Not found  Not found  Not found       False  \n",
       "...           ...        ...        ...        ...         ...  \n",
       "3341    Not found  Not found  Not found  Not found       False  \n",
       "3342    Not found  Not found  Not found  Not found       False  \n",
       "3343           US     37.751    -97.822        USA       False  \n",
       "3344           IN       28.6       77.2        IND       False  \n",
       "3345           IN       28.6       77.2        IND       False  \n",
       "\n",
       "[3346 rows x 15 columns]"
      ]
     },
     "execution_count": 26,
     "metadata": {},
     "output_type": "execute_result"
    }
   ],
   "source": [
    "df['XSS_attack']=df['action'].apply(XSS_finder)\n",
    "df"
   ]
  },
  {
   "cell_type": "code",
   "execution_count": null,
   "metadata": {},
   "outputs": [],
   "source": []
  },
  {
   "cell_type": "markdown",
   "metadata": {},
   "source": [
    "# 5.) Table For XSS Attack Attempts"
   ]
  },
  {
   "cell_type": "code",
   "execution_count": 28,
   "metadata": {},
   "outputs": [
    {
     "data": {
      "text/html": [
       "<div>\n",
       "<style scoped>\n",
       "    .dataframe tbody tr th:only-of-type {\n",
       "        vertical-align: middle;\n",
       "    }\n",
       "\n",
       "    .dataframe tbody tr th {\n",
       "        vertical-align: top;\n",
       "    }\n",
       "\n",
       "    .dataframe thead th {\n",
       "        text-align: right;\n",
       "    }\n",
       "</style>\n",
       "<table border=\"1\" class=\"dataframe\">\n",
       "  <thead>\n",
       "    <tr style=\"text-align: right;\">\n",
       "      <th></th>\n",
       "      <th>User_ID</th>\n",
       "      <th>RFC931</th>\n",
       "      <th>User</th>\n",
       "      <th>date</th>\n",
       "      <th>gmt</th>\n",
       "      <th>action</th>\n",
       "      <th>status</th>\n",
       "      <th>size</th>\n",
       "      <th>referrer</th>\n",
       "      <th>browser</th>\n",
       "      <th>country_code</th>\n",
       "      <th>latitude</th>\n",
       "      <th>longitude</th>\n",
       "      <th>alpha_3</th>\n",
       "      <th>XSS_attack</th>\n",
       "    </tr>\n",
       "  </thead>\n",
       "  <tbody>\n",
       "    <tr>\n",
       "      <th>754</th>\n",
       "      <td>172.17.0.1</td>\n",
       "      <td>-</td>\n",
       "      <td>-</td>\n",
       "      <td>15/Jan/2021:10:05:35</td>\n",
       "      <td>+0000</td>\n",
       "      <td>GET /cgi-bin/weak_form.py?fname=asdasd%3C%2Fp%...</td>\n",
       "      <td>200</td>\n",
       "      <td>355</td>\n",
       "      <td>http://172.17.0.2/cgi-bin/weak_form.py?fname=s...</td>\n",
       "      <td>Mozilla/5.0 (X11; Linux x86_64; rv:84.0) Gecko...</td>\n",
       "      <td>Not found</td>\n",
       "      <td>Not found</td>\n",
       "      <td>Not found</td>\n",
       "      <td>Not found</td>\n",
       "      <td>True</td>\n",
       "    </tr>\n",
       "    <tr>\n",
       "      <th>757</th>\n",
       "      <td>172.17.0.1</td>\n",
       "      <td>-</td>\n",
       "      <td>-</td>\n",
       "      <td>16/Jan/2021:05:29:02</td>\n",
       "      <td>+0000</td>\n",
       "      <td>GET /cgi-bin/weak_form.py?fname=abcd&amp;lname=111...</td>\n",
       "      <td>200</td>\n",
       "      <td>328</td>\n",
       "      <td>-</td>\n",
       "      <td>curl/7.74.0</td>\n",
       "      <td>Not found</td>\n",
       "      <td>Not found</td>\n",
       "      <td>Not found</td>\n",
       "      <td>Not found</td>\n",
       "      <td>True</td>\n",
       "    </tr>\n",
       "    <tr>\n",
       "      <th>758</th>\n",
       "      <td>172.17.0.1</td>\n",
       "      <td>-</td>\n",
       "      <td>-</td>\n",
       "      <td>16/Jan/2021:05:30:04</td>\n",
       "      <td>+0000</td>\n",
       "      <td>GET /cgi-bin/weak_form.py?fname=abcd&amp;lname=111...</td>\n",
       "      <td>200</td>\n",
       "      <td>340</td>\n",
       "      <td>-</td>\n",
       "      <td>curl/7.74.0</td>\n",
       "      <td>Not found</td>\n",
       "      <td>Not found</td>\n",
       "      <td>Not found</td>\n",
       "      <td>Not found</td>\n",
       "      <td>True</td>\n",
       "    </tr>\n",
       "    <tr>\n",
       "      <th>759</th>\n",
       "      <td>172.17.0.1</td>\n",
       "      <td>-</td>\n",
       "      <td>-</td>\n",
       "      <td>16/Jan/2021:05:30:42</td>\n",
       "      <td>+0000</td>\n",
       "      <td>GET /cgi-bin/weak_form.py?fname=abcd&amp;lname=111...</td>\n",
       "      <td>200</td>\n",
       "      <td>340</td>\n",
       "      <td>-</td>\n",
       "      <td>curl/7.74.0</td>\n",
       "      <td>Not found</td>\n",
       "      <td>Not found</td>\n",
       "      <td>Not found</td>\n",
       "      <td>Not found</td>\n",
       "      <td>True</td>\n",
       "    </tr>\n",
       "    <tr>\n",
       "      <th>760</th>\n",
       "      <td>172.17.0.1</td>\n",
       "      <td>-</td>\n",
       "      <td>-</td>\n",
       "      <td>16/Jan/2021:05:30:57</td>\n",
       "      <td>+0000</td>\n",
       "      <td>GET /cgi-bin/weak_form.py?fname=abcd&amp;lname=111...</td>\n",
       "      <td>200</td>\n",
       "      <td>341</td>\n",
       "      <td>-</td>\n",
       "      <td>curl/7.74.0</td>\n",
       "      <td>Not found</td>\n",
       "      <td>Not found</td>\n",
       "      <td>Not found</td>\n",
       "      <td>Not found</td>\n",
       "      <td>True</td>\n",
       "    </tr>\n",
       "    <tr>\n",
       "      <th>761</th>\n",
       "      <td>172.17.0.1</td>\n",
       "      <td>-</td>\n",
       "      <td>-</td>\n",
       "      <td>16/Jan/2021:05:31:04</td>\n",
       "      <td>+0000</td>\n",
       "      <td>GET /cgi-bin/weak_form.py?fname=abcd&amp;lname=111...</td>\n",
       "      <td>200</td>\n",
       "      <td>357</td>\n",
       "      <td>-</td>\n",
       "      <td>curl/7.74.0</td>\n",
       "      <td>Not found</td>\n",
       "      <td>Not found</td>\n",
       "      <td>Not found</td>\n",
       "      <td>Not found</td>\n",
       "      <td>True</td>\n",
       "    </tr>\n",
       "    <tr>\n",
       "      <th>762</th>\n",
       "      <td>172.17.0.1</td>\n",
       "      <td>-</td>\n",
       "      <td>-</td>\n",
       "      <td>16/Jan/2021:05:31:24</td>\n",
       "      <td>+0000</td>\n",
       "      <td>GET /cgi-bin/weak_form.py?fname=abcd&amp;lname=111...</td>\n",
       "      <td>200</td>\n",
       "      <td>357</td>\n",
       "      <td>-</td>\n",
       "      <td>curl/7.74.0</td>\n",
       "      <td>Not found</td>\n",
       "      <td>Not found</td>\n",
       "      <td>Not found</td>\n",
       "      <td>Not found</td>\n",
       "      <td>True</td>\n",
       "    </tr>\n",
       "    <tr>\n",
       "      <th>763</th>\n",
       "      <td>172.17.0.1</td>\n",
       "      <td>-</td>\n",
       "      <td>-</td>\n",
       "      <td>16/Jan/2021:05:31:28</td>\n",
       "      <td>+0000</td>\n",
       "      <td>GET /cgi-bin/weak_form.py?fname=abcd&amp;lname=111...</td>\n",
       "      <td>200</td>\n",
       "      <td>340</td>\n",
       "      <td>-</td>\n",
       "      <td>curl/7.74.0</td>\n",
       "      <td>Not found</td>\n",
       "      <td>Not found</td>\n",
       "      <td>Not found</td>\n",
       "      <td>Not found</td>\n",
       "      <td>True</td>\n",
       "    </tr>\n",
       "    <tr>\n",
       "      <th>764</th>\n",
       "      <td>172.17.0.1</td>\n",
       "      <td>-</td>\n",
       "      <td>-</td>\n",
       "      <td>16/Jan/2021:05:31:34</td>\n",
       "      <td>+0000</td>\n",
       "      <td>GET /cgi-bin/weak_form.py?fname=abcd&amp;lname=111...</td>\n",
       "      <td>200</td>\n",
       "      <td>357</td>\n",
       "      <td>-</td>\n",
       "      <td>curl/7.74.0</td>\n",
       "      <td>Not found</td>\n",
       "      <td>Not found</td>\n",
       "      <td>Not found</td>\n",
       "      <td>Not found</td>\n",
       "      <td>True</td>\n",
       "    </tr>\n",
       "    <tr>\n",
       "      <th>765</th>\n",
       "      <td>172.17.0.1</td>\n",
       "      <td>-</td>\n",
       "      <td>-</td>\n",
       "      <td>16/Jan/2021:05:32:02</td>\n",
       "      <td>+0000</td>\n",
       "      <td>GET /cgi-bin/weak_form.py?fname=abcd&amp;lname=111...</td>\n",
       "      <td>200</td>\n",
       "      <td>357</td>\n",
       "      <td>-</td>\n",
       "      <td>curl/7.74.0</td>\n",
       "      <td>Not found</td>\n",
       "      <td>Not found</td>\n",
       "      <td>Not found</td>\n",
       "      <td>Not found</td>\n",
       "      <td>True</td>\n",
       "    </tr>\n",
       "    <tr>\n",
       "      <th>766</th>\n",
       "      <td>172.17.0.1</td>\n",
       "      <td>-</td>\n",
       "      <td>-</td>\n",
       "      <td>16/Jan/2021:05:34:45</td>\n",
       "      <td>+0000</td>\n",
       "      <td>GET /cgi-bin/weak_form.py?fname=abcd&amp;lname=111...</td>\n",
       "      <td>400</td>\n",
       "      <td>226</td>\n",
       "      <td>-</td>\n",
       "      <td>-</td>\n",
       "      <td>Not found</td>\n",
       "      <td>Not found</td>\n",
       "      <td>Not found</td>\n",
       "      <td>Not found</td>\n",
       "      <td>True</td>\n",
       "    </tr>\n",
       "    <tr>\n",
       "      <th>767</th>\n",
       "      <td>172.17.0.1</td>\n",
       "      <td>-</td>\n",
       "      <td>-</td>\n",
       "      <td>16/Jan/2021:05:35:56</td>\n",
       "      <td>+0000</td>\n",
       "      <td>GET /cgi-bin/weak_form.py?fname=abcd&amp;lname=111...</td>\n",
       "      <td>400</td>\n",
       "      <td>226</td>\n",
       "      <td>-</td>\n",
       "      <td>-</td>\n",
       "      <td>Not found</td>\n",
       "      <td>Not found</td>\n",
       "      <td>Not found</td>\n",
       "      <td>Not found</td>\n",
       "      <td>True</td>\n",
       "    </tr>\n",
       "    <tr>\n",
       "      <th>768</th>\n",
       "      <td>172.17.0.1</td>\n",
       "      <td>-</td>\n",
       "      <td>-</td>\n",
       "      <td>16/Jan/2021:05:36:06</td>\n",
       "      <td>+0000</td>\n",
       "      <td>GET /cgi-bin/weak_form.py?fname=abcd&amp;lname=111...</td>\n",
       "      <td>400</td>\n",
       "      <td>226</td>\n",
       "      <td>-</td>\n",
       "      <td>-</td>\n",
       "      <td>Not found</td>\n",
       "      <td>Not found</td>\n",
       "      <td>Not found</td>\n",
       "      <td>Not found</td>\n",
       "      <td>True</td>\n",
       "    </tr>\n",
       "    <tr>\n",
       "      <th>769</th>\n",
       "      <td>172.17.0.1</td>\n",
       "      <td>-</td>\n",
       "      <td>-</td>\n",
       "      <td>16/Jan/2021:05:36:15</td>\n",
       "      <td>+0000</td>\n",
       "      <td>GET /cgi-bin/weak_form.py?fname=abcd&amp;lname=111...</td>\n",
       "      <td>200</td>\n",
       "      <td>340</td>\n",
       "      <td>-</td>\n",
       "      <td>curl/7.74.0</td>\n",
       "      <td>Not found</td>\n",
       "      <td>Not found</td>\n",
       "      <td>Not found</td>\n",
       "      <td>Not found</td>\n",
       "      <td>True</td>\n",
       "    </tr>\n",
       "    <tr>\n",
       "      <th>770</th>\n",
       "      <td>172.17.0.1</td>\n",
       "      <td>-</td>\n",
       "      <td>-</td>\n",
       "      <td>16/Jan/2021:05:36:20</td>\n",
       "      <td>+0000</td>\n",
       "      <td>GET /cgi-bin/weak_form.py?fname=abcd&amp;lname=111...</td>\n",
       "      <td>400</td>\n",
       "      <td>226</td>\n",
       "      <td>-</td>\n",
       "      <td>-</td>\n",
       "      <td>Not found</td>\n",
       "      <td>Not found</td>\n",
       "      <td>Not found</td>\n",
       "      <td>Not found</td>\n",
       "      <td>True</td>\n",
       "    </tr>\n",
       "    <tr>\n",
       "      <th>771</th>\n",
       "      <td>172.17.0.1</td>\n",
       "      <td>-</td>\n",
       "      <td>-</td>\n",
       "      <td>16/Jan/2021:05:36:32</td>\n",
       "      <td>+0000</td>\n",
       "      <td>GET /cgi-bin/weak_form.py?fname=abcd&amp;lname=111...</td>\n",
       "      <td>200</td>\n",
       "      <td>340</td>\n",
       "      <td>-</td>\n",
       "      <td>curl/7.74.0</td>\n",
       "      <td>Not found</td>\n",
       "      <td>Not found</td>\n",
       "      <td>Not found</td>\n",
       "      <td>Not found</td>\n",
       "      <td>True</td>\n",
       "    </tr>\n",
       "    <tr>\n",
       "      <th>772</th>\n",
       "      <td>172.17.0.1</td>\n",
       "      <td>-</td>\n",
       "      <td>-</td>\n",
       "      <td>16/Jan/2021:05:36:47</td>\n",
       "      <td>+0000</td>\n",
       "      <td>GET /cgi-bin/weak_form.py?fname=abcd&amp;lname=111...</td>\n",
       "      <td>400</td>\n",
       "      <td>226</td>\n",
       "      <td>-</td>\n",
       "      <td>-</td>\n",
       "      <td>Not found</td>\n",
       "      <td>Not found</td>\n",
       "      <td>Not found</td>\n",
       "      <td>Not found</td>\n",
       "      <td>True</td>\n",
       "    </tr>\n",
       "    <tr>\n",
       "      <th>773</th>\n",
       "      <td>172.17.0.1</td>\n",
       "      <td>-</td>\n",
       "      <td>-</td>\n",
       "      <td>16/Jan/2021:05:37:21</td>\n",
       "      <td>+0000</td>\n",
       "      <td>GET /cgi-bin/weak_form.py?fname=abcd&amp;lname=111...</td>\n",
       "      <td>400</td>\n",
       "      <td>226</td>\n",
       "      <td>-</td>\n",
       "      <td>-</td>\n",
       "      <td>Not found</td>\n",
       "      <td>Not found</td>\n",
       "      <td>Not found</td>\n",
       "      <td>Not found</td>\n",
       "      <td>True</td>\n",
       "    </tr>\n",
       "    <tr>\n",
       "      <th>774</th>\n",
       "      <td>172.17.0.1</td>\n",
       "      <td>-</td>\n",
       "      <td>-</td>\n",
       "      <td>16/Jan/2021:05:37:34</td>\n",
       "      <td>+0000</td>\n",
       "      <td>GET /cgi-bin/weak_form.py?fname=abcd&amp;lname=111...</td>\n",
       "      <td>400</td>\n",
       "      <td>226</td>\n",
       "      <td>-</td>\n",
       "      <td>-</td>\n",
       "      <td>Not found</td>\n",
       "      <td>Not found</td>\n",
       "      <td>Not found</td>\n",
       "      <td>Not found</td>\n",
       "      <td>True</td>\n",
       "    </tr>\n",
       "    <tr>\n",
       "      <th>775</th>\n",
       "      <td>172.17.0.1</td>\n",
       "      <td>-</td>\n",
       "      <td>-</td>\n",
       "      <td>16/Jan/2021:05:37:45</td>\n",
       "      <td>+0000</td>\n",
       "      <td>GET /cgi-bin/weak_form.py?fname=abcd&amp;lname=111...</td>\n",
       "      <td>200</td>\n",
       "      <td>348</td>\n",
       "      <td>-</td>\n",
       "      <td>curl/7.74.0</td>\n",
       "      <td>Not found</td>\n",
       "      <td>Not found</td>\n",
       "      <td>Not found</td>\n",
       "      <td>Not found</td>\n",
       "      <td>True</td>\n",
       "    </tr>\n",
       "    <tr>\n",
       "      <th>1530</th>\n",
       "      <td>172.17.0.1</td>\n",
       "      <td>-</td>\n",
       "      <td>-</td>\n",
       "      <td>15/Jan/2021:10:05:35</td>\n",
       "      <td>+0000</td>\n",
       "      <td>GET /cgi-bin/weak_form.py?fname=asdasd%3C%2Fp%...</td>\n",
       "      <td>200</td>\n",
       "      <td>355</td>\n",
       "      <td>http://172.17.0.2/cgi-bin/weak_form.py?fname=s...</td>\n",
       "      <td>Mozilla/5.0 (X11; Linux x86_64; rv:84.0) Gecko...</td>\n",
       "      <td>Not found</td>\n",
       "      <td>Not found</td>\n",
       "      <td>Not found</td>\n",
       "      <td>Not found</td>\n",
       "      <td>True</td>\n",
       "    </tr>\n",
       "    <tr>\n",
       "      <th>1533</th>\n",
       "      <td>172.17.0.1</td>\n",
       "      <td>-</td>\n",
       "      <td>-</td>\n",
       "      <td>16/Jan/2021:05:29:02</td>\n",
       "      <td>+0000</td>\n",
       "      <td>GET /cgi-bin/weak_form.py?fname=abcd&amp;lname=111...</td>\n",
       "      <td>200</td>\n",
       "      <td>328</td>\n",
       "      <td>-</td>\n",
       "      <td>curl/7.74.0</td>\n",
       "      <td>Not found</td>\n",
       "      <td>Not found</td>\n",
       "      <td>Not found</td>\n",
       "      <td>Not found</td>\n",
       "      <td>True</td>\n",
       "    </tr>\n",
       "    <tr>\n",
       "      <th>1534</th>\n",
       "      <td>172.17.0.1</td>\n",
       "      <td>-</td>\n",
       "      <td>-</td>\n",
       "      <td>16/Jan/2021:05:30:04</td>\n",
       "      <td>+0000</td>\n",
       "      <td>GET /cgi-bin/weak_form.py?fname=abcd&amp;lname=111...</td>\n",
       "      <td>200</td>\n",
       "      <td>340</td>\n",
       "      <td>-</td>\n",
       "      <td>curl/7.74.0</td>\n",
       "      <td>Not found</td>\n",
       "      <td>Not found</td>\n",
       "      <td>Not found</td>\n",
       "      <td>Not found</td>\n",
       "      <td>True</td>\n",
       "    </tr>\n",
       "    <tr>\n",
       "      <th>1535</th>\n",
       "      <td>172.17.0.1</td>\n",
       "      <td>-</td>\n",
       "      <td>-</td>\n",
       "      <td>16/Jan/2021:05:30:42</td>\n",
       "      <td>+0000</td>\n",
       "      <td>GET /cgi-bin/weak_form.py?fname=abcd&amp;lname=111...</td>\n",
       "      <td>200</td>\n",
       "      <td>340</td>\n",
       "      <td>-</td>\n",
       "      <td>curl/7.74.0</td>\n",
       "      <td>Not found</td>\n",
       "      <td>Not found</td>\n",
       "      <td>Not found</td>\n",
       "      <td>Not found</td>\n",
       "      <td>True</td>\n",
       "    </tr>\n",
       "    <tr>\n",
       "      <th>1536</th>\n",
       "      <td>172.17.0.1</td>\n",
       "      <td>-</td>\n",
       "      <td>-</td>\n",
       "      <td>16/Jan/2021:05:30:57</td>\n",
       "      <td>+0000</td>\n",
       "      <td>GET /cgi-bin/weak_form.py?fname=abcd&amp;lname=111...</td>\n",
       "      <td>200</td>\n",
       "      <td>341</td>\n",
       "      <td>-</td>\n",
       "      <td>curl/7.74.0</td>\n",
       "      <td>Not found</td>\n",
       "      <td>Not found</td>\n",
       "      <td>Not found</td>\n",
       "      <td>Not found</td>\n",
       "      <td>True</td>\n",
       "    </tr>\n",
       "    <tr>\n",
       "      <th>1537</th>\n",
       "      <td>172.17.0.1</td>\n",
       "      <td>-</td>\n",
       "      <td>-</td>\n",
       "      <td>16/Jan/2021:05:31:04</td>\n",
       "      <td>+0000</td>\n",
       "      <td>GET /cgi-bin/weak_form.py?fname=abcd&amp;lname=111...</td>\n",
       "      <td>200</td>\n",
       "      <td>357</td>\n",
       "      <td>-</td>\n",
       "      <td>curl/7.74.0</td>\n",
       "      <td>Not found</td>\n",
       "      <td>Not found</td>\n",
       "      <td>Not found</td>\n",
       "      <td>Not found</td>\n",
       "      <td>True</td>\n",
       "    </tr>\n",
       "    <tr>\n",
       "      <th>1538</th>\n",
       "      <td>172.17.0.1</td>\n",
       "      <td>-</td>\n",
       "      <td>-</td>\n",
       "      <td>16/Jan/2021:05:31:24</td>\n",
       "      <td>+0000</td>\n",
       "      <td>GET /cgi-bin/weak_form.py?fname=abcd&amp;lname=111...</td>\n",
       "      <td>200</td>\n",
       "      <td>357</td>\n",
       "      <td>-</td>\n",
       "      <td>curl/7.74.0</td>\n",
       "      <td>Not found</td>\n",
       "      <td>Not found</td>\n",
       "      <td>Not found</td>\n",
       "      <td>Not found</td>\n",
       "      <td>True</td>\n",
       "    </tr>\n",
       "    <tr>\n",
       "      <th>1539</th>\n",
       "      <td>172.17.0.1</td>\n",
       "      <td>-</td>\n",
       "      <td>-</td>\n",
       "      <td>16/Jan/2021:05:31:28</td>\n",
       "      <td>+0000</td>\n",
       "      <td>GET /cgi-bin/weak_form.py?fname=abcd&amp;lname=111...</td>\n",
       "      <td>200</td>\n",
       "      <td>340</td>\n",
       "      <td>-</td>\n",
       "      <td>curl/7.74.0</td>\n",
       "      <td>Not found</td>\n",
       "      <td>Not found</td>\n",
       "      <td>Not found</td>\n",
       "      <td>Not found</td>\n",
       "      <td>True</td>\n",
       "    </tr>\n",
       "    <tr>\n",
       "      <th>1540</th>\n",
       "      <td>172.17.0.1</td>\n",
       "      <td>-</td>\n",
       "      <td>-</td>\n",
       "      <td>16/Jan/2021:05:31:34</td>\n",
       "      <td>+0000</td>\n",
       "      <td>GET /cgi-bin/weak_form.py?fname=abcd&amp;lname=111...</td>\n",
       "      <td>200</td>\n",
       "      <td>357</td>\n",
       "      <td>-</td>\n",
       "      <td>curl/7.74.0</td>\n",
       "      <td>Not found</td>\n",
       "      <td>Not found</td>\n",
       "      <td>Not found</td>\n",
       "      <td>Not found</td>\n",
       "      <td>True</td>\n",
       "    </tr>\n",
       "    <tr>\n",
       "      <th>1541</th>\n",
       "      <td>172.17.0.1</td>\n",
       "      <td>-</td>\n",
       "      <td>-</td>\n",
       "      <td>16/Jan/2021:05:32:02</td>\n",
       "      <td>+0000</td>\n",
       "      <td>GET /cgi-bin/weak_form.py?fname=abcd&amp;lname=111...</td>\n",
       "      <td>200</td>\n",
       "      <td>357</td>\n",
       "      <td>-</td>\n",
       "      <td>curl/7.74.0</td>\n",
       "      <td>Not found</td>\n",
       "      <td>Not found</td>\n",
       "      <td>Not found</td>\n",
       "      <td>Not found</td>\n",
       "      <td>True</td>\n",
       "    </tr>\n",
       "    <tr>\n",
       "      <th>1542</th>\n",
       "      <td>172.17.0.1</td>\n",
       "      <td>-</td>\n",
       "      <td>-</td>\n",
       "      <td>16/Jan/2021:05:34:45</td>\n",
       "      <td>+0000</td>\n",
       "      <td>GET /cgi-bin/weak_form.py?fname=abcd&amp;lname=111...</td>\n",
       "      <td>400</td>\n",
       "      <td>226</td>\n",
       "      <td>-</td>\n",
       "      <td>-</td>\n",
       "      <td>Not found</td>\n",
       "      <td>Not found</td>\n",
       "      <td>Not found</td>\n",
       "      <td>Not found</td>\n",
       "      <td>True</td>\n",
       "    </tr>\n",
       "    <tr>\n",
       "      <th>1543</th>\n",
       "      <td>172.17.0.1</td>\n",
       "      <td>-</td>\n",
       "      <td>-</td>\n",
       "      <td>16/Jan/2021:05:35:56</td>\n",
       "      <td>+0000</td>\n",
       "      <td>GET /cgi-bin/weak_form.py?fname=abcd&amp;lname=111...</td>\n",
       "      <td>400</td>\n",
       "      <td>226</td>\n",
       "      <td>-</td>\n",
       "      <td>-</td>\n",
       "      <td>Not found</td>\n",
       "      <td>Not found</td>\n",
       "      <td>Not found</td>\n",
       "      <td>Not found</td>\n",
       "      <td>True</td>\n",
       "    </tr>\n",
       "    <tr>\n",
       "      <th>1544</th>\n",
       "      <td>172.17.0.1</td>\n",
       "      <td>-</td>\n",
       "      <td>-</td>\n",
       "      <td>16/Jan/2021:05:36:06</td>\n",
       "      <td>+0000</td>\n",
       "      <td>GET /cgi-bin/weak_form.py?fname=abcd&amp;lname=111...</td>\n",
       "      <td>400</td>\n",
       "      <td>226</td>\n",
       "      <td>-</td>\n",
       "      <td>-</td>\n",
       "      <td>Not found</td>\n",
       "      <td>Not found</td>\n",
       "      <td>Not found</td>\n",
       "      <td>Not found</td>\n",
       "      <td>True</td>\n",
       "    </tr>\n",
       "    <tr>\n",
       "      <th>1545</th>\n",
       "      <td>172.17.0.1</td>\n",
       "      <td>-</td>\n",
       "      <td>-</td>\n",
       "      <td>16/Jan/2021:05:36:15</td>\n",
       "      <td>+0000</td>\n",
       "      <td>GET /cgi-bin/weak_form.py?fname=abcd&amp;lname=111...</td>\n",
       "      <td>200</td>\n",
       "      <td>340</td>\n",
       "      <td>-</td>\n",
       "      <td>curl/7.74.0</td>\n",
       "      <td>Not found</td>\n",
       "      <td>Not found</td>\n",
       "      <td>Not found</td>\n",
       "      <td>Not found</td>\n",
       "      <td>True</td>\n",
       "    </tr>\n",
       "    <tr>\n",
       "      <th>1546</th>\n",
       "      <td>172.17.0.1</td>\n",
       "      <td>-</td>\n",
       "      <td>-</td>\n",
       "      <td>16/Jan/2021:05:36:20</td>\n",
       "      <td>+0000</td>\n",
       "      <td>GET /cgi-bin/weak_form.py?fname=abcd&amp;lname=111...</td>\n",
       "      <td>400</td>\n",
       "      <td>226</td>\n",
       "      <td>-</td>\n",
       "      <td>-</td>\n",
       "      <td>Not found</td>\n",
       "      <td>Not found</td>\n",
       "      <td>Not found</td>\n",
       "      <td>Not found</td>\n",
       "      <td>True</td>\n",
       "    </tr>\n",
       "    <tr>\n",
       "      <th>1547</th>\n",
       "      <td>172.17.0.1</td>\n",
       "      <td>-</td>\n",
       "      <td>-</td>\n",
       "      <td>16/Jan/2021:05:36:32</td>\n",
       "      <td>+0000</td>\n",
       "      <td>GET /cgi-bin/weak_form.py?fname=abcd&amp;lname=111...</td>\n",
       "      <td>200</td>\n",
       "      <td>340</td>\n",
       "      <td>-</td>\n",
       "      <td>curl/7.74.0</td>\n",
       "      <td>Not found</td>\n",
       "      <td>Not found</td>\n",
       "      <td>Not found</td>\n",
       "      <td>Not found</td>\n",
       "      <td>True</td>\n",
       "    </tr>\n",
       "    <tr>\n",
       "      <th>1548</th>\n",
       "      <td>172.17.0.1</td>\n",
       "      <td>-</td>\n",
       "      <td>-</td>\n",
       "      <td>16/Jan/2021:05:36:47</td>\n",
       "      <td>+0000</td>\n",
       "      <td>GET /cgi-bin/weak_form.py?fname=abcd&amp;lname=111...</td>\n",
       "      <td>400</td>\n",
       "      <td>226</td>\n",
       "      <td>-</td>\n",
       "      <td>-</td>\n",
       "      <td>Not found</td>\n",
       "      <td>Not found</td>\n",
       "      <td>Not found</td>\n",
       "      <td>Not found</td>\n",
       "      <td>True</td>\n",
       "    </tr>\n",
       "    <tr>\n",
       "      <th>1549</th>\n",
       "      <td>172.17.0.1</td>\n",
       "      <td>-</td>\n",
       "      <td>-</td>\n",
       "      <td>16/Jan/2021:05:37:21</td>\n",
       "      <td>+0000</td>\n",
       "      <td>GET /cgi-bin/weak_form.py?fname=abcd&amp;lname=111...</td>\n",
       "      <td>400</td>\n",
       "      <td>226</td>\n",
       "      <td>-</td>\n",
       "      <td>-</td>\n",
       "      <td>Not found</td>\n",
       "      <td>Not found</td>\n",
       "      <td>Not found</td>\n",
       "      <td>Not found</td>\n",
       "      <td>True</td>\n",
       "    </tr>\n",
       "    <tr>\n",
       "      <th>1550</th>\n",
       "      <td>172.17.0.1</td>\n",
       "      <td>-</td>\n",
       "      <td>-</td>\n",
       "      <td>16/Jan/2021:05:37:34</td>\n",
       "      <td>+0000</td>\n",
       "      <td>GET /cgi-bin/weak_form.py?fname=abcd&amp;lname=111...</td>\n",
       "      <td>400</td>\n",
       "      <td>226</td>\n",
       "      <td>-</td>\n",
       "      <td>-</td>\n",
       "      <td>Not found</td>\n",
       "      <td>Not found</td>\n",
       "      <td>Not found</td>\n",
       "      <td>Not found</td>\n",
       "      <td>True</td>\n",
       "    </tr>\n",
       "    <tr>\n",
       "      <th>1551</th>\n",
       "      <td>172.17.0.1</td>\n",
       "      <td>-</td>\n",
       "      <td>-</td>\n",
       "      <td>16/Jan/2021:05:37:45</td>\n",
       "      <td>+0000</td>\n",
       "      <td>GET /cgi-bin/weak_form.py?fname=abcd&amp;lname=111...</td>\n",
       "      <td>200</td>\n",
       "      <td>348</td>\n",
       "      <td>-</td>\n",
       "      <td>curl/7.74.0</td>\n",
       "      <td>Not found</td>\n",
       "      <td>Not found</td>\n",
       "      <td>Not found</td>\n",
       "      <td>Not found</td>\n",
       "      <td>True</td>\n",
       "    </tr>\n",
       "    <tr>\n",
       "      <th>1565</th>\n",
       "      <td>172.17.0.1</td>\n",
       "      <td>-</td>\n",
       "      <td>-</td>\n",
       "      <td>16/Jan/2021:12:40:33</td>\n",
       "      <td>+0000</td>\n",
       "      <td>GET /cgi-bin/weak_form.py?fname=&amp;lname=%3Cscri...</td>\n",
       "      <td>200</td>\n",
       "      <td>304</td>\n",
       "      <td>http://172.17.0.2/cgi-bin/weak_form.py?fname=a...</td>\n",
       "      <td>Mozilla/5.0 (X11; Linux x86_64) AppleWebKit/53...</td>\n",
       "      <td>Not found</td>\n",
       "      <td>Not found</td>\n",
       "      <td>Not found</td>\n",
       "      <td>Not found</td>\n",
       "      <td>True</td>\n",
       "    </tr>\n",
       "    <tr>\n",
       "      <th>1566</th>\n",
       "      <td>172.17.0.1</td>\n",
       "      <td>-</td>\n",
       "      <td>-</td>\n",
       "      <td>16/Jan/2021:12:40:52</td>\n",
       "      <td>+0000</td>\n",
       "      <td>GET /cgi-bin/weak_form.py?fname=sdfsdf&amp;lname=%...</td>\n",
       "      <td>200</td>\n",
       "      <td>345</td>\n",
       "      <td>http://172.17.0.2/cgi-bin/weak_form.py?fname=&amp;...</td>\n",
       "      <td>Mozilla/5.0 (X11; Linux x86_64) AppleWebKit/53...</td>\n",
       "      <td>Not found</td>\n",
       "      <td>Not found</td>\n",
       "      <td>Not found</td>\n",
       "      <td>Not found</td>\n",
       "      <td>True</td>\n",
       "    </tr>\n",
       "    <tr>\n",
       "      <th>1573</th>\n",
       "      <td>172.17.0.1</td>\n",
       "      <td>-</td>\n",
       "      <td>-</td>\n",
       "      <td>16/Jan/2021:12:46:56</td>\n",
       "      <td>+0000</td>\n",
       "      <td>GET /cgi-bin/weak_form.py?fname=abcd&amp;lname=%3C...</td>\n",
       "      <td>200</td>\n",
       "      <td>348</td>\n",
       "      <td>-</td>\n",
       "      <td>Mozilla/5.0 (X11; Linux x86_64) AppleWebKit/53...</td>\n",
       "      <td>Not found</td>\n",
       "      <td>Not found</td>\n",
       "      <td>Not found</td>\n",
       "      <td>Not found</td>\n",
       "      <td>True</td>\n",
       "    </tr>\n",
       "    <tr>\n",
       "      <th>1574</th>\n",
       "      <td>172.17.0.1</td>\n",
       "      <td>-</td>\n",
       "      <td>-</td>\n",
       "      <td>16/Jan/2021:12:47:26</td>\n",
       "      <td>+0000</td>\n",
       "      <td>GET /cgi-bin/weak_form.py?fname=abcd&amp;lname=%3C...</td>\n",
       "      <td>200</td>\n",
       "      <td>346</td>\n",
       "      <td>http://172.17.0.2/cgi-bin/weak_form.py?fname=a...</td>\n",
       "      <td>Mozilla/5.0 (X11; Linux x86_64) AppleWebKit/53...</td>\n",
       "      <td>Not found</td>\n",
       "      <td>Not found</td>\n",
       "      <td>Not found</td>\n",
       "      <td>Not found</td>\n",
       "      <td>True</td>\n",
       "    </tr>\n",
       "    <tr>\n",
       "      <th>1575</th>\n",
       "      <td>172.17.0.1</td>\n",
       "      <td>-</td>\n",
       "      <td>-</td>\n",
       "      <td>16/Jan/2021:12:47:49</td>\n",
       "      <td>+0000</td>\n",
       "      <td>GET /cgi-bin/weak_form.py?fname=abcd&amp;lname=%3C...</td>\n",
       "      <td>200</td>\n",
       "      <td>357</td>\n",
       "      <td>-</td>\n",
       "      <td>Mozilla/5.0 (X11; Linux x86_64) AppleWebKit/53...</td>\n",
       "      <td>Not found</td>\n",
       "      <td>Not found</td>\n",
       "      <td>Not found</td>\n",
       "      <td>Not found</td>\n",
       "      <td>True</td>\n",
       "    </tr>\n",
       "    <tr>\n",
       "      <th>1576</th>\n",
       "      <td>172.17.0.1</td>\n",
       "      <td>-</td>\n",
       "      <td>-</td>\n",
       "      <td>16/Jan/2021:12:48:13</td>\n",
       "      <td>+0000</td>\n",
       "      <td>GET /cgi-bin/weak_form.py?fname=abcd&amp;lname=%3C...</td>\n",
       "      <td>200</td>\n",
       "      <td>357</td>\n",
       "      <td>-</td>\n",
       "      <td>Mozilla/5.0 (X11; Linux x86_64) AppleWebKit/53...</td>\n",
       "      <td>Not found</td>\n",
       "      <td>Not found</td>\n",
       "      <td>Not found</td>\n",
       "      <td>Not found</td>\n",
       "      <td>True</td>\n",
       "    </tr>\n",
       "    <tr>\n",
       "      <th>1579</th>\n",
       "      <td>172.17.0.1</td>\n",
       "      <td>-</td>\n",
       "      <td>-</td>\n",
       "      <td>16/Jan/2021:12:53:50</td>\n",
       "      <td>+0000</td>\n",
       "      <td>GET /cgi-bin/weak_form.py?fname=abcd&amp;lname=&lt;sc...</td>\n",
       "      <td>200</td>\n",
       "      <td>342</td>\n",
       "      <td>-</td>\n",
       "      <td>curl/7.74.0</td>\n",
       "      <td>Not found</td>\n",
       "      <td>Not found</td>\n",
       "      <td>Not found</td>\n",
       "      <td>Not found</td>\n",
       "      <td>True</td>\n",
       "    </tr>\n",
       "    <tr>\n",
       "      <th>1580</th>\n",
       "      <td>172.17.0.1</td>\n",
       "      <td>-</td>\n",
       "      <td>-</td>\n",
       "      <td>16/Jan/2021:12:55:16</td>\n",
       "      <td>+0000</td>\n",
       "      <td>GET /cgi-bin/weak_form.py?fname=abcd&amp;lname=&lt;sc...</td>\n",
       "      <td>400</td>\n",
       "      <td>226</td>\n",
       "      <td>-</td>\n",
       "      <td>-</td>\n",
       "      <td>Not found</td>\n",
       "      <td>Not found</td>\n",
       "      <td>Not found</td>\n",
       "      <td>Not found</td>\n",
       "      <td>True</td>\n",
       "    </tr>\n",
       "    <tr>\n",
       "      <th>2033</th>\n",
       "      <td>64.242.88.10</td>\n",
       "      <td>-</td>\n",
       "      <td>-</td>\n",
       "      <td>08/Mar/2004:01:46:05</td>\n",
       "      <td>-0800</td>\n",
       "      <td>GET /twiki/bin/search/TWiki/?search=\\\\.*&amp;scope...</td>\n",
       "      <td>200</td>\n",
       "      <td>101279</td>\n",
       "      <td>-</td>\n",
       "      <td>-</td>\n",
       "      <td>US</td>\n",
       "      <td>37.751</td>\n",
       "      <td>-97.822</td>\n",
       "      <td>USA</td>\n",
       "      <td>True</td>\n",
       "    </tr>\n",
       "    <tr>\n",
       "      <th>2406</th>\n",
       "      <td>64.242.88.10</td>\n",
       "      <td>-</td>\n",
       "      <td>-</td>\n",
       "      <td>08/Mar/2004:12:58:39</td>\n",
       "      <td>-0800</td>\n",
       "      <td>GET /twiki/bin/search/Main/?search=\\\\.*&amp;scope=...</td>\n",
       "      <td>200</td>\n",
       "      <td>43915</td>\n",
       "      <td>-</td>\n",
       "      <td>-</td>\n",
       "      <td>US</td>\n",
       "      <td>37.751</td>\n",
       "      <td>-97.822</td>\n",
       "      <td>USA</td>\n",
       "      <td>True</td>\n",
       "    </tr>\n",
       "    <tr>\n",
       "      <th>2885</th>\n",
       "      <td>h24-71-236-129.ca.shawcable.net</td>\n",
       "      <td>-</td>\n",
       "      <td>-</td>\n",
       "      <td>10/Mar/2004:11:47:37</td>\n",
       "      <td>-0800</td>\n",
       "      <td>GET /mailman/admin/ppwc/?VARHELP=general/owner</td>\n",
       "      <td>200</td>\n",
       "      <td>3505</td>\n",
       "      <td>-</td>\n",
       "      <td>-</td>\n",
       "      <td>IN</td>\n",
       "      <td>28.6</td>\n",
       "      <td>77.2</td>\n",
       "      <td>IND</td>\n",
       "      <td>True</td>\n",
       "    </tr>\n",
       "  </tbody>\n",
       "</table>\n",
       "</div>"
      ],
      "text/plain": [
       "                              User_ID RFC931 User                  date  \\\n",
       "754                        172.17.0.1      -    -  15/Jan/2021:10:05:35   \n",
       "757                        172.17.0.1      -    -  16/Jan/2021:05:29:02   \n",
       "758                        172.17.0.1      -    -  16/Jan/2021:05:30:04   \n",
       "759                        172.17.0.1      -    -  16/Jan/2021:05:30:42   \n",
       "760                        172.17.0.1      -    -  16/Jan/2021:05:30:57   \n",
       "761                        172.17.0.1      -    -  16/Jan/2021:05:31:04   \n",
       "762                        172.17.0.1      -    -  16/Jan/2021:05:31:24   \n",
       "763                        172.17.0.1      -    -  16/Jan/2021:05:31:28   \n",
       "764                        172.17.0.1      -    -  16/Jan/2021:05:31:34   \n",
       "765                        172.17.0.1      -    -  16/Jan/2021:05:32:02   \n",
       "766                        172.17.0.1      -    -  16/Jan/2021:05:34:45   \n",
       "767                        172.17.0.1      -    -  16/Jan/2021:05:35:56   \n",
       "768                        172.17.0.1      -    -  16/Jan/2021:05:36:06   \n",
       "769                        172.17.0.1      -    -  16/Jan/2021:05:36:15   \n",
       "770                        172.17.0.1      -    -  16/Jan/2021:05:36:20   \n",
       "771                        172.17.0.1      -    -  16/Jan/2021:05:36:32   \n",
       "772                        172.17.0.1      -    -  16/Jan/2021:05:36:47   \n",
       "773                        172.17.0.1      -    -  16/Jan/2021:05:37:21   \n",
       "774                        172.17.0.1      -    -  16/Jan/2021:05:37:34   \n",
       "775                        172.17.0.1      -    -  16/Jan/2021:05:37:45   \n",
       "1530                       172.17.0.1      -    -  15/Jan/2021:10:05:35   \n",
       "1533                       172.17.0.1      -    -  16/Jan/2021:05:29:02   \n",
       "1534                       172.17.0.1      -    -  16/Jan/2021:05:30:04   \n",
       "1535                       172.17.0.1      -    -  16/Jan/2021:05:30:42   \n",
       "1536                       172.17.0.1      -    -  16/Jan/2021:05:30:57   \n",
       "1537                       172.17.0.1      -    -  16/Jan/2021:05:31:04   \n",
       "1538                       172.17.0.1      -    -  16/Jan/2021:05:31:24   \n",
       "1539                       172.17.0.1      -    -  16/Jan/2021:05:31:28   \n",
       "1540                       172.17.0.1      -    -  16/Jan/2021:05:31:34   \n",
       "1541                       172.17.0.1      -    -  16/Jan/2021:05:32:02   \n",
       "1542                       172.17.0.1      -    -  16/Jan/2021:05:34:45   \n",
       "1543                       172.17.0.1      -    -  16/Jan/2021:05:35:56   \n",
       "1544                       172.17.0.1      -    -  16/Jan/2021:05:36:06   \n",
       "1545                       172.17.0.1      -    -  16/Jan/2021:05:36:15   \n",
       "1546                       172.17.0.1      -    -  16/Jan/2021:05:36:20   \n",
       "1547                       172.17.0.1      -    -  16/Jan/2021:05:36:32   \n",
       "1548                       172.17.0.1      -    -  16/Jan/2021:05:36:47   \n",
       "1549                       172.17.0.1      -    -  16/Jan/2021:05:37:21   \n",
       "1550                       172.17.0.1      -    -  16/Jan/2021:05:37:34   \n",
       "1551                       172.17.0.1      -    -  16/Jan/2021:05:37:45   \n",
       "1565                       172.17.0.1      -    -  16/Jan/2021:12:40:33   \n",
       "1566                       172.17.0.1      -    -  16/Jan/2021:12:40:52   \n",
       "1573                       172.17.0.1      -    -  16/Jan/2021:12:46:56   \n",
       "1574                       172.17.0.1      -    -  16/Jan/2021:12:47:26   \n",
       "1575                       172.17.0.1      -    -  16/Jan/2021:12:47:49   \n",
       "1576                       172.17.0.1      -    -  16/Jan/2021:12:48:13   \n",
       "1579                       172.17.0.1      -    -  16/Jan/2021:12:53:50   \n",
       "1580                       172.17.0.1      -    -  16/Jan/2021:12:55:16   \n",
       "2033                     64.242.88.10      -    -  08/Mar/2004:01:46:05   \n",
       "2406                     64.242.88.10      -    -  08/Mar/2004:12:58:39   \n",
       "2885  h24-71-236-129.ca.shawcable.net      -    -  10/Mar/2004:11:47:37   \n",
       "\n",
       "        gmt                                             action status    size  \\\n",
       "754   +0000  GET /cgi-bin/weak_form.py?fname=asdasd%3C%2Fp%...    200     355   \n",
       "757   +0000  GET /cgi-bin/weak_form.py?fname=abcd&lname=111...    200     328   \n",
       "758   +0000  GET /cgi-bin/weak_form.py?fname=abcd&lname=111...    200     340   \n",
       "759   +0000  GET /cgi-bin/weak_form.py?fname=abcd&lname=111...    200     340   \n",
       "760   +0000  GET /cgi-bin/weak_form.py?fname=abcd&lname=111...    200     341   \n",
       "761   +0000  GET /cgi-bin/weak_form.py?fname=abcd&lname=111...    200     357   \n",
       "762   +0000  GET /cgi-bin/weak_form.py?fname=abcd&lname=111...    200     357   \n",
       "763   +0000  GET /cgi-bin/weak_form.py?fname=abcd&lname=111...    200     340   \n",
       "764   +0000  GET /cgi-bin/weak_form.py?fname=abcd&lname=111...    200     357   \n",
       "765   +0000  GET /cgi-bin/weak_form.py?fname=abcd&lname=111...    200     357   \n",
       "766   +0000  GET /cgi-bin/weak_form.py?fname=abcd&lname=111...    400     226   \n",
       "767   +0000  GET /cgi-bin/weak_form.py?fname=abcd&lname=111...    400     226   \n",
       "768   +0000  GET /cgi-bin/weak_form.py?fname=abcd&lname=111...    400     226   \n",
       "769   +0000  GET /cgi-bin/weak_form.py?fname=abcd&lname=111...    200     340   \n",
       "770   +0000  GET /cgi-bin/weak_form.py?fname=abcd&lname=111...    400     226   \n",
       "771   +0000  GET /cgi-bin/weak_form.py?fname=abcd&lname=111...    200     340   \n",
       "772   +0000  GET /cgi-bin/weak_form.py?fname=abcd&lname=111...    400     226   \n",
       "773   +0000  GET /cgi-bin/weak_form.py?fname=abcd&lname=111...    400     226   \n",
       "774   +0000  GET /cgi-bin/weak_form.py?fname=abcd&lname=111...    400     226   \n",
       "775   +0000  GET /cgi-bin/weak_form.py?fname=abcd&lname=111...    200     348   \n",
       "1530  +0000  GET /cgi-bin/weak_form.py?fname=asdasd%3C%2Fp%...    200     355   \n",
       "1533  +0000  GET /cgi-bin/weak_form.py?fname=abcd&lname=111...    200     328   \n",
       "1534  +0000  GET /cgi-bin/weak_form.py?fname=abcd&lname=111...    200     340   \n",
       "1535  +0000  GET /cgi-bin/weak_form.py?fname=abcd&lname=111...    200     340   \n",
       "1536  +0000  GET /cgi-bin/weak_form.py?fname=abcd&lname=111...    200     341   \n",
       "1537  +0000  GET /cgi-bin/weak_form.py?fname=abcd&lname=111...    200     357   \n",
       "1538  +0000  GET /cgi-bin/weak_form.py?fname=abcd&lname=111...    200     357   \n",
       "1539  +0000  GET /cgi-bin/weak_form.py?fname=abcd&lname=111...    200     340   \n",
       "1540  +0000  GET /cgi-bin/weak_form.py?fname=abcd&lname=111...    200     357   \n",
       "1541  +0000  GET /cgi-bin/weak_form.py?fname=abcd&lname=111...    200     357   \n",
       "1542  +0000  GET /cgi-bin/weak_form.py?fname=abcd&lname=111...    400     226   \n",
       "1543  +0000  GET /cgi-bin/weak_form.py?fname=abcd&lname=111...    400     226   \n",
       "1544  +0000  GET /cgi-bin/weak_form.py?fname=abcd&lname=111...    400     226   \n",
       "1545  +0000  GET /cgi-bin/weak_form.py?fname=abcd&lname=111...    200     340   \n",
       "1546  +0000  GET /cgi-bin/weak_form.py?fname=abcd&lname=111...    400     226   \n",
       "1547  +0000  GET /cgi-bin/weak_form.py?fname=abcd&lname=111...    200     340   \n",
       "1548  +0000  GET /cgi-bin/weak_form.py?fname=abcd&lname=111...    400     226   \n",
       "1549  +0000  GET /cgi-bin/weak_form.py?fname=abcd&lname=111...    400     226   \n",
       "1550  +0000  GET /cgi-bin/weak_form.py?fname=abcd&lname=111...    400     226   \n",
       "1551  +0000  GET /cgi-bin/weak_form.py?fname=abcd&lname=111...    200     348   \n",
       "1565  +0000  GET /cgi-bin/weak_form.py?fname=&lname=%3Cscri...    200     304   \n",
       "1566  +0000  GET /cgi-bin/weak_form.py?fname=sdfsdf&lname=%...    200     345   \n",
       "1573  +0000  GET /cgi-bin/weak_form.py?fname=abcd&lname=%3C...    200     348   \n",
       "1574  +0000  GET /cgi-bin/weak_form.py?fname=abcd&lname=%3C...    200     346   \n",
       "1575  +0000  GET /cgi-bin/weak_form.py?fname=abcd&lname=%3C...    200     357   \n",
       "1576  +0000  GET /cgi-bin/weak_form.py?fname=abcd&lname=%3C...    200     357   \n",
       "1579  +0000  GET /cgi-bin/weak_form.py?fname=abcd&lname=<sc...    200     342   \n",
       "1580  +0000  GET /cgi-bin/weak_form.py?fname=abcd&lname=<sc...    400     226   \n",
       "2033  -0800  GET /twiki/bin/search/TWiki/?search=\\\\.*&scope...    200  101279   \n",
       "2406  -0800  GET /twiki/bin/search/Main/?search=\\\\.*&scope=...    200   43915   \n",
       "2885  -0800     GET /mailman/admin/ppwc/?VARHELP=general/owner    200    3505   \n",
       "\n",
       "                                               referrer  \\\n",
       "754   http://172.17.0.2/cgi-bin/weak_form.py?fname=s...   \n",
       "757                                                   -   \n",
       "758                                                   -   \n",
       "759                                                   -   \n",
       "760                                                   -   \n",
       "761                                                   -   \n",
       "762                                                   -   \n",
       "763                                                   -   \n",
       "764                                                   -   \n",
       "765                                                   -   \n",
       "766                                                   -   \n",
       "767                                                   -   \n",
       "768                                                   -   \n",
       "769                                                   -   \n",
       "770                                                   -   \n",
       "771                                                   -   \n",
       "772                                                   -   \n",
       "773                                                   -   \n",
       "774                                                   -   \n",
       "775                                                   -   \n",
       "1530  http://172.17.0.2/cgi-bin/weak_form.py?fname=s...   \n",
       "1533                                                  -   \n",
       "1534                                                  -   \n",
       "1535                                                  -   \n",
       "1536                                                  -   \n",
       "1537                                                  -   \n",
       "1538                                                  -   \n",
       "1539                                                  -   \n",
       "1540                                                  -   \n",
       "1541                                                  -   \n",
       "1542                                                  -   \n",
       "1543                                                  -   \n",
       "1544                                                  -   \n",
       "1545                                                  -   \n",
       "1546                                                  -   \n",
       "1547                                                  -   \n",
       "1548                                                  -   \n",
       "1549                                                  -   \n",
       "1550                                                  -   \n",
       "1551                                                  -   \n",
       "1565  http://172.17.0.2/cgi-bin/weak_form.py?fname=a...   \n",
       "1566  http://172.17.0.2/cgi-bin/weak_form.py?fname=&...   \n",
       "1573                                                  -   \n",
       "1574  http://172.17.0.2/cgi-bin/weak_form.py?fname=a...   \n",
       "1575                                                  -   \n",
       "1576                                                  -   \n",
       "1579                                                  -   \n",
       "1580                                                  -   \n",
       "2033                                                  -   \n",
       "2406                                                  -   \n",
       "2885                                                  -   \n",
       "\n",
       "                                                browser country_code  \\\n",
       "754   Mozilla/5.0 (X11; Linux x86_64; rv:84.0) Gecko...    Not found   \n",
       "757                                         curl/7.74.0    Not found   \n",
       "758                                         curl/7.74.0    Not found   \n",
       "759                                         curl/7.74.0    Not found   \n",
       "760                                         curl/7.74.0    Not found   \n",
       "761                                         curl/7.74.0    Not found   \n",
       "762                                         curl/7.74.0    Not found   \n",
       "763                                         curl/7.74.0    Not found   \n",
       "764                                         curl/7.74.0    Not found   \n",
       "765                                         curl/7.74.0    Not found   \n",
       "766                                                   -    Not found   \n",
       "767                                                   -    Not found   \n",
       "768                                                   -    Not found   \n",
       "769                                         curl/7.74.0    Not found   \n",
       "770                                                   -    Not found   \n",
       "771                                         curl/7.74.0    Not found   \n",
       "772                                                   -    Not found   \n",
       "773                                                   -    Not found   \n",
       "774                                                   -    Not found   \n",
       "775                                         curl/7.74.0    Not found   \n",
       "1530  Mozilla/5.0 (X11; Linux x86_64; rv:84.0) Gecko...    Not found   \n",
       "1533                                        curl/7.74.0    Not found   \n",
       "1534                                        curl/7.74.0    Not found   \n",
       "1535                                        curl/7.74.0    Not found   \n",
       "1536                                        curl/7.74.0    Not found   \n",
       "1537                                        curl/7.74.0    Not found   \n",
       "1538                                        curl/7.74.0    Not found   \n",
       "1539                                        curl/7.74.0    Not found   \n",
       "1540                                        curl/7.74.0    Not found   \n",
       "1541                                        curl/7.74.0    Not found   \n",
       "1542                                                  -    Not found   \n",
       "1543                                                  -    Not found   \n",
       "1544                                                  -    Not found   \n",
       "1545                                        curl/7.74.0    Not found   \n",
       "1546                                                  -    Not found   \n",
       "1547                                        curl/7.74.0    Not found   \n",
       "1548                                                  -    Not found   \n",
       "1549                                                  -    Not found   \n",
       "1550                                                  -    Not found   \n",
       "1551                                        curl/7.74.0    Not found   \n",
       "1565  Mozilla/5.0 (X11; Linux x86_64) AppleWebKit/53...    Not found   \n",
       "1566  Mozilla/5.0 (X11; Linux x86_64) AppleWebKit/53...    Not found   \n",
       "1573  Mozilla/5.0 (X11; Linux x86_64) AppleWebKit/53...    Not found   \n",
       "1574  Mozilla/5.0 (X11; Linux x86_64) AppleWebKit/53...    Not found   \n",
       "1575  Mozilla/5.0 (X11; Linux x86_64) AppleWebKit/53...    Not found   \n",
       "1576  Mozilla/5.0 (X11; Linux x86_64) AppleWebKit/53...    Not found   \n",
       "1579                                        curl/7.74.0    Not found   \n",
       "1580                                                  -    Not found   \n",
       "2033                                                  -           US   \n",
       "2406                                                  -           US   \n",
       "2885                                                  -           IN   \n",
       "\n",
       "       latitude  longitude    alpha_3  XSS_attack  \n",
       "754   Not found  Not found  Not found        True  \n",
       "757   Not found  Not found  Not found        True  \n",
       "758   Not found  Not found  Not found        True  \n",
       "759   Not found  Not found  Not found        True  \n",
       "760   Not found  Not found  Not found        True  \n",
       "761   Not found  Not found  Not found        True  \n",
       "762   Not found  Not found  Not found        True  \n",
       "763   Not found  Not found  Not found        True  \n",
       "764   Not found  Not found  Not found        True  \n",
       "765   Not found  Not found  Not found        True  \n",
       "766   Not found  Not found  Not found        True  \n",
       "767   Not found  Not found  Not found        True  \n",
       "768   Not found  Not found  Not found        True  \n",
       "769   Not found  Not found  Not found        True  \n",
       "770   Not found  Not found  Not found        True  \n",
       "771   Not found  Not found  Not found        True  \n",
       "772   Not found  Not found  Not found        True  \n",
       "773   Not found  Not found  Not found        True  \n",
       "774   Not found  Not found  Not found        True  \n",
       "775   Not found  Not found  Not found        True  \n",
       "1530  Not found  Not found  Not found        True  \n",
       "1533  Not found  Not found  Not found        True  \n",
       "1534  Not found  Not found  Not found        True  \n",
       "1535  Not found  Not found  Not found        True  \n",
       "1536  Not found  Not found  Not found        True  \n",
       "1537  Not found  Not found  Not found        True  \n",
       "1538  Not found  Not found  Not found        True  \n",
       "1539  Not found  Not found  Not found        True  \n",
       "1540  Not found  Not found  Not found        True  \n",
       "1541  Not found  Not found  Not found        True  \n",
       "1542  Not found  Not found  Not found        True  \n",
       "1543  Not found  Not found  Not found        True  \n",
       "1544  Not found  Not found  Not found        True  \n",
       "1545  Not found  Not found  Not found        True  \n",
       "1546  Not found  Not found  Not found        True  \n",
       "1547  Not found  Not found  Not found        True  \n",
       "1548  Not found  Not found  Not found        True  \n",
       "1549  Not found  Not found  Not found        True  \n",
       "1550  Not found  Not found  Not found        True  \n",
       "1551  Not found  Not found  Not found        True  \n",
       "1565  Not found  Not found  Not found        True  \n",
       "1566  Not found  Not found  Not found        True  \n",
       "1573  Not found  Not found  Not found        True  \n",
       "1574  Not found  Not found  Not found        True  \n",
       "1575  Not found  Not found  Not found        True  \n",
       "1576  Not found  Not found  Not found        True  \n",
       "1579  Not found  Not found  Not found        True  \n",
       "1580  Not found  Not found  Not found        True  \n",
       "2033     37.751    -97.822        USA        True  \n",
       "2406     37.751    -97.822        USA        True  \n",
       "2885       28.6       77.2        IND        True  "
      ]
     },
     "execution_count": 28,
     "metadata": {},
     "output_type": "execute_result"
    }
   ],
   "source": [
    "df[df['XSS_attack']==True]"
   ]
  },
  {
   "cell_type": "markdown",
   "metadata": {},
   "source": [
    "# 6.) Time Series Graph for Hits Vs Time"
   ]
  },
  {
   "cell_type": "code",
   "execution_count": 64,
   "metadata": {},
   "outputs": [],
   "source": [
    "df_date = pd.to_datetime(df['date'], format = '%d/%b/%Y:%H:%M:%S')"
   ]
  },
  {
   "cell_type": "code",
   "execution_count": 69,
   "metadata": {},
   "outputs": [
    {
     "data": {
      "application/vnd.plotly.v1+json": {
       "config": {
        "plotlyServerURL": "https://plot.ly"
       },
       "data": [
        {
         "hovertemplate": "x=%{x}<br>y=%{y}<extra></extra>",
         "legendgroup": "",
         "line": {
          "color": "#636efa",
          "dash": "solid"
         },
         "mode": "lines",
         "name": "",
         "showlegend": false,
         "type": "scattergl",
         "x": [
          "2021-01-15T08:54:07",
          "2021-01-15T08:55:23",
          "2021-01-15T09:01:38",
          "2021-01-15T09:02:14",
          "2021-01-15T09:02:15",
          "2021-01-15T09:02:27",
          "2021-01-15T09:02:28",
          "2021-01-15T09:03:26",
          "2021-01-15T09:12:34",
          "2021-01-15T09:12:38",
          "2021-01-15T09:13:05",
          "2021-01-15T09:13:09",
          "2021-01-15T09:13:18",
          "2021-01-15T09:13:19",
          "2021-01-15T09:16:20",
          "2021-01-15T09:16:27",
          "2021-01-15T09:17:06",
          "2021-01-15T09:18:50",
          "2021-01-15T09:18:57",
          "2021-01-15T09:19:05",
          "2021-01-15T09:22:13",
          "2021-01-15T09:33:26",
          "2021-01-15T09:33:41",
          "2021-01-15T09:33:42",
          "2021-01-15T09:33:43",
          "2021-01-15T09:33:44",
          "2021-01-15T09:33:45",
          "2021-01-15T09:33:46",
          "2021-01-15T09:33:47",
          "2021-01-15T09:33:48",
          "2021-01-15T09:33:49",
          "2021-01-15T09:33:50",
          "2021-01-15T09:33:51",
          "2021-01-15T09:33:54",
          "2021-01-15T09:33:52",
          "2021-01-15T09:33:55",
          "2021-01-15T09:33:53",
          "2021-01-15T09:33:57",
          "2021-01-15T09:33:56",
          "2021-01-15T09:34:02",
          "2021-01-15T09:34:03",
          "2021-01-15T09:33:58",
          "2021-01-15T09:33:59",
          "2021-01-15T09:34:07",
          "2021-01-15T09:34:00",
          "2021-01-15T09:34:01",
          "2021-01-15T09:34:08",
          "2021-01-15T09:34:11",
          "2021-01-15T09:34:04",
          "2021-01-15T09:34:13",
          "2021-01-15T09:34:12",
          "2021-01-15T09:34:05",
          "2021-01-15T09:34:14",
          "2021-01-15T09:34:06",
          "2021-01-15T09:34:15",
          "2021-01-15T09:34:09",
          "2021-01-15T09:34:10",
          "2021-01-15T09:34:16",
          "2021-01-15T09:34:17",
          "2021-01-15T09:34:18",
          "2021-01-15T09:52:58",
          "2021-01-15T09:53:19",
          "2021-01-15T09:56:07",
          "2021-01-15T09:56:25",
          "2021-01-15T09:58:49",
          "2021-01-15T09:59:17",
          "2021-01-15T09:59:23",
          "2021-01-15T09:59:34",
          "2021-01-15T10:00:53",
          "2021-01-15T10:02:36",
          "2021-01-15T10:02:46",
          "2021-01-15T10:02:52",
          "2021-01-15T10:03:07",
          "2021-01-15T10:03:45",
          "2021-01-15T10:04:17",
          "2021-01-15T10:04:31",
          "2021-01-15T10:04:40",
          "2021-01-15T10:04:46",
          "2021-01-15T10:04:58",
          "2021-01-15T10:05:35",
          "2021-01-16T05:27:24",
          "2021-01-16T05:28:03",
          "2021-01-16T05:29:02",
          "2021-01-16T05:30:04",
          "2021-01-16T05:30:42",
          "2021-01-16T05:30:57",
          "2021-01-16T05:31:04",
          "2021-01-16T05:31:24",
          "2021-01-16T05:31:28",
          "2021-01-16T05:31:34",
          "2021-01-16T05:32:02",
          "2021-01-16T05:34:45",
          "2021-01-16T05:35:56",
          "2021-01-16T05:36:06",
          "2021-01-16T05:36:15",
          "2021-01-16T05:36:20",
          "2021-01-16T05:36:32",
          "2021-01-16T05:36:47",
          "2021-01-16T05:37:21",
          "2021-01-16T05:37:34",
          "2021-01-16T05:37:45",
          "2021-01-16T12:11:10",
          "2021-01-16T12:11:30",
          "2021-01-16T12:34:24",
          "2021-01-16T12:35:05",
          "2021-01-16T12:35:25",
          "2021-01-16T12:36:27",
          "2021-01-16T12:37:39",
          "2021-01-16T12:40:33",
          "2021-01-16T12:40:52",
          "2021-01-16T12:43:45",
          "2021-01-16T12:43:59",
          "2021-01-16T12:44:34",
          "2021-01-16T12:45:38",
          "2021-01-16T12:46:18",
          "2021-01-16T12:46:23",
          "2021-01-16T12:46:56",
          "2021-01-16T12:47:26",
          "2021-01-16T12:47:49",
          "2021-01-16T12:48:13",
          "2021-01-16T12:52:33",
          "2021-01-16T12:53:24",
          "2021-01-16T12:53:50",
          "2021-01-16T12:55:16",
          "2021-01-16T13:01:32",
          "2021-01-16T13:01:33",
          "2021-01-16T13:01:35",
          "2021-01-16T13:01:37",
          "2021-01-16T13:01:39",
          "2021-01-16T13:01:38",
          "2021-01-16T13:01:41",
          "2021-01-16T13:01:42",
          "2021-01-16T13:01:44",
          "2021-01-16T13:01:46",
          "2021-01-16T13:01:40",
          "2021-01-16T13:01:47",
          "2021-01-16T13:01:49",
          "2021-01-16T13:01:50",
          "2021-01-16T13:01:51",
          "2021-01-16T13:01:53",
          "2021-01-16T13:01:52",
          "2021-01-16T13:01:54",
          "2021-01-16T13:01:58",
          "2021-01-16T13:02:01",
          "2021-01-16T13:01:45",
          "2021-01-16T13:02:02",
          "2021-01-16T13:01:55",
          "2021-01-16T13:02:06",
          "2021-01-16T13:02:08",
          "2021-01-16T13:02:09",
          "2021-01-16T13:01:57",
          "2021-01-16T13:02:10",
          "2021-01-16T13:01:56",
          "2021-01-16T13:01:59",
          "2021-01-16T13:02:03",
          "2021-01-16T13:02:07",
          "2021-01-16T13:02:12",
          "2021-01-16T13:02:13",
          "2021-01-16T13:02:14",
          "2021-01-16T13:02:11",
          "2021-01-16T13:02:16",
          "2021-01-16T13:02:15",
          "2021-01-16T13:02:21",
          "2021-01-16T13:02:22",
          "2021-01-16T13:02:23",
          "2021-01-16T13:02:24",
          "2021-01-16T13:02:25",
          "2021-01-16T13:02:17",
          "2021-01-16T13:02:18",
          "2021-01-16T13:02:20",
          "2004-03-07T16:05:49",
          "2004-03-07T16:06:51",
          "2004-03-07T16:10:02",
          "2004-03-07T16:11:58",
          "2004-03-07T16:20:55",
          "2004-03-07T16:23:12",
          "2004-03-07T16:24:16",
          "2004-03-07T16:29:16",
          "2004-03-07T16:30:29",
          "2004-03-07T16:31:48",
          "2004-03-07T16:32:50",
          "2004-03-07T16:33:53",
          "2004-03-07T16:35:19",
          "2004-03-07T16:36:22",
          "2004-03-07T16:37:27",
          "2004-03-07T16:39:24",
          "2004-03-07T16:43:54",
          "2004-03-07T16:45:56",
          "2004-03-07T16:47:12",
          "2004-03-07T16:47:46",
          "2004-03-07T16:49:04",
          "2004-03-07T16:50:54",
          "2004-03-07T16:52:35",
          "2004-03-07T16:53:46",
          "2004-03-07T16:54:55",
          "2004-03-07T16:56:39",
          "2004-03-07T16:58:54",
          "2004-03-07T17:01:53",
          "2004-03-07T17:09:01",
          "2004-03-07T17:10:20",
          "2004-03-07T17:13:50",
          "2004-03-07T17:16:00",
          "2004-03-07T17:17:27",
          "2004-03-07T17:18:36",
          "2004-03-07T17:18:41",
          "2004-03-07T17:21:44",
          "2004-03-07T17:22:49",
          "2004-03-07T17:23:54",
          "2004-03-07T17:26:30",
          "2004-03-07T17:27:37",
          "2004-03-07T17:28:45",
          "2004-03-07T17:29:59",
          "2004-03-07T17:31:39",
          "2004-03-07T17:35:35",
          "2004-03-07T17:39:39",
          "2004-03-07T17:42:15",
          "2004-03-07T17:46:17",
          "2004-03-07T17:47:43",
          "2004-03-07T17:50:44",
          "2004-03-07T17:53:45",
          "2004-03-07T17:56:54",
          "2004-03-07T17:58:00",
          "2004-03-07T18:00:09",
          "2004-03-07T18:02:10",
          "2004-03-07T18:04:05",
          "2004-03-07T18:06:14",
          "2004-03-07T18:09:00",
          "2004-03-07T18:10:09",
          "2004-03-07T18:10:18",
          "2004-03-07T18:10:20",
          "2004-03-07T18:17:26",
          "2004-03-07T18:19:01",
          "2004-03-07T18:19:16",
          "2004-03-07T18:22:52",
          "2004-03-07T18:26:32",
          "2004-03-07T18:32:39",
          "2004-03-07T18:34:42",
          "2004-03-07T18:42:29",
          "2004-03-07T18:46:00",
          "2004-03-07T18:47:06",
          "2004-03-07T18:48:15",
          "2004-03-07T18:52:30",
          "2004-03-07T18:53:55",
          "2004-03-07T18:57:07",
          "2004-03-07T18:58:52",
          "2004-03-07T18:59:52",
          "2004-03-07T19:01:48",
          "2004-03-07T19:03:58",
          "2004-03-07T19:08:55",
          "2004-03-07T19:10:13",
          "2004-03-07T19:15:38",
          "2004-03-07T19:16:44",
          "2004-03-07T19:18:05",
          "2004-03-07T19:19:19",
          "2004-03-07T19:21:01",
          "2004-03-07T19:22:11",
          "2004-03-07T19:24:57",
          "2004-03-07T19:26:22",
          "2004-03-07T19:29:46",
          "2004-03-07T19:31:25",
          "2004-03-07T19:32:45",
          "2004-03-07T19:36:14",
          "2004-03-07T19:39:40",
          "2004-03-07T19:41:33",
          "2004-03-07T19:42:45",
          "2004-03-07T19:47:36",
          "2004-03-07T19:49:28",
          "2004-03-07T19:52:28",
          "2004-03-07T19:54:33",
          "2004-03-07T19:55:40",
          "2004-03-07T19:56:41",
          "2004-03-07T19:58:24",
          "2004-03-07T20:00:06",
          "2004-03-07T20:02:13",
          "2004-03-07T20:03:29",
          "2004-03-07T20:04:03",
          "2004-03-07T20:04:35",
          "2004-03-07T20:07:12",
          "2004-03-07T20:10:50",
          "2004-03-07T20:11:33",
          "2004-03-07T20:12:55",
          "2004-03-07T20:23:35",
          "2004-03-07T20:25:31",
          "2004-03-07T20:31:40",
          "2004-03-07T20:35:28",
          "2004-03-07T20:38:14",
          "2004-03-07T20:40:41",
          "2004-03-07T20:42:09",
          "2004-03-07T20:44:48",
          "2004-03-07T20:55:43",
          "2004-03-07T20:56:56",
          "2004-03-07T20:58:27",
          "2004-03-07T21:03:48",
          "2004-03-07T21:06:05",
          "2004-03-07T21:07:24",
          "2004-03-07T21:14:32",
          "2004-03-07T21:16:17",
          "2004-03-07T21:16:18",
          "2004-03-07T21:16:21",
          "2004-03-07T21:16:23",
          "2004-03-07T21:16:33",
          "2004-03-07T21:16:40",
          "2004-03-07T21:20:14",
          "2004-03-07T21:21:40",
          "2004-03-07T21:23:38",
          "2004-03-07T21:31:12",
          "2004-03-07T21:33:51",
          "2004-03-07T21:34:00",
          "2004-03-07T21:39:55",
          "2004-03-07T21:41:04",
          "2004-03-07T21:42:47",
          "2004-03-07T21:44:10",
          "2004-03-07T21:50:22",
          "2004-03-07T21:52:05",
          "2004-03-07T22:03:19",
          "2004-03-07T22:04:44",
          "2004-03-07T22:06:16",
          "2004-03-07T22:07:33",
          "2004-03-07T22:08:43",
          "2004-03-07T22:09:44",
          "2004-03-07T22:10:55",
          "2004-03-07T22:12:28",
          "2004-03-07T22:15:57",
          "2004-03-07T22:17:40",
          "2004-03-07T22:27:18",
          "2004-03-07T22:29:10",
          "2004-03-07T22:29:12",
          "2004-03-07T22:29:13",
          "2004-03-07T22:29:41",
          "2004-03-07T22:30:08",
          "2004-03-07T22:31:25",
          "2004-03-07T22:35:53",
          "2004-03-07T22:36:58",
          "2004-03-07T22:39:00",
          "2004-03-07T22:45:46",
          "2004-03-07T22:47:19",
          "2004-03-07T22:48:55",
          "2004-03-07T22:51:55",
          "2004-03-07T22:53:36",
          "2004-03-07T22:54:43",
          "2004-03-07T22:58:24",
          "2004-03-07T23:09:07",
          "2004-03-07T23:10:27",
          "2004-03-07T23:10:44",
          "2004-03-07T23:13:51",
          "2004-03-07T23:15:51",
          "2004-03-07T23:16:57",
          "2004-03-07T23:19:01",
          "2004-03-07T23:20:26",
          "2004-03-07T23:23:00",
          "2004-03-07T23:27:26",
          "2004-03-07T23:30:23",
          "2004-03-07T23:34:31",
          "2004-03-07T23:36:48",
          "2004-03-07T23:36:59",
          "2004-03-07T23:37:48",
          "2004-03-07T23:42:44",
          "2004-03-07T23:47:58",
          "2004-03-07T23:50:03",
          "2004-03-07T23:51:38",
          "2004-03-07T23:56:30",
          "2004-03-07T23:58:53",
          "2004-03-08T00:05:30",
          "2004-03-08T00:05:35",
          "2004-03-08T00:06:32",
          "2004-03-08T00:08:58",
          "2004-03-08T00:11:22",
          "2004-03-08T00:17:00",
          "2004-03-08T00:17:22",
          "2004-03-08T00:19:51",
          "2004-03-08T00:21:54",
          "2004-03-08T00:25:11",
          "2004-03-08T00:27:53",
          "2004-03-08T00:29:13",
          "2004-03-08T00:32:45",
          "2004-03-08T00:36:21",
          "2004-03-08T00:37:23",
          "2004-03-08T00:40:10",
          "2004-03-08T00:43:43",
          "2004-03-08T00:50:59",
          "2004-03-08T00:52:12",
          "2004-03-08T00:54:26",
          "2004-03-08T00:55:38",
          "2004-03-08T01:00:08",
          "2004-03-08T01:01:15",
          "2004-03-08T01:02:16",
          "2004-03-08T01:04:05",
          "2004-03-08T01:04:54",
          "2004-03-08T01:10:43",
          "2004-03-08T01:12:20",
          "2004-03-08T01:16:37",
          "2004-03-08T01:19:18",
          "2004-03-08T01:24:13",
          "2004-03-08T01:25:15",
          "2004-03-08T01:29:17",
          "2004-03-08T01:30:39",
          "2004-03-08T01:33:14",
          "2004-03-08T01:35:13",
          "2004-03-08T01:41:14",
          "2004-03-08T01:46:05",
          "2004-03-08T01:47:06",
          "2004-03-08T01:48:06",
          "2004-03-08T01:50:37",
          "2004-03-08T01:59:13",
          "2004-03-08T02:00:30",
          "2004-03-08T02:01:34",
          "2004-03-08T02:03:12",
          "2004-03-08T02:05:15",
          "2004-03-08T02:06:17",
          "2004-03-08T02:07:21",
          "2004-03-08T02:09:08",
          "2004-03-08T02:12:24",
          "2004-03-08T02:16:24",
          "2004-03-08T02:17:10",
          "2004-03-08T02:22:19",
          "2004-03-08T02:23:45",
          "2004-03-08T02:26:44",
          "2004-03-08T02:27:51",
          "2004-03-08T02:33:28",
          "2004-03-08T02:34:40",
          "2004-03-08T02:42:36",
          "2004-03-08T02:45:03",
          "2004-03-08T02:46:12",
          "2004-03-08T02:47:58",
          "2004-03-08T02:48:05",
          "2004-03-08T02:50:53",
          "2004-03-08T02:50:54",
          "2004-03-08T02:52:39",
          "2004-03-08T02:54:29",
          "2004-03-08T02:54:54",
          "2004-03-08T02:59:03",
          "2004-03-08T03:01:12",
          "2004-03-08T03:06:31",
          "2004-03-08T03:07:59",
          "2004-03-08T03:09:20",
          "2004-03-08T03:11:28",
          "2004-03-08T03:16:22",
          "2004-03-08T03:17:50",
          "2004-03-08T03:21:16",
          "2004-03-08T03:26:06",
          "2004-03-08T03:28:02",
          "2004-03-08T03:33:52",
          "2004-03-08T03:35:42",
          "2004-03-08T03:40:51",
          "2004-03-08T03:42:20",
          "2004-03-08T03:46:27",
          "2004-03-08T03:48:18",
          "2004-03-08T03:49:24",
          "2004-03-08T03:51:05",
          "2004-03-08T03:52:17",
          "2004-03-08T03:53:59",
          "2004-03-08T03:54:03",
          "2004-03-08T03:55:09",
          "2004-03-08T04:16:08",
          "2004-03-08T04:18:28",
          "2004-03-08T04:20:48",
          "2004-03-08T04:21:53",
          "2004-03-08T04:22:55",
          "2004-03-08T04:24:47",
          "2004-03-08T04:25:38",
          "2004-03-08T04:25:44",
          "2004-03-08T04:26:02",
          "2004-03-08T04:26:11",
          "2004-03-08T04:28:34",
          "2004-03-08T04:28:38",
          "2004-03-08T04:28:41",
          "2004-03-08T04:28:42",
          "2004-03-08T04:28:52",
          "2004-03-08T04:29:00",
          "2004-03-08T04:29:11",
          "2004-03-08T04:29:21",
          "2004-03-08T04:29:30",
          "2004-03-08T04:33:25",
          "2004-03-08T04:40:32",
          "2004-03-08T04:43:52",
          "2004-03-08T04:52:13",
          "2004-03-08T04:55:40",
          "2004-03-08T04:59:13",
          "2004-03-08T05:00:42",
          "2004-03-08T05:00:44",
          "2004-03-08T05:00:45",
          "2004-03-08T05:00:46",
          "2004-03-08T05:00:52",
          "2004-03-08T05:01:02",
          "2004-03-08T05:01:14",
          "2004-03-08T05:01:58",
          "2004-03-08T05:02:06",
          "2004-03-08T05:02:07",
          "2004-03-08T05:03:13",
          "2004-03-08T05:13:35",
          "2004-03-08T05:16:15",
          "2004-03-08T05:16:20",
          "2004-03-08T05:22:57",
          "2004-03-08T05:23:37",
          "2004-03-08T05:24:18",
          "2004-03-08T05:24:29",
          "2004-03-08T05:24:50",
          "2004-03-08T05:25:46",
          "2004-03-08T05:26:02",
          "2004-03-08T05:26:06",
          "2004-03-08T05:26:08",
          "2004-03-08T05:26:16",
          "2004-03-08T05:30:07",
          "2004-03-08T05:31:47",
          "2004-03-08T05:32:01",
          "2004-03-08T05:34:33",
          "2004-03-08T05:36:56",
          "2004-03-08T05:38:57",
          "2004-03-08T05:42:06",
          "2004-03-08T05:47:38",
          "2004-03-08T05:48:48",
          "2004-03-08T05:51:45",
          "2004-03-08T05:56:08",
          "2004-03-08T05:57:15",
          "2004-03-08T05:58:39",
          "2004-03-08T06:01:51",
          "2004-03-08T06:09:37",
          "2004-03-08T06:17:13",
          "2004-03-08T06:20:36",
          "2004-03-08T06:23:52",
          "2004-03-08T06:32:14",
          "2004-03-08T06:37:19",
          "2004-03-08T06:41:22",
          "2004-03-08T06:42:29",
          "2004-03-08T06:43:32",
          "2004-03-08T06:47:41",
          "2004-03-08T06:49:27",
          "2004-03-08T06:54:30",
          "2004-03-08T06:57:09",
          "2004-03-08T06:57:46",
          "2004-03-08T07:00:15",
          "2004-03-08T07:07:13",
          "2004-03-08T07:09:12",
          "2004-03-08T07:09:21",
          "2004-03-08T07:10:26",
          "2004-03-08T07:11:37",
          "2004-03-08T07:12:39",
          "2004-03-08T07:22:13",
          "2004-03-08T07:23:38",
          "2004-03-08T07:24:43",
          "2004-03-08T07:25:56",
          "2004-03-08T07:27:01",
          "2004-03-08T07:27:36",
          "2004-03-08T07:27:37",
          "2004-03-08T07:28:29",
          "2004-03-08T07:29:56",
          "2004-03-08T07:35:50",
          "2004-03-08T07:39:31",
          "2004-03-08T07:40:54",
          "2004-03-08T07:43:21",
          "2004-03-08T07:44:53",
          "2004-03-08T07:49:56",
          "2004-03-08T07:51:39",
          "2004-03-08T07:53:19",
          "2004-03-08T07:53:37",
          "2004-03-08T07:53:38",
          "2004-03-08T07:54:30",
          "2004-03-08T07:56:34",
          "2004-03-08T08:04:46",
          "2004-03-08T08:09:32",
          "2004-03-08T08:12:50",
          "2004-03-08T08:14:15",
          "2004-03-08T08:15:21",
          "2004-03-08T08:17:09",
          "2004-03-08T08:18:52",
          "2004-03-08T08:21:00",
          "2004-03-08T08:21:47",
          "2004-03-08T08:25:37",
          "2004-03-08T08:26:41",
          "2004-03-08T08:27:04",
          "2004-03-08T08:27:08",
          "2004-03-08T08:27:14",
          "2004-03-08T08:27:23",
          "2004-03-08T08:27:28",
          "2004-03-08T08:28:23",
          "2004-03-08T08:29:36",
          "2004-03-08T08:29:57",
          "2004-03-08T08:30:25",
          "2004-03-08T08:31:37",
          "2004-03-08T08:32:24",
          "2004-03-08T08:32:27",
          "2004-03-08T08:32:34",
          "2004-03-08T08:33:27",
          "2004-03-08T08:33:30",
          "2004-03-08T08:33:39",
          "2004-03-08T08:33:51",
          "2004-03-08T08:33:52",
          "2004-03-08T08:33:57",
          "2004-03-08T08:34:09",
          "2004-03-08T08:34:53",
          "2004-03-08T08:36:05",
          "2004-03-08T08:37:14",
          "2004-03-08T08:37:17",
          "2004-03-08T08:37:23",
          "2004-03-08T08:37:53",
          "2004-03-08T08:40:15",
          "2004-03-08T08:52:13",
          "2004-03-08T08:53:17",
          "2004-03-08T08:55:12",
          "2004-03-08T09:02:14",
          "2004-03-08T09:02:21",
          "2004-03-08T09:02:29",
          "2004-03-08T09:02:31",
          "2004-03-08T09:02:32",
          "2004-03-08T09:02:54",
          "2004-03-08T09:03:18",
          "2004-03-08T09:05:54",
          "2004-03-08T09:09:55",
          "2004-03-08T09:12:54",
          "2004-03-08T09:16:26",
          "2004-03-08T09:17:16",
          "2004-03-08T09:17:17",
          "2004-03-08T09:17:18",
          "2004-03-08T09:18:53",
          "2004-03-08T09:18:56",
          "2004-03-08T09:18:57",
          "2004-03-08T09:23:03",
          "2004-03-08T09:25:42",
          "2004-03-08T09:29:35",
          "2004-03-08T09:29:36",
          "2004-03-08T09:30:10",
          "2004-03-08T09:30:11",
          "2004-03-08T09:30:40",
          "2004-03-08T09:32:32",
          "2004-03-08T09:33:46",
          "2004-03-08T09:33:53",
          "2004-03-08T09:34:58",
          "2004-03-08T09:36:35",
          "2004-03-08T09:38:11",
          "2004-03-08T09:40:30",
          "2004-03-08T09:41:15",
          "2004-03-08T09:42:27",
          "2004-03-08T09:45:15",
          "2004-03-08T10:01:06",
          "2004-03-08T10:05:40",
          "2004-03-08T10:06:28",
          "2004-03-08T10:08:02",
          "2004-03-08T10:09:52",
          "2004-03-08T10:14:46",
          "2004-03-08T10:16:52",
          "2004-03-08T10:18:21",
          "2004-03-08T10:21:21",
          "2004-03-08T10:30:56",
          "2004-03-08T10:32:18",
          "2004-03-08T10:34:55",
          "2004-03-08T10:40:09",
          "2004-03-08T10:45:25",
          "2004-03-08T10:46:34",
          "2004-03-08T10:48:02",
          "2004-03-08T10:48:05",
          "2004-03-08T10:48:06",
          "2004-03-08T10:48:19",
          "2004-03-08T10:48:37",
          "2004-03-08T10:50:05",
          "2004-03-08T11:03:34",
          "2004-03-08T11:06:20",
          "2004-03-08T11:06:28",
          "2004-03-08T11:09:24",
          "2004-03-08T11:10:09",
          "2004-03-08T11:10:24",
          "2004-03-08T11:11:04",
          "2004-03-08T11:11:10",
          "2004-03-08T11:11:15",
          "2004-03-08T11:11:26",
          "2004-03-08T11:11:51",
          "2004-03-08T11:15:51",
          "2004-03-08T11:17:49",
          "2004-03-08T11:19:43",
          "2004-03-08T11:24:12",
          "2004-03-08T11:25:16",
          "2004-03-08T11:40:41",
          "2004-03-08T11:40:42",
          "2004-03-08T11:41:14",
          "2004-03-08T11:43:17",
          "2004-03-08T11:45:08",
          "2004-03-08T11:47:52",
          "2004-03-08T11:49:23",
          "2004-03-08T11:51:20",
          "2004-03-08T11:56:19",
          "2004-03-08T11:57:28",
          "2004-03-08T12:00:26",
          "2004-03-08T12:06:03",
          "2004-03-08T12:06:29",
          "2004-03-08T12:07:13",
          "2004-03-08T12:08:32",
          "2004-03-08T12:10:39",
          "2004-03-08T12:12:50",
          "2004-03-08T12:15:36",
          "2004-03-08T12:20:18",
          "2004-03-08T12:25:47",
          "2004-03-08T12:28:09",
          "2004-03-08T12:31:32",
          "2004-03-08T12:33:09",
          "2004-03-08T12:39:34",
          "2004-03-08T12:40:36",
          "2004-03-08T12:42:04",
          "2004-03-08T12:43:08",
          "2004-03-08T12:45:13",
          "2004-03-08T12:47:42",
          "2004-03-08T12:55:18",
          "2004-03-08T12:58:39",
          "2004-03-08T12:58:50",
          "2004-03-08T12:59:18",
          "2004-03-08T12:59:34",
          "2004-03-08T12:59:37",
          "2004-03-08T12:59:55",
          "2004-03-08T13:00:12",
          "2004-03-08T13:00:13",
          "2004-03-08T13:00:20",
          "2004-03-08T13:00:27",
          "2004-03-08T13:00:40",
          "2004-03-08T13:01:27",
          "2004-03-08T13:01:29",
          "2004-03-08T13:01:35",
          "2004-03-08T13:01:38",
          "2004-03-08T13:01:42",
          "2004-03-08T13:01:55",
          "2004-03-08T13:02:03",
          "2004-03-08T13:02:16",
          "2004-03-08T13:04:14",
          "2004-03-08T13:07:16",
          "2004-03-08T13:08:17",
          "2004-03-08T13:12:54",
          "2004-03-08T13:15:03",
          "2004-03-08T13:16:11",
          "2004-03-08T13:17:23",
          "2004-03-08T13:18:57",
          "2004-03-08T13:24:49",
          "2004-03-08T13:29:37",
          "2004-03-08T13:31:16",
          "2004-03-08T13:32:35",
          "2004-03-08T13:35:02",
          "2004-03-08T13:36:06",
          "2004-03-08T13:38:39",
          "2004-03-08T13:45:46",
          "2004-03-08T13:48:06",
          "2004-03-08T13:49:47",
          "2004-03-08T13:55:51",
          "2004-03-08T13:56:52",
          "2004-03-08T13:57:52",
          "2004-03-08T13:58:55",
          "2004-03-08T14:00:08",
          "2004-03-08T14:01:36",
          "2004-03-08T14:07:26",
          "2004-03-08T14:11:28",
          "2004-03-08T14:12:49",
          "2004-03-08T14:13:51",
          "2004-03-08T14:15:01",
          "2004-03-08T14:16:38",
          "2004-03-08T14:16:39",
          "2004-03-08T14:23:54",
          "2004-03-08T14:25:33",
          "2004-03-08T14:26:45",
          "2004-03-08T14:27:46",
          "2004-03-08T14:28:46",
          "2004-03-08T14:33:56",
          "2004-03-08T14:40:18",
          "2004-03-08T14:41:22",
          "2004-03-08T14:42:44",
          "2004-03-08T14:43:45",
          "2004-03-08T14:52:51",
          "2004-03-08T14:54:56",
          "2004-03-08T14:57:19",
          "2004-03-08T14:58:58",
          "2004-03-08T15:00:07",
          "2004-03-08T15:01:12",
          "2004-03-08T15:02:29",
          "2004-03-08T15:03:49",
          "2004-03-08T15:07:41",
          "2004-03-08T15:15:17",
          "2004-03-08T15:16:14",
          "2004-03-08T15:17:18",
          "2004-03-08T15:19:35",
          "2004-03-08T16:54:47",
          "2004-03-08T17:39:00",
          "2004-03-08T17:39:01",
          "2004-03-08T18:14:44",
          "2004-03-08T18:20:44",
          "2004-03-08T18:23:43",
          "2004-03-08T18:39:33",
          "2004-03-08T18:39:35",
          "2004-03-08T18:39:36",
          "2004-03-08T18:41:16",
          "2004-03-08T19:08:27",
          "2004-03-08T19:08:28",
          "2004-03-08T19:08:39",
          "2004-03-08T19:08:52",
          "2004-03-08T19:10:06",
          "2004-03-08T19:24:42",
          "2004-03-08T20:09:57",
          "2004-03-08T20:48:18",
          "2004-03-08T20:48:25",
          "2004-03-08T20:48:26",
          "2004-03-08T20:48:27",
          "2004-03-08T20:48:48",
          "2004-03-08T20:48:49",
          "2004-03-08T20:48:53",
          "2004-03-08T20:50:59",
          "2004-03-08T20:51:01",
          "2004-03-08T20:51:51",
          "2004-03-08T20:52:01",
          "2004-03-08T22:03:04",
          "2004-03-08T22:03:28",
          "2004-03-08T22:03:29",
          "2004-03-08T22:03:44",
          "2004-03-08T22:03:52",
          "2004-03-08T22:04:09",
          "2004-03-08T22:04:10",
          "2004-03-08T22:04:24",
          "2004-03-08T22:04:35",
          "2004-03-08T22:30:01",
          "2004-03-08T23:42:55",
          "2004-03-09T01:48:27",
          "2004-03-09T01:48:28",
          "2004-03-09T01:49:53",
          "2004-03-09T01:49:57",
          "2004-03-09T01:50:35",
          "2004-03-09T01:50:54",
          "2004-03-09T01:51:17",
          "2004-03-09T01:51:41",
          "2004-03-09T01:51:45",
          "2004-03-09T01:51:54",
          "2004-03-09T01:52:12",
          "2004-03-09T02:33:10",
          "2004-03-09T02:33:17",
          "2004-03-09T02:33:18",
          "2004-03-09T02:39:17",
          "2004-03-09T02:39:18",
          "2004-03-09T03:10:39",
          "2004-03-09T05:01:53",
          "2004-03-09T05:02:11",
          "2004-03-09T05:02:14",
          "2004-03-09T05:02:19",
          "2004-03-09T05:02:27",
          "2004-03-09T05:02:28",
          "2004-03-09T05:04:09",
          "2004-03-09T05:09:30",
          "2004-03-09T05:09:31",
          "2004-03-09T05:12:45",
          "2004-03-09T05:13:40",
          "2004-03-09T05:14:13",
          "2004-03-09T05:14:14",
          "2004-03-09T05:20:20",
          "2004-03-09T06:29:03",
          "2004-03-09T06:33:21",
          "2004-03-09T06:34:51",
          "2004-03-09T06:34:53",
          "2004-03-09T06:34:54",
          "2004-03-09T06:34:55",
          "2004-03-09T06:34:56",
          "2004-03-09T06:34:57",
          "2004-03-09T06:34:58",
          "2004-03-09T06:35:04",
          "2004-03-09T06:35:06",
          "2004-03-09T06:35:09",
          "2004-03-09T06:35:10",
          "2004-03-09T06:35:13",
          "2004-03-09T06:35:17",
          "2004-03-09T06:35:42",
          "2004-03-09T06:36:28",
          "2004-03-09T06:36:29",
          "2004-03-09T06:36:51",
          "2004-03-09T06:37:00",
          "2004-03-09T06:37:40",
          "2004-03-09T07:27:10",
          "2004-03-09T07:27:44",
          "2004-03-09T07:27:59",
          "2004-03-09T07:28:05",
          "2004-03-09T07:28:12",
          "2004-03-09T08:08:35",
          "2004-03-09T08:08:37",
          "2004-03-09T08:08:38",
          "2004-03-09T08:08:54",
          "2004-03-09T08:08:57",
          "2004-03-09T08:09:39",
          "2004-03-09T08:09:58",
          "2004-03-09T08:10:04",
          "2004-03-09T08:10:06",
          "2004-03-09T08:10:12",
          "2004-03-09T08:10:20",
          "2004-03-09T08:17:27",
          "2004-03-09T08:17:34",
          "2004-03-09T08:17:50",
          "2004-03-09T08:18:17",
          "2004-03-09T08:18:19",
          "2004-03-09T08:18:25",
          "2004-03-09T08:18:26",
          "2004-03-09T08:18:27",
          "2004-03-09T08:18:50",
          "2004-03-09T08:19:04",
          "2004-03-09T09:55:44",
          "2004-03-09T09:55:53",
          "2004-03-09T10:08:07",
          "2004-03-09T10:29:38",
          "2004-03-09T10:29:40",
          "2004-03-09T10:29:41",
          "2004-03-09T11:21:36",
          "2004-03-09T11:43:54",
          "2004-03-09T11:43:56",
          "2004-03-09T11:57:20",
          "2004-03-09T12:16:06",
          "2004-03-09T12:21:08",
          "2004-03-09T12:21:09",
          "2004-03-09T12:21:10",
          "2004-03-09T12:21:49",
          "2004-03-09T12:52:21",
          "2004-03-09T12:52:58",
          "2004-03-09T13:14:53",
          "2004-03-09T13:15:15",
          "2004-03-09T13:15:23",
          "2004-03-09T13:15:33",
          "2004-03-09T13:15:49",
          "2004-03-09T13:16:00",
          "2004-03-09T13:49:05",
          "2004-03-09T14:43:02",
          "2004-03-09T14:43:03",
          "2004-03-09T14:43:04",
          "2004-03-09T14:43:05",
          "2004-03-09T14:43:12",
          "2004-03-09T14:50:15",
          "2004-03-09T14:50:23",
          "2004-03-09T14:50:24",
          "2004-03-09T14:50:28",
          "2004-03-09T14:56:15",
          "2004-03-09T15:03:55",
          "2004-03-09T15:25:03",
          "2004-03-09T15:25:05",
          "2004-03-09T15:25:14",
          "2004-03-09T15:25:15",
          "2004-03-09T15:37:35",
          "2004-03-09T15:37:36",
          "2004-03-09T15:44:52",
          "2004-03-09T15:44:57",
          "2004-03-09T15:51:10",
          "2004-03-09T15:51:24",
          "2004-03-09T15:52:09",
          "2004-03-09T15:52:15",
          "2004-03-09T15:53:40",
          "2004-03-09T15:53:49",
          "2004-03-09T15:53:56",
          "2004-03-09T16:23:55",
          "2004-03-09T16:27:48",
          "2004-03-09T17:10:26",
          "2004-03-09T17:10:28",
          "2004-03-09T17:33:58",
          "2004-03-09T17:42:41",
          "2004-03-09T17:42:42",
          "2004-03-09T17:43:54",
          "2004-03-09T17:45:02",
          "2004-03-09T18:00:43",
          "2004-03-09T18:00:44",
          "2004-03-09T18:01:11",
          "2004-03-09T18:01:24",
          "2004-03-09T18:01:25",
          "2004-03-09T18:01:28",
          "2004-03-09T18:01:45",
          "2004-03-09T18:02:07",
          "2004-03-09T18:06:27",
          "2004-03-09T20:23:32",
          "2004-03-09T20:25:15",
          "2004-03-09T20:25:18",
          "2004-03-09T20:34:55",
          "2004-03-09T20:45:43",
          "2004-03-09T20:45:48",
          "2004-03-09T20:45:51",
          "2004-03-09T21:33:22",
          "2004-03-09T21:51:09",
          "2004-03-09T21:51:16",
          "2004-03-09T22:23:39",
          "2004-03-09T22:31:21",
          "2004-03-09T22:40:32",
          "2004-03-09T22:40:33",
          "2004-03-09T22:44:31",
          "2004-03-09T23:36:11",
          "2004-03-10T00:21:51",
          "2004-03-10T00:24:58",
          "2004-03-10T00:29:44",
          "2004-03-10T00:29:45",
          "2004-03-10T02:07:27",
          "2004-03-10T02:31:33",
          "2004-03-10T02:31:44",
          "2004-03-10T02:52:49",
          "2004-03-10T02:55:00",
          "2004-03-10T03:11:40",
          "2004-03-10T03:11:50",
          "2004-03-10T03:11:53",
          "2004-03-10T03:12:07",
          "2004-03-10T03:12:20",
          "2004-03-10T03:12:33",
          "2004-03-10T03:12:45",
          "2004-03-10T03:12:48",
          "2004-03-10T03:12:56",
          "2004-03-10T03:14:40",
          "2004-03-10T03:14:54",
          "2004-03-10T03:15:28",
          "2004-03-10T03:15:33",
          "2004-03-10T03:52:49",
          "2004-03-10T03:52:51",
          "2004-03-10T03:52:52",
          "2004-03-10T05:21:38",
          "2004-03-10T07:36:56",
          "2004-03-10T08:36:28",
          "2004-03-10T08:36:30",
          "2004-03-10T08:36:31",
          "2004-03-10T08:36:57",
          "2004-03-10T08:36:58",
          "2004-03-10T08:51:31",
          "2004-03-10T08:52:13",
          "2004-03-10T08:52:16",
          "2004-03-10T08:52:25",
          "2004-03-10T08:52:52",
          "2004-03-10T08:53:12",
          "2004-03-10T08:53:19",
          "2004-03-10T08:53:33",
          "2004-03-10T08:54:15",
          "2004-03-10T08:54:37",
          "2004-03-10T08:55:03",
          "2004-03-10T08:55:17",
          "2004-03-10T08:55:40",
          "2004-03-10T08:55:49",
          "2004-03-10T08:56:10",
          "2004-03-10T08:56:13",
          "2004-03-10T09:05:59",
          "2004-03-10T09:41:56",
          "2004-03-10T10:37:53",
          "2004-03-10T10:38:04",
          "2004-03-10T10:38:05",
          "2004-03-10T10:38:23",
          "2004-03-10T10:38:27",
          "2004-03-10T10:59:06",
          "2004-03-10T11:12:51",
          "2004-03-10T11:13:21",
          "2004-03-10T11:18:59",
          "2004-03-10T11:19:00",
          "2004-03-10T11:19:32",
          "2004-03-10T11:41:25",
          "2004-03-10T11:41:52",
          "2004-03-10T11:43:26",
          "2004-03-10T11:44:13",
          "2004-03-10T11:44:27",
          "2004-03-10T11:44:44",
          "2004-03-10T11:45:22",
          "2004-03-10T11:45:51",
          "2004-03-10T11:46:42",
          "2004-03-10T11:47:37",
          "2004-03-10T11:49:57",
          "2004-03-10T11:50:28",
          "2004-03-10T11:50:35",
          "2004-03-10T11:52:14",
          "2004-03-10T11:52:42",
          "2004-03-10T12:02:38",
          "2004-03-10T12:02:43",
          "2004-03-10T12:02:45",
          "2004-03-10T12:02:46",
          "2004-03-10T12:02:50",
          "2004-03-10T12:02:52",
          "2004-03-10T12:02:59",
          "2004-03-10T12:03:00",
          "2004-03-10T12:03:03",
          "2004-03-10T12:03:04",
          "2004-03-10T12:03:08",
          "2004-03-10T12:03:45",
          "2004-03-10T12:05:06",
          "2004-03-10T12:05:22",
          "2004-03-10T12:05:38",
          "2004-03-10T12:05:40",
          "2004-03-10T12:05:54",
          "2004-03-10T12:05:58",
          "2004-03-10T12:06:07",
          "2004-03-10T12:06:09",
          "2004-03-10T12:07:07",
          "2004-03-10T12:07:08",
          "2004-03-10T12:07:12",
          "2004-03-10T12:07:13",
          "2004-03-10T12:07:14",
          "2004-03-10T12:07:25",
          "2004-03-10T12:16:59",
          "2004-03-10T12:19:02",
          "2004-03-10T12:19:05",
          "2004-03-10T12:19:06",
          "2004-03-10T12:19:08",
          "2004-03-10T12:22:32",
          "2004-03-10T12:25:25",
          "2004-03-10T12:25:28",
          "2004-03-10T12:25:29",
          "2004-03-10T13:13:23",
          "2004-03-10T13:15:44",
          "2004-03-10T13:15:53",
          "2004-03-10T13:15:54",
          "2004-03-10T13:41:37",
          "2004-03-10T13:42:23",
          "2004-03-10T14:20:51",
          "2004-03-10T14:21:36",
          "2004-03-10T14:22:13",
          "2004-03-10T15:06:20",
          "2004-03-10T15:06:24",
          "2004-03-10T15:06:25",
          "2004-03-10T15:10:10",
          "2004-03-10T15:10:13",
          "2004-03-10T15:49:55",
          "2004-03-10T16:29:30",
          "2004-03-10T16:31:19",
          "2004-03-10T16:33:04",
          "2004-03-10T16:47:44",
          "2004-03-10T16:52:44",
          "2004-03-10T16:54:36",
          "2004-03-10T18:13:54",
          "2004-03-10T18:17:24",
          "2004-03-10T19:55:54",
          "2004-03-10T19:55:56",
          "2004-03-10T20:22:41",
          "2004-03-10T20:22:42",
          "2004-03-10T20:23:11",
          "2004-03-10T20:23:41",
          "2004-03-10T20:23:52",
          "2004-03-10T21:56:34",
          "2004-03-10T21:58:46",
          "2004-03-10T21:59:16",
          "2004-03-10T21:59:17",
          "2004-03-10T21:59:18",
          "2004-03-10T22:00:03",
          "2004-03-10T22:00:04",
          "2004-03-10T22:00:05",
          "2004-03-10T22:16:58",
          "2004-03-10T23:08:28",
          "2004-03-10T23:08:30",
          "2004-03-10T23:08:31",
          "2004-03-11T00:07:57",
          "2004-03-11T00:07:58",
          "2004-03-11T00:42:01",
          "2004-03-11T00:43:57",
          "2004-03-11T00:43:59",
          "2004-03-11T00:44:08",
          "2004-03-11T01:39:53",
          "2004-03-11T02:27:39",
          "2004-03-11T03:35:49",
          "2004-03-11T03:35:57",
          "2004-03-11T03:35:58",
          "2004-03-11T03:50:09",
          "2004-03-11T06:11:19",
          "2004-03-11T06:11:21",
          "2004-03-11T06:11:38",
          "2004-03-11T06:11:39",
          "2004-03-11T06:11:46",
          "2004-03-11T06:11:47",
          "2004-03-11T06:12:41",
          "2004-03-11T06:12:43",
          "2004-03-11T06:13:07",
          "2004-03-11T06:13:08",
          "2004-03-11T06:14:03",
          "2004-03-11T06:14:04",
          "2004-03-11T06:16:40",
          "2004-03-11T06:17:06",
          "2004-03-11T06:17:11",
          "2004-03-11T06:27:31",
          "2004-03-11T06:27:36",
          "2004-03-11T06:48:05",
          "2004-03-11T07:15:10",
          "2004-03-11T07:15:11",
          "2004-03-11T07:19:57",
          "2004-03-11T07:20:05",
          "2004-03-11T07:20:09",
          "2004-03-11T07:39:30",
          "2004-03-11T08:14:18",
          "2004-03-11T08:45:41",
          "2004-03-11T08:45:42",
          "2004-03-11T08:45:49",
          "2004-03-11T08:45:54",
          "2004-03-11T10:55:40",
          "2004-03-11T10:58:16",
          "2004-03-11T10:58:27",
          "2004-03-11T11:12:40",
          "2004-03-11T11:33:35",
          "2004-03-11T11:49:51",
          "2004-03-11T11:49:53",
          "2004-03-11T11:49:54",
          "2004-03-11T11:54:59",
          "2004-03-11T11:55:22",
          "2004-03-11T11:55:23",
          "2004-03-11T11:55:26",
          "2004-03-11T12:28:50",
          "2004-03-11T12:28:51",
          "2004-03-11T12:29:03",
          "2004-03-11T12:29:27",
          "2004-03-11T12:56:35",
          "2004-03-11T12:56:58",
          "2004-03-11T12:57:18",
          "2004-03-11T12:57:24",
          "2004-03-11T12:57:45",
          "2004-03-11T12:58:03",
          "2004-03-11T12:58:37",
          "2004-03-11T12:58:50",
          "2004-03-11T12:59:07",
          "2004-03-11T12:59:33",
          "2004-03-11T12:59:52",
          "2004-03-11T13:00:12",
          "2004-03-11T13:00:47",
          "2004-03-11T13:00:57",
          "2004-03-11T13:01:21",
          "2004-03-11T13:01:37",
          "2004-03-11T13:01:58",
          "2004-03-11T13:02:22",
          "2004-03-11T13:02:42",
          "2004-03-11T13:03:06",
          "2004-03-11T13:03:23",
          "2004-03-11T13:03:48",
          "2004-03-11T13:04:09",
          "2004-03-11T13:04:30",
          "2004-03-11T13:04:52",
          "2004-03-11T13:05:13",
          "2004-03-11T13:05:33",
          "2004-03-11T13:05:54",
          "2004-03-11T13:06:17",
          "2004-03-11T13:06:39",
          "2004-03-11T13:07:02",
          "2004-03-11T13:07:20",
          "2004-03-11T13:07:40",
          "2004-03-11T13:08:03",
          "2004-03-11T13:08:44",
          "2004-03-11T13:09:04",
          "2004-03-11T13:09:21",
          "2004-03-11T13:09:24",
          "2004-03-11T13:09:52",
          "2004-03-11T13:10:11",
          "2004-03-11T13:10:27",
          "2004-03-11T13:10:52",
          "2004-03-11T13:11:09",
          "2004-03-11T13:11:41",
          "2004-03-11T13:12:54",
          "2004-03-11T13:18:15",
          "2004-03-11T13:22:32",
          "2004-03-11T13:24:03",
          "2004-03-11T13:24:04",
          "2004-03-11T13:26:38",
          "2004-03-11T13:27:05",
          "2004-03-11T14:14:44",
          "2004-03-11T14:14:47",
          "2004-03-11T14:14:50",
          "2004-03-11T14:22:08",
          "2004-03-11T14:22:09",
          "2004-03-11T14:26:26",
          "2004-03-11T14:28:53",
          "2004-03-11T14:29:44",
          "2004-03-11T14:29:52",
          "2004-03-11T14:30:51",
          "2004-03-11T14:31:43",
          "2004-03-11T14:31:48",
          "2004-03-11T14:33:01",
          "2004-03-11T14:53:12",
          "2004-03-11T15:17:08",
          "2004-03-11T15:51:49",
          "2004-03-11T15:52:07",
          "2004-03-11T15:52:12",
          "2004-03-11T15:52:18",
          "2004-03-11T15:52:19",
          "2004-03-11T15:52:37",
          "2004-03-11T15:52:38",
          "2004-03-11T15:52:39",
          "2004-03-11T16:02:37",
          "2004-03-11T16:12:59",
          "2004-03-11T16:13:02",
          "2004-03-11T16:13:03",
          "2004-03-11T16:33:23",
          "2004-03-11T18:11:39",
          "2004-03-11T18:11:40",
          "2004-03-11T18:31:35",
          "2004-03-11T18:57:52",
          "2004-03-11T20:12:24",
          "2004-03-11T20:49:32",
          "2004-03-11T20:49:37",
          "2004-03-11T20:49:38",
          "2004-03-11T20:59:05",
          "2004-03-11T23:56:31",
          "2004-03-12T01:30:44",
          "2004-03-12T02:27:29",
          "2004-03-12T02:27:32",
          "2004-03-12T03:32:56",
          "2004-03-12T04:57:20",
          "2004-03-12T04:57:21",
          "2004-03-12T04:57:56",
          "2004-03-12T04:59:21",
          "2004-03-12T05:03:19",
          "2004-03-12T05:19:31",
          "2004-03-12T05:25:20",
          "2004-03-12T05:25:24",
          "2004-03-12T05:25:25",
          "2004-03-12T05:44:35",
          "2004-03-12T05:44:50",
          "2004-03-12T05:44:51",
          "2004-03-12T05:51:36",
          "2004-03-12T08:33:32",
          "2004-03-12T09:12:01",
          "2004-03-12T09:12:02",
          "2004-03-12T11:01:26",
          "2004-03-12T11:01:28",
          "2004-03-12T11:01:29",
          "2004-03-12T11:16:36",
          "2004-03-12T11:16:55",
          "2004-03-12T11:16:56",
          "2004-03-12T11:39:14",
          "2004-03-12T11:39:25",
          "2004-03-12T11:39:31",
          "2004-03-12T12:23:11",
          "2004-03-12T12:23:17",
          "2004-03-12T12:23:18",
          "2004-03-12T12:23:40",
          "2004-03-12T12:23:41",
          "2004-03-12T13:04:01",
          "2004-03-12T13:18:57",
          "2004-03-12T13:25:45"
         ],
         "xaxis": "x",
         "y": [
          6,
          4,
          1,
          1,
          1,
          1,
          1,
          4,
          1,
          1,
          1,
          1,
          1,
          1,
          2,
          1,
          1,
          8,
          1,
          1,
          1,
          1,
          1,
          2,
          1,
          1,
          1,
          1,
          1,
          1,
          2,
          1,
          1,
          1,
          1,
          1,
          1,
          1,
          1,
          1,
          2,
          1,
          1,
          1,
          1,
          1,
          1,
          1,
          2,
          1,
          1,
          1,
          1,
          1,
          1,
          2,
          1,
          1,
          1,
          1,
          1,
          1,
          1,
          1,
          1,
          1,
          1,
          1,
          1,
          1,
          1,
          1,
          1,
          2,
          1,
          1,
          1,
          1,
          52,
          16,
          28,
          48,
          1,
          1,
          1,
          1,
          5,
          1,
          1,
          1,
          1,
          1,
          2,
          1,
          1,
          1,
          1,
          1,
          1,
          2,
          2,
          1,
          1,
          1,
          1,
          1,
          1,
          2,
          1,
          1,
          1,
          1,
          1,
          1,
          1,
          1,
          1,
          1,
          1,
          1,
          1,
          1,
          1,
          1,
          1,
          2,
          1,
          5,
          2,
          1,
          1,
          1,
          1,
          1,
          2,
          1,
          1,
          1,
          1,
          1,
          1,
          1,
          2,
          1,
          1,
          1,
          1,
          2,
          2,
          1,
          1,
          1,
          1,
          1,
          1,
          1,
          4,
          2,
          4,
          6,
          6,
          1,
          1,
          1,
          1,
          1,
          1,
          2,
          1,
          1,
          1,
          1,
          1,
          1,
          1,
          2,
          2,
          1,
          1,
          1,
          1,
          1,
          1,
          1,
          1,
          1,
          1,
          1,
          1,
          1,
          1,
          1,
          1,
          1,
          2,
          2,
          2,
          1,
          2,
          11,
          1,
          1,
          1,
          1,
          1,
          1,
          1,
          1,
          1,
          8,
          1,
          1,
          1,
          3,
          1,
          1,
          1,
          1,
          2,
          1,
          3,
          1,
          1,
          1,
          1,
          1,
          1,
          1,
          1,
          1,
          1,
          1,
          2,
          48,
          36,
          56,
          48,
          22,
          1,
          1,
          1,
          1,
          1,
          1,
          2,
          1,
          1,
          1,
          2,
          1,
          1,
          1,
          1,
          1,
          1,
          1,
          1,
          1,
          1,
          1,
          1,
          1,
          2,
          2,
          1,
          1,
          3,
          2,
          1,
          2,
          1,
          1,
          1,
          1,
          1,
          1,
          2,
          1,
          1,
          1,
          1,
          1,
          2,
          1,
          1,
          2,
          2,
          1,
          1,
          1,
          1,
          1,
          1,
          1,
          2,
          1,
          2,
          1,
          1,
          2,
          1,
          1,
          1,
          1,
          2,
          1,
          1,
          1,
          2,
          1,
          2,
          1,
          2,
          2,
          4,
          2,
          1,
          1,
          1,
          1,
          1,
          3,
          1,
          1,
          4,
          4,
          1,
          1,
          1,
          1,
          4,
          1,
          1,
          1,
          1,
          1,
          1,
          1,
          2,
          1,
          1,
          10,
          1,
          1,
          1,
          1,
          1,
          1,
          1,
          1,
          1,
          2,
          1,
          1,
          1,
          3,
          1,
          1,
          2,
          1,
          2,
          2,
          1,
          1,
          2,
          1,
          1,
          1,
          1,
          1,
          1,
          1,
          1,
          1,
          1,
          2,
          1,
          1,
          1,
          1,
          1,
          1,
          1,
          1,
          1,
          1,
          1,
          1,
          1,
          1,
          1,
          1,
          1,
          1,
          1,
          1,
          2,
          1,
          1,
          48,
          42,
          32,
          32,
          32,
          2,
          11,
          1,
          1,
          1,
          1,
          1,
          1,
          1,
          1,
          1,
          1,
          1,
          1,
          1,
          1,
          1,
          1,
          1,
          3,
          1,
          1,
          1,
          1,
          1,
          1,
          1,
          1,
          1,
          1,
          1,
          1,
          1,
          1,
          1,
          1,
          1,
          1,
          1,
          1,
          1,
          1,
          1,
          1,
          1,
          1,
          2,
          1,
          1,
          1,
          1,
          1,
          1,
          1,
          1,
          1,
          2,
          1,
          1,
          2,
          1,
          2,
          1,
          1,
          1,
          7,
          1,
          1,
          1,
          1,
          1,
          1,
          1,
          1,
          2,
          5,
          2,
          2,
          1,
          2,
          1,
          1,
          1,
          1,
          1,
          1,
          1,
          1,
          1,
          6,
          18,
          4,
          2,
          12,
          8,
          8,
          1,
          1,
          1,
          1,
          1,
          4,
          1,
          24,
          6,
          1,
          2,
          4,
          1,
          2,
          1,
          1,
          1,
          1,
          1,
          1,
          1,
          1,
          1,
          1,
          1,
          2,
          1,
          1,
          2,
          1,
          2,
          1,
          2,
          1,
          3,
          1,
          1,
          1,
          1,
          6,
          1,
          1,
          1,
          1,
          1,
          1,
          1,
          1,
          8,
          2,
          1,
          1,
          1,
          1,
          1,
          1,
          1,
          1,
          1,
          1,
          1,
          1,
          1,
          1,
          4,
          1,
          1,
          2,
          1,
          1,
          1,
          1,
          1,
          1,
          1,
          40,
          20,
          24,
          24,
          1,
          2,
          1,
          1,
          1,
          1,
          1,
          1,
          1,
          2,
          1,
          3,
          1,
          8,
          1,
          1,
          1,
          1,
          1,
          1,
          2,
          1,
          2,
          1,
          2,
          1,
          1,
          2,
          1,
          1,
          1,
          1,
          1,
          1,
          2,
          1,
          8,
          1,
          1,
          1,
          1,
          1,
          1,
          2,
          1,
          1,
          2,
          1,
          1,
          1,
          1,
          1,
          1,
          1,
          1,
          8,
          1,
          2,
          1,
          1,
          1,
          2,
          1,
          1,
          1,
          1,
          1,
          1,
          1,
          2,
          1,
          1,
          2,
          2,
          2,
          2,
          1,
          2,
          1,
          1,
          1,
          1,
          1,
          11,
          1,
          1,
          1,
          1,
          1,
          1,
          2,
          4,
          4,
          6,
          10,
          1,
          1,
          2,
          1,
          1,
          4,
          1,
          1,
          1,
          4,
          4,
          10,
          4,
          1,
          1,
          1,
          1,
          4,
          1,
          1,
          5,
          1,
          1,
          1,
          1,
          1,
          1,
          1,
          1,
          1,
          1,
          1,
          1,
          1,
          1,
          1,
          2,
          1,
          1,
          1,
          3,
          1,
          1,
          1,
          1,
          1,
          1,
          1,
          1,
          1,
          1,
          1,
          1,
          50,
          1,
          1,
          1,
          1,
          1,
          2,
          1,
          1,
          1,
          1,
          1,
          1,
          1,
          1,
          2,
          1,
          1,
          1,
          8,
          1,
          1,
          1,
          1,
          1,
          1,
          1,
          40,
          52,
          58,
          20,
          1,
          1,
          1,
          1,
          1,
          1,
          1,
          1,
          1,
          1,
          4,
          1,
          1,
          1,
          1,
          1,
          3,
          1,
          11,
          1,
          1,
          11,
          6,
          8,
          1,
          1,
          1,
          1,
          1,
          1,
          1,
          1,
          1,
          1,
          1,
          1,
          1,
          1,
          1,
          1,
          1,
          1,
          1,
          1,
          12,
          4,
          1,
          4,
          1,
          1,
          1,
          2,
          1,
          1,
          1,
          1,
          1,
          1,
          1,
          1,
          1,
          1,
          2,
          1,
          1,
          1,
          1,
          1,
          1,
          1,
          1,
          4,
          1,
          1,
          2,
          1,
          1,
          2,
          2,
          1,
          1,
          1,
          2,
          1,
          1,
          1,
          2,
          1,
          1,
          1,
          1,
          1,
          1,
          1,
          1,
          1,
          1,
          1,
          2,
          6,
          4,
          2,
          2,
          1,
          1,
          2,
          8,
          1,
          1,
          1,
          1,
          8,
          1,
          1,
          2,
          1,
          4,
          1,
          1,
          1,
          1,
          1,
          1,
          1,
          1,
          1,
          1,
          1,
          1,
          1,
          1,
          1,
          1,
          2,
          2,
          3,
          2,
          2,
          1,
          2,
          1,
          3,
          1,
          1,
          1,
          1,
          1,
          1,
          1,
          1,
          1,
          1,
          1,
          1,
          1,
          1,
          1,
          1,
          1,
          9,
          1,
          1,
          48,
          50,
          36,
          16,
          20,
          4,
          1,
          1,
          4,
          1,
          1,
          1,
          1,
          1,
          2,
          1,
          1,
          1,
          1,
          1,
          1,
          1,
          1,
          1,
          1,
          1,
          1,
          1,
          1,
          1,
          1,
          1,
          2,
          1,
          1,
          1,
          1,
          1,
          1,
          1,
          2,
          1,
          1,
          2,
          1,
          4,
          1,
          1,
          1,
          8,
          2,
          1,
          8,
          2,
          1,
          1,
          5,
          1,
          2,
          1,
          1,
          1,
          8,
          2,
          1,
          6,
          4,
          1,
          1,
          2,
          1,
          1,
          1,
          1,
          1,
          1,
          10,
          1,
          1,
          1,
          1,
          1,
          1,
          1,
          1,
          3,
          1,
          3,
          1,
          1,
          2,
          1,
          1,
          1,
          2,
          1,
          1,
          1,
          1,
          2,
          1,
          1,
          1,
          1,
          1,
          1,
          1,
          1,
          1,
          2,
          1,
          1,
          1,
          1,
          1,
          1,
          1,
          2,
          1,
          1,
          1,
          1,
          1,
          1,
          1,
          1,
          1,
          1,
          1,
          1,
          1,
          1,
          1,
          1,
          1,
          1,
          14,
          60,
          40,
          36,
          42,
          1,
          1,
          1,
          1,
          1,
          1,
          1,
          1,
          1,
          1,
          1,
          1,
          2,
          1,
          1,
          1,
          1,
          1,
          1,
          3,
          1,
          1,
          3,
          1,
          1,
          1,
          1,
          1,
          1,
          1,
          1,
          1,
          1,
          1,
          1,
          1,
          1,
          1,
          1,
          1,
          1,
          1,
          1,
          1,
          1,
          1,
          1,
          3,
          1,
          1,
          1,
          1,
          1,
          1,
          1,
          1,
          1,
          1,
          1,
          1,
          1,
          2,
          2,
          1,
          1,
          2,
          2,
          1,
          1,
          1,
          1,
          2,
          1,
          1,
          1,
          1,
          1,
          1,
          1,
          1,
          1,
          1,
          1,
          1,
          1,
          1,
          1,
          4,
          6,
          4,
          8,
          4,
          3,
          1,
          1,
          1,
          1,
          1,
          1,
          1,
          1,
          1,
          1,
          1,
          1,
          1,
          2,
          10,
          4,
          1,
          1,
          1,
          1,
          1,
          1,
          1,
          2,
          1,
          4,
          2,
          1,
          1,
          1,
          1,
          1,
          1,
          1,
          4,
          1,
          1,
          1,
          1,
          1,
          1,
          1,
          2,
          1,
          1,
          1,
          1,
          1,
          1,
          1,
          1,
          1,
          1,
          1,
          1,
          1,
          1,
          1,
          1,
          1,
          1,
          1,
          1,
          1,
          1,
          1,
          1,
          1,
          1,
          1,
          1,
          32,
          48,
          16,
          68,
          1,
          1,
          1,
          1,
          1,
          1,
          1,
          1,
          1,
          1,
          1,
          1,
          1,
          1,
          1,
          1,
          1,
          1,
          1,
          1,
          1,
          1,
          1,
          2,
          1,
          2,
          6,
          1,
          1,
          1,
          2,
          1,
          1,
          1,
          1,
          2,
          1,
          2,
          1,
          1,
          1,
          1,
          1,
          9,
          1,
          1,
          1,
          1,
          2,
          1,
          1,
          2,
          2,
          1,
          2,
          1,
          1,
          1,
          1,
          1,
          2,
          1,
          2,
          2,
          6,
          1,
          2,
          2,
          1,
          1,
          1,
          1,
          1,
          2,
          1,
          1,
          1,
          6,
          4,
          2,
          4
         ],
         "yaxis": "y"
        }
       ],
       "layout": {
        "height": 600,
        "template": {
         "data": {
          "bar": [
           {
            "error_x": {
             "color": "#2a3f5f"
            },
            "error_y": {
             "color": "#2a3f5f"
            },
            "marker": {
             "line": {
              "color": "#E5ECF6",
              "width": 0.5
             }
            },
            "type": "bar"
           }
          ],
          "barpolar": [
           {
            "marker": {
             "line": {
              "color": "#E5ECF6",
              "width": 0.5
             }
            },
            "type": "barpolar"
           }
          ],
          "carpet": [
           {
            "aaxis": {
             "endlinecolor": "#2a3f5f",
             "gridcolor": "white",
             "linecolor": "white",
             "minorgridcolor": "white",
             "startlinecolor": "#2a3f5f"
            },
            "baxis": {
             "endlinecolor": "#2a3f5f",
             "gridcolor": "white",
             "linecolor": "white",
             "minorgridcolor": "white",
             "startlinecolor": "#2a3f5f"
            },
            "type": "carpet"
           }
          ],
          "choropleth": [
           {
            "colorbar": {
             "outlinewidth": 0,
             "ticks": ""
            },
            "type": "choropleth"
           }
          ],
          "contour": [
           {
            "colorbar": {
             "outlinewidth": 0,
             "ticks": ""
            },
            "colorscale": [
             [
              0,
              "#0d0887"
             ],
             [
              0.1111111111111111,
              "#46039f"
             ],
             [
              0.2222222222222222,
              "#7201a8"
             ],
             [
              0.3333333333333333,
              "#9c179e"
             ],
             [
              0.4444444444444444,
              "#bd3786"
             ],
             [
              0.5555555555555556,
              "#d8576b"
             ],
             [
              0.6666666666666666,
              "#ed7953"
             ],
             [
              0.7777777777777778,
              "#fb9f3a"
             ],
             [
              0.8888888888888888,
              "#fdca26"
             ],
             [
              1,
              "#f0f921"
             ]
            ],
            "type": "contour"
           }
          ],
          "contourcarpet": [
           {
            "colorbar": {
             "outlinewidth": 0,
             "ticks": ""
            },
            "type": "contourcarpet"
           }
          ],
          "heatmap": [
           {
            "colorbar": {
             "outlinewidth": 0,
             "ticks": ""
            },
            "colorscale": [
             [
              0,
              "#0d0887"
             ],
             [
              0.1111111111111111,
              "#46039f"
             ],
             [
              0.2222222222222222,
              "#7201a8"
             ],
             [
              0.3333333333333333,
              "#9c179e"
             ],
             [
              0.4444444444444444,
              "#bd3786"
             ],
             [
              0.5555555555555556,
              "#d8576b"
             ],
             [
              0.6666666666666666,
              "#ed7953"
             ],
             [
              0.7777777777777778,
              "#fb9f3a"
             ],
             [
              0.8888888888888888,
              "#fdca26"
             ],
             [
              1,
              "#f0f921"
             ]
            ],
            "type": "heatmap"
           }
          ],
          "heatmapgl": [
           {
            "colorbar": {
             "outlinewidth": 0,
             "ticks": ""
            },
            "colorscale": [
             [
              0,
              "#0d0887"
             ],
             [
              0.1111111111111111,
              "#46039f"
             ],
             [
              0.2222222222222222,
              "#7201a8"
             ],
             [
              0.3333333333333333,
              "#9c179e"
             ],
             [
              0.4444444444444444,
              "#bd3786"
             ],
             [
              0.5555555555555556,
              "#d8576b"
             ],
             [
              0.6666666666666666,
              "#ed7953"
             ],
             [
              0.7777777777777778,
              "#fb9f3a"
             ],
             [
              0.8888888888888888,
              "#fdca26"
             ],
             [
              1,
              "#f0f921"
             ]
            ],
            "type": "heatmapgl"
           }
          ],
          "histogram": [
           {
            "marker": {
             "colorbar": {
              "outlinewidth": 0,
              "ticks": ""
             }
            },
            "type": "histogram"
           }
          ],
          "histogram2d": [
           {
            "colorbar": {
             "outlinewidth": 0,
             "ticks": ""
            },
            "colorscale": [
             [
              0,
              "#0d0887"
             ],
             [
              0.1111111111111111,
              "#46039f"
             ],
             [
              0.2222222222222222,
              "#7201a8"
             ],
             [
              0.3333333333333333,
              "#9c179e"
             ],
             [
              0.4444444444444444,
              "#bd3786"
             ],
             [
              0.5555555555555556,
              "#d8576b"
             ],
             [
              0.6666666666666666,
              "#ed7953"
             ],
             [
              0.7777777777777778,
              "#fb9f3a"
             ],
             [
              0.8888888888888888,
              "#fdca26"
             ],
             [
              1,
              "#f0f921"
             ]
            ],
            "type": "histogram2d"
           }
          ],
          "histogram2dcontour": [
           {
            "colorbar": {
             "outlinewidth": 0,
             "ticks": ""
            },
            "colorscale": [
             [
              0,
              "#0d0887"
             ],
             [
              0.1111111111111111,
              "#46039f"
             ],
             [
              0.2222222222222222,
              "#7201a8"
             ],
             [
              0.3333333333333333,
              "#9c179e"
             ],
             [
              0.4444444444444444,
              "#bd3786"
             ],
             [
              0.5555555555555556,
              "#d8576b"
             ],
             [
              0.6666666666666666,
              "#ed7953"
             ],
             [
              0.7777777777777778,
              "#fb9f3a"
             ],
             [
              0.8888888888888888,
              "#fdca26"
             ],
             [
              1,
              "#f0f921"
             ]
            ],
            "type": "histogram2dcontour"
           }
          ],
          "mesh3d": [
           {
            "colorbar": {
             "outlinewidth": 0,
             "ticks": ""
            },
            "type": "mesh3d"
           }
          ],
          "parcoords": [
           {
            "line": {
             "colorbar": {
              "outlinewidth": 0,
              "ticks": ""
             }
            },
            "type": "parcoords"
           }
          ],
          "pie": [
           {
            "automargin": true,
            "type": "pie"
           }
          ],
          "scatter": [
           {
            "marker": {
             "colorbar": {
              "outlinewidth": 0,
              "ticks": ""
             }
            },
            "type": "scatter"
           }
          ],
          "scatter3d": [
           {
            "line": {
             "colorbar": {
              "outlinewidth": 0,
              "ticks": ""
             }
            },
            "marker": {
             "colorbar": {
              "outlinewidth": 0,
              "ticks": ""
             }
            },
            "type": "scatter3d"
           }
          ],
          "scattercarpet": [
           {
            "marker": {
             "colorbar": {
              "outlinewidth": 0,
              "ticks": ""
             }
            },
            "type": "scattercarpet"
           }
          ],
          "scattergeo": [
           {
            "marker": {
             "colorbar": {
              "outlinewidth": 0,
              "ticks": ""
             }
            },
            "type": "scattergeo"
           }
          ],
          "scattergl": [
           {
            "marker": {
             "colorbar": {
              "outlinewidth": 0,
              "ticks": ""
             }
            },
            "type": "scattergl"
           }
          ],
          "scattermapbox": [
           {
            "marker": {
             "colorbar": {
              "outlinewidth": 0,
              "ticks": ""
             }
            },
            "type": "scattermapbox"
           }
          ],
          "scatterpolar": [
           {
            "marker": {
             "colorbar": {
              "outlinewidth": 0,
              "ticks": ""
             }
            },
            "type": "scatterpolar"
           }
          ],
          "scatterpolargl": [
           {
            "marker": {
             "colorbar": {
              "outlinewidth": 0,
              "ticks": ""
             }
            },
            "type": "scatterpolargl"
           }
          ],
          "scatterternary": [
           {
            "marker": {
             "colorbar": {
              "outlinewidth": 0,
              "ticks": ""
             }
            },
            "type": "scatterternary"
           }
          ],
          "surface": [
           {
            "colorbar": {
             "outlinewidth": 0,
             "ticks": ""
            },
            "colorscale": [
             [
              0,
              "#0d0887"
             ],
             [
              0.1111111111111111,
              "#46039f"
             ],
             [
              0.2222222222222222,
              "#7201a8"
             ],
             [
              0.3333333333333333,
              "#9c179e"
             ],
             [
              0.4444444444444444,
              "#bd3786"
             ],
             [
              0.5555555555555556,
              "#d8576b"
             ],
             [
              0.6666666666666666,
              "#ed7953"
             ],
             [
              0.7777777777777778,
              "#fb9f3a"
             ],
             [
              0.8888888888888888,
              "#fdca26"
             ],
             [
              1,
              "#f0f921"
             ]
            ],
            "type": "surface"
           }
          ],
          "table": [
           {
            "cells": {
             "fill": {
              "color": "#EBF0F8"
             },
             "line": {
              "color": "white"
             }
            },
            "header": {
             "fill": {
              "color": "#C8D4E3"
             },
             "line": {
              "color": "white"
             }
            },
            "type": "table"
           }
          ]
         },
         "layout": {
          "annotationdefaults": {
           "arrowcolor": "#2a3f5f",
           "arrowhead": 0,
           "arrowwidth": 1
          },
          "autotypenumbers": "strict",
          "coloraxis": {
           "colorbar": {
            "outlinewidth": 0,
            "ticks": ""
           }
          },
          "colorscale": {
           "diverging": [
            [
             0,
             "#8e0152"
            ],
            [
             0.1,
             "#c51b7d"
            ],
            [
             0.2,
             "#de77ae"
            ],
            [
             0.3,
             "#f1b6da"
            ],
            [
             0.4,
             "#fde0ef"
            ],
            [
             0.5,
             "#f7f7f7"
            ],
            [
             0.6,
             "#e6f5d0"
            ],
            [
             0.7,
             "#b8e186"
            ],
            [
             0.8,
             "#7fbc41"
            ],
            [
             0.9,
             "#4d9221"
            ],
            [
             1,
             "#276419"
            ]
           ],
           "sequential": [
            [
             0,
             "#0d0887"
            ],
            [
             0.1111111111111111,
             "#46039f"
            ],
            [
             0.2222222222222222,
             "#7201a8"
            ],
            [
             0.3333333333333333,
             "#9c179e"
            ],
            [
             0.4444444444444444,
             "#bd3786"
            ],
            [
             0.5555555555555556,
             "#d8576b"
            ],
            [
             0.6666666666666666,
             "#ed7953"
            ],
            [
             0.7777777777777778,
             "#fb9f3a"
            ],
            [
             0.8888888888888888,
             "#fdca26"
            ],
            [
             1,
             "#f0f921"
            ]
           ],
           "sequentialminus": [
            [
             0,
             "#0d0887"
            ],
            [
             0.1111111111111111,
             "#46039f"
            ],
            [
             0.2222222222222222,
             "#7201a8"
            ],
            [
             0.3333333333333333,
             "#9c179e"
            ],
            [
             0.4444444444444444,
             "#bd3786"
            ],
            [
             0.5555555555555556,
             "#d8576b"
            ],
            [
             0.6666666666666666,
             "#ed7953"
            ],
            [
             0.7777777777777778,
             "#fb9f3a"
            ],
            [
             0.8888888888888888,
             "#fdca26"
            ],
            [
             1,
             "#f0f921"
            ]
           ]
          },
          "colorway": [
           "#636efa",
           "#EF553B",
           "#00cc96",
           "#ab63fa",
           "#FFA15A",
           "#19d3f3",
           "#FF6692",
           "#B6E880",
           "#FF97FF",
           "#FECB52"
          ],
          "font": {
           "color": "#2a3f5f"
          },
          "geo": {
           "bgcolor": "white",
           "lakecolor": "white",
           "landcolor": "#E5ECF6",
           "showlakes": true,
           "showland": true,
           "subunitcolor": "white"
          },
          "hoverlabel": {
           "align": "left"
          },
          "hovermode": "closest",
          "mapbox": {
           "style": "light"
          },
          "paper_bgcolor": "white",
          "plot_bgcolor": "#E5ECF6",
          "polar": {
           "angularaxis": {
            "gridcolor": "white",
            "linecolor": "white",
            "ticks": ""
           },
           "bgcolor": "#E5ECF6",
           "radialaxis": {
            "gridcolor": "white",
            "linecolor": "white",
            "ticks": ""
           }
          },
          "scene": {
           "xaxis": {
            "backgroundcolor": "#E5ECF6",
            "gridcolor": "white",
            "gridwidth": 2,
            "linecolor": "white",
            "showbackground": true,
            "ticks": "",
            "zerolinecolor": "white"
           },
           "yaxis": {
            "backgroundcolor": "#E5ECF6",
            "gridcolor": "white",
            "gridwidth": 2,
            "linecolor": "white",
            "showbackground": true,
            "ticks": "",
            "zerolinecolor": "white"
           },
           "zaxis": {
            "backgroundcolor": "#E5ECF6",
            "gridcolor": "white",
            "gridwidth": 2,
            "linecolor": "white",
            "showbackground": true,
            "ticks": "",
            "zerolinecolor": "white"
           }
          },
          "shapedefaults": {
           "line": {
            "color": "#2a3f5f"
           }
          },
          "ternary": {
           "aaxis": {
            "gridcolor": "white",
            "linecolor": "white",
            "ticks": ""
           },
           "baxis": {
            "gridcolor": "white",
            "linecolor": "white",
            "ticks": ""
           },
           "bgcolor": "#E5ECF6",
           "caxis": {
            "gridcolor": "white",
            "linecolor": "white",
            "ticks": ""
           }
          },
          "title": {
           "x": 0.05
          },
          "xaxis": {
           "automargin": true,
           "gridcolor": "white",
           "linecolor": "white",
           "ticks": "",
           "title": {
            "standoff": 15
           },
           "zerolinecolor": "white",
           "zerolinewidth": 2
          },
          "yaxis": {
           "automargin": true,
           "gridcolor": "white",
           "linecolor": "white",
           "ticks": "",
           "title": {
            "standoff": 15
           },
           "zerolinecolor": "white",
           "zerolinewidth": 2
          }
         }
        },
        "title": {
         "text": "Hits Vs Time"
        },
        "width": 1000,
        "xaxis": {
         "color": "orange",
         "title": {
          "text": "Date"
         }
        },
        "yaxis": {
         "color": "blue",
         "title": {
          "text": "Hits"
         }
        }
       }
      },
      "text/html": [
       "<div>                            <div id=\"62a2a692-38c7-4d7a-afbd-59268bd612c4\" class=\"plotly-graph-div\" style=\"height:600px; width:1000px;\"></div>            <script type=\"text/javascript\">                require([\"plotly\"], function(Plotly) {                    window.PLOTLYENV=window.PLOTLYENV || {};                                    if (document.getElementById(\"62a2a692-38c7-4d7a-afbd-59268bd612c4\")) {                    Plotly.newPlot(                        \"62a2a692-38c7-4d7a-afbd-59268bd612c4\",                        [{\"hovertemplate\": \"x=%{x}<br>y=%{y}<extra></extra>\", \"legendgroup\": \"\", \"line\": {\"color\": \"#636efa\", \"dash\": \"solid\"}, \"mode\": \"lines\", \"name\": \"\", \"showlegend\": false, \"type\": \"scattergl\", \"x\": [\"2021-01-15T08:54:07\", \"2021-01-15T08:55:23\", \"2021-01-15T09:01:38\", \"2021-01-15T09:02:14\", \"2021-01-15T09:02:15\", \"2021-01-15T09:02:27\", \"2021-01-15T09:02:28\", \"2021-01-15T09:03:26\", \"2021-01-15T09:12:34\", \"2021-01-15T09:12:38\", \"2021-01-15T09:13:05\", \"2021-01-15T09:13:09\", \"2021-01-15T09:13:18\", \"2021-01-15T09:13:19\", \"2021-01-15T09:16:20\", \"2021-01-15T09:16:27\", \"2021-01-15T09:17:06\", \"2021-01-15T09:18:50\", \"2021-01-15T09:18:57\", \"2021-01-15T09:19:05\", \"2021-01-15T09:22:13\", \"2021-01-15T09:33:26\", \"2021-01-15T09:33:41\", \"2021-01-15T09:33:42\", \"2021-01-15T09:33:43\", \"2021-01-15T09:33:44\", \"2021-01-15T09:33:45\", \"2021-01-15T09:33:46\", \"2021-01-15T09:33:47\", \"2021-01-15T09:33:48\", \"2021-01-15T09:33:49\", \"2021-01-15T09:33:50\", \"2021-01-15T09:33:51\", \"2021-01-15T09:33:54\", \"2021-01-15T09:33:52\", \"2021-01-15T09:33:55\", \"2021-01-15T09:33:53\", \"2021-01-15T09:33:57\", \"2021-01-15T09:33:56\", \"2021-01-15T09:34:02\", \"2021-01-15T09:34:03\", \"2021-01-15T09:33:58\", \"2021-01-15T09:33:59\", \"2021-01-15T09:34:07\", \"2021-01-15T09:34:00\", \"2021-01-15T09:34:01\", \"2021-01-15T09:34:08\", \"2021-01-15T09:34:11\", \"2021-01-15T09:34:04\", \"2021-01-15T09:34:13\", \"2021-01-15T09:34:12\", \"2021-01-15T09:34:05\", \"2021-01-15T09:34:14\", \"2021-01-15T09:34:06\", \"2021-01-15T09:34:15\", \"2021-01-15T09:34:09\", \"2021-01-15T09:34:10\", \"2021-01-15T09:34:16\", \"2021-01-15T09:34:17\", \"2021-01-15T09:34:18\", \"2021-01-15T09:52:58\", \"2021-01-15T09:53:19\", \"2021-01-15T09:56:07\", \"2021-01-15T09:56:25\", \"2021-01-15T09:58:49\", \"2021-01-15T09:59:17\", \"2021-01-15T09:59:23\", \"2021-01-15T09:59:34\", \"2021-01-15T10:00:53\", \"2021-01-15T10:02:36\", \"2021-01-15T10:02:46\", \"2021-01-15T10:02:52\", \"2021-01-15T10:03:07\", \"2021-01-15T10:03:45\", \"2021-01-15T10:04:17\", \"2021-01-15T10:04:31\", \"2021-01-15T10:04:40\", \"2021-01-15T10:04:46\", \"2021-01-15T10:04:58\", \"2021-01-15T10:05:35\", \"2021-01-16T05:27:24\", \"2021-01-16T05:28:03\", \"2021-01-16T05:29:02\", \"2021-01-16T05:30:04\", \"2021-01-16T05:30:42\", \"2021-01-16T05:30:57\", \"2021-01-16T05:31:04\", \"2021-01-16T05:31:24\", \"2021-01-16T05:31:28\", \"2021-01-16T05:31:34\", \"2021-01-16T05:32:02\", \"2021-01-16T05:34:45\", \"2021-01-16T05:35:56\", \"2021-01-16T05:36:06\", \"2021-01-16T05:36:15\", \"2021-01-16T05:36:20\", \"2021-01-16T05:36:32\", \"2021-01-16T05:36:47\", \"2021-01-16T05:37:21\", \"2021-01-16T05:37:34\", \"2021-01-16T05:37:45\", \"2021-01-16T12:11:10\", \"2021-01-16T12:11:30\", \"2021-01-16T12:34:24\", \"2021-01-16T12:35:05\", \"2021-01-16T12:35:25\", \"2021-01-16T12:36:27\", \"2021-01-16T12:37:39\", \"2021-01-16T12:40:33\", \"2021-01-16T12:40:52\", \"2021-01-16T12:43:45\", \"2021-01-16T12:43:59\", \"2021-01-16T12:44:34\", \"2021-01-16T12:45:38\", \"2021-01-16T12:46:18\", \"2021-01-16T12:46:23\", \"2021-01-16T12:46:56\", \"2021-01-16T12:47:26\", \"2021-01-16T12:47:49\", \"2021-01-16T12:48:13\", \"2021-01-16T12:52:33\", \"2021-01-16T12:53:24\", \"2021-01-16T12:53:50\", \"2021-01-16T12:55:16\", \"2021-01-16T13:01:32\", \"2021-01-16T13:01:33\", \"2021-01-16T13:01:35\", \"2021-01-16T13:01:37\", \"2021-01-16T13:01:39\", \"2021-01-16T13:01:38\", \"2021-01-16T13:01:41\", \"2021-01-16T13:01:42\", \"2021-01-16T13:01:44\", \"2021-01-16T13:01:46\", \"2021-01-16T13:01:40\", \"2021-01-16T13:01:47\", \"2021-01-16T13:01:49\", \"2021-01-16T13:01:50\", \"2021-01-16T13:01:51\", \"2021-01-16T13:01:53\", \"2021-01-16T13:01:52\", \"2021-01-16T13:01:54\", \"2021-01-16T13:01:58\", \"2021-01-16T13:02:01\", \"2021-01-16T13:01:45\", \"2021-01-16T13:02:02\", \"2021-01-16T13:01:55\", \"2021-01-16T13:02:06\", \"2021-01-16T13:02:08\", \"2021-01-16T13:02:09\", \"2021-01-16T13:01:57\", \"2021-01-16T13:02:10\", \"2021-01-16T13:01:56\", \"2021-01-16T13:01:59\", \"2021-01-16T13:02:03\", \"2021-01-16T13:02:07\", \"2021-01-16T13:02:12\", \"2021-01-16T13:02:13\", \"2021-01-16T13:02:14\", \"2021-01-16T13:02:11\", \"2021-01-16T13:02:16\", \"2021-01-16T13:02:15\", \"2021-01-16T13:02:21\", \"2021-01-16T13:02:22\", \"2021-01-16T13:02:23\", \"2021-01-16T13:02:24\", \"2021-01-16T13:02:25\", \"2021-01-16T13:02:17\", \"2021-01-16T13:02:18\", \"2021-01-16T13:02:20\", \"2004-03-07T16:05:49\", \"2004-03-07T16:06:51\", \"2004-03-07T16:10:02\", \"2004-03-07T16:11:58\", \"2004-03-07T16:20:55\", \"2004-03-07T16:23:12\", \"2004-03-07T16:24:16\", \"2004-03-07T16:29:16\", \"2004-03-07T16:30:29\", \"2004-03-07T16:31:48\", \"2004-03-07T16:32:50\", \"2004-03-07T16:33:53\", \"2004-03-07T16:35:19\", \"2004-03-07T16:36:22\", \"2004-03-07T16:37:27\", \"2004-03-07T16:39:24\", \"2004-03-07T16:43:54\", \"2004-03-07T16:45:56\", \"2004-03-07T16:47:12\", \"2004-03-07T16:47:46\", \"2004-03-07T16:49:04\", \"2004-03-07T16:50:54\", \"2004-03-07T16:52:35\", \"2004-03-07T16:53:46\", \"2004-03-07T16:54:55\", \"2004-03-07T16:56:39\", \"2004-03-07T16:58:54\", \"2004-03-07T17:01:53\", \"2004-03-07T17:09:01\", \"2004-03-07T17:10:20\", \"2004-03-07T17:13:50\", \"2004-03-07T17:16:00\", \"2004-03-07T17:17:27\", \"2004-03-07T17:18:36\", \"2004-03-07T17:18:41\", \"2004-03-07T17:21:44\", \"2004-03-07T17:22:49\", \"2004-03-07T17:23:54\", \"2004-03-07T17:26:30\", \"2004-03-07T17:27:37\", \"2004-03-07T17:28:45\", \"2004-03-07T17:29:59\", \"2004-03-07T17:31:39\", \"2004-03-07T17:35:35\", \"2004-03-07T17:39:39\", \"2004-03-07T17:42:15\", \"2004-03-07T17:46:17\", \"2004-03-07T17:47:43\", \"2004-03-07T17:50:44\", \"2004-03-07T17:53:45\", \"2004-03-07T17:56:54\", \"2004-03-07T17:58:00\", \"2004-03-07T18:00:09\", \"2004-03-07T18:02:10\", \"2004-03-07T18:04:05\", \"2004-03-07T18:06:14\", \"2004-03-07T18:09:00\", \"2004-03-07T18:10:09\", \"2004-03-07T18:10:18\", \"2004-03-07T18:10:20\", \"2004-03-07T18:17:26\", \"2004-03-07T18:19:01\", \"2004-03-07T18:19:16\", \"2004-03-07T18:22:52\", \"2004-03-07T18:26:32\", \"2004-03-07T18:32:39\", \"2004-03-07T18:34:42\", \"2004-03-07T18:42:29\", \"2004-03-07T18:46:00\", \"2004-03-07T18:47:06\", \"2004-03-07T18:48:15\", \"2004-03-07T18:52:30\", \"2004-03-07T18:53:55\", \"2004-03-07T18:57:07\", \"2004-03-07T18:58:52\", \"2004-03-07T18:59:52\", \"2004-03-07T19:01:48\", \"2004-03-07T19:03:58\", \"2004-03-07T19:08:55\", \"2004-03-07T19:10:13\", \"2004-03-07T19:15:38\", \"2004-03-07T19:16:44\", \"2004-03-07T19:18:05\", \"2004-03-07T19:19:19\", \"2004-03-07T19:21:01\", \"2004-03-07T19:22:11\", \"2004-03-07T19:24:57\", \"2004-03-07T19:26:22\", \"2004-03-07T19:29:46\", \"2004-03-07T19:31:25\", \"2004-03-07T19:32:45\", \"2004-03-07T19:36:14\", \"2004-03-07T19:39:40\", \"2004-03-07T19:41:33\", \"2004-03-07T19:42:45\", \"2004-03-07T19:47:36\", \"2004-03-07T19:49:28\", \"2004-03-07T19:52:28\", \"2004-03-07T19:54:33\", \"2004-03-07T19:55:40\", \"2004-03-07T19:56:41\", \"2004-03-07T19:58:24\", \"2004-03-07T20:00:06\", \"2004-03-07T20:02:13\", \"2004-03-07T20:03:29\", \"2004-03-07T20:04:03\", \"2004-03-07T20:04:35\", \"2004-03-07T20:07:12\", \"2004-03-07T20:10:50\", \"2004-03-07T20:11:33\", \"2004-03-07T20:12:55\", \"2004-03-07T20:23:35\", \"2004-03-07T20:25:31\", \"2004-03-07T20:31:40\", \"2004-03-07T20:35:28\", \"2004-03-07T20:38:14\", \"2004-03-07T20:40:41\", \"2004-03-07T20:42:09\", \"2004-03-07T20:44:48\", \"2004-03-07T20:55:43\", \"2004-03-07T20:56:56\", \"2004-03-07T20:58:27\", \"2004-03-07T21:03:48\", \"2004-03-07T21:06:05\", \"2004-03-07T21:07:24\", \"2004-03-07T21:14:32\", \"2004-03-07T21:16:17\", \"2004-03-07T21:16:18\", \"2004-03-07T21:16:21\", \"2004-03-07T21:16:23\", \"2004-03-07T21:16:33\", \"2004-03-07T21:16:40\", \"2004-03-07T21:20:14\", \"2004-03-07T21:21:40\", \"2004-03-07T21:23:38\", \"2004-03-07T21:31:12\", \"2004-03-07T21:33:51\", \"2004-03-07T21:34:00\", \"2004-03-07T21:39:55\", \"2004-03-07T21:41:04\", \"2004-03-07T21:42:47\", \"2004-03-07T21:44:10\", \"2004-03-07T21:50:22\", \"2004-03-07T21:52:05\", \"2004-03-07T22:03:19\", \"2004-03-07T22:04:44\", \"2004-03-07T22:06:16\", \"2004-03-07T22:07:33\", \"2004-03-07T22:08:43\", \"2004-03-07T22:09:44\", \"2004-03-07T22:10:55\", \"2004-03-07T22:12:28\", \"2004-03-07T22:15:57\", \"2004-03-07T22:17:40\", \"2004-03-07T22:27:18\", \"2004-03-07T22:29:10\", \"2004-03-07T22:29:12\", \"2004-03-07T22:29:13\", \"2004-03-07T22:29:41\", \"2004-03-07T22:30:08\", \"2004-03-07T22:31:25\", \"2004-03-07T22:35:53\", \"2004-03-07T22:36:58\", \"2004-03-07T22:39:00\", \"2004-03-07T22:45:46\", \"2004-03-07T22:47:19\", \"2004-03-07T22:48:55\", \"2004-03-07T22:51:55\", \"2004-03-07T22:53:36\", \"2004-03-07T22:54:43\", \"2004-03-07T22:58:24\", \"2004-03-07T23:09:07\", \"2004-03-07T23:10:27\", \"2004-03-07T23:10:44\", \"2004-03-07T23:13:51\", \"2004-03-07T23:15:51\", \"2004-03-07T23:16:57\", \"2004-03-07T23:19:01\", \"2004-03-07T23:20:26\", \"2004-03-07T23:23:00\", \"2004-03-07T23:27:26\", \"2004-03-07T23:30:23\", \"2004-03-07T23:34:31\", \"2004-03-07T23:36:48\", \"2004-03-07T23:36:59\", \"2004-03-07T23:37:48\", \"2004-03-07T23:42:44\", \"2004-03-07T23:47:58\", \"2004-03-07T23:50:03\", \"2004-03-07T23:51:38\", \"2004-03-07T23:56:30\", \"2004-03-07T23:58:53\", \"2004-03-08T00:05:30\", \"2004-03-08T00:05:35\", \"2004-03-08T00:06:32\", \"2004-03-08T00:08:58\", \"2004-03-08T00:11:22\", \"2004-03-08T00:17:00\", \"2004-03-08T00:17:22\", \"2004-03-08T00:19:51\", \"2004-03-08T00:21:54\", \"2004-03-08T00:25:11\", \"2004-03-08T00:27:53\", \"2004-03-08T00:29:13\", \"2004-03-08T00:32:45\", \"2004-03-08T00:36:21\", \"2004-03-08T00:37:23\", \"2004-03-08T00:40:10\", \"2004-03-08T00:43:43\", \"2004-03-08T00:50:59\", \"2004-03-08T00:52:12\", \"2004-03-08T00:54:26\", \"2004-03-08T00:55:38\", \"2004-03-08T01:00:08\", \"2004-03-08T01:01:15\", \"2004-03-08T01:02:16\", \"2004-03-08T01:04:05\", \"2004-03-08T01:04:54\", \"2004-03-08T01:10:43\", \"2004-03-08T01:12:20\", \"2004-03-08T01:16:37\", \"2004-03-08T01:19:18\", \"2004-03-08T01:24:13\", \"2004-03-08T01:25:15\", \"2004-03-08T01:29:17\", \"2004-03-08T01:30:39\", \"2004-03-08T01:33:14\", \"2004-03-08T01:35:13\", \"2004-03-08T01:41:14\", \"2004-03-08T01:46:05\", \"2004-03-08T01:47:06\", \"2004-03-08T01:48:06\", \"2004-03-08T01:50:37\", \"2004-03-08T01:59:13\", \"2004-03-08T02:00:30\", \"2004-03-08T02:01:34\", \"2004-03-08T02:03:12\", \"2004-03-08T02:05:15\", \"2004-03-08T02:06:17\", \"2004-03-08T02:07:21\", \"2004-03-08T02:09:08\", \"2004-03-08T02:12:24\", \"2004-03-08T02:16:24\", \"2004-03-08T02:17:10\", \"2004-03-08T02:22:19\", \"2004-03-08T02:23:45\", \"2004-03-08T02:26:44\", \"2004-03-08T02:27:51\", \"2004-03-08T02:33:28\", \"2004-03-08T02:34:40\", \"2004-03-08T02:42:36\", \"2004-03-08T02:45:03\", \"2004-03-08T02:46:12\", \"2004-03-08T02:47:58\", \"2004-03-08T02:48:05\", \"2004-03-08T02:50:53\", \"2004-03-08T02:50:54\", \"2004-03-08T02:52:39\", \"2004-03-08T02:54:29\", \"2004-03-08T02:54:54\", \"2004-03-08T02:59:03\", \"2004-03-08T03:01:12\", \"2004-03-08T03:06:31\", \"2004-03-08T03:07:59\", \"2004-03-08T03:09:20\", \"2004-03-08T03:11:28\", \"2004-03-08T03:16:22\", \"2004-03-08T03:17:50\", \"2004-03-08T03:21:16\", \"2004-03-08T03:26:06\", \"2004-03-08T03:28:02\", \"2004-03-08T03:33:52\", \"2004-03-08T03:35:42\", \"2004-03-08T03:40:51\", \"2004-03-08T03:42:20\", \"2004-03-08T03:46:27\", \"2004-03-08T03:48:18\", \"2004-03-08T03:49:24\", \"2004-03-08T03:51:05\", \"2004-03-08T03:52:17\", \"2004-03-08T03:53:59\", \"2004-03-08T03:54:03\", \"2004-03-08T03:55:09\", \"2004-03-08T04:16:08\", \"2004-03-08T04:18:28\", \"2004-03-08T04:20:48\", \"2004-03-08T04:21:53\", \"2004-03-08T04:22:55\", \"2004-03-08T04:24:47\", \"2004-03-08T04:25:38\", \"2004-03-08T04:25:44\", \"2004-03-08T04:26:02\", \"2004-03-08T04:26:11\", \"2004-03-08T04:28:34\", \"2004-03-08T04:28:38\", \"2004-03-08T04:28:41\", \"2004-03-08T04:28:42\", \"2004-03-08T04:28:52\", \"2004-03-08T04:29:00\", \"2004-03-08T04:29:11\", \"2004-03-08T04:29:21\", \"2004-03-08T04:29:30\", \"2004-03-08T04:33:25\", \"2004-03-08T04:40:32\", \"2004-03-08T04:43:52\", \"2004-03-08T04:52:13\", \"2004-03-08T04:55:40\", \"2004-03-08T04:59:13\", \"2004-03-08T05:00:42\", \"2004-03-08T05:00:44\", \"2004-03-08T05:00:45\", \"2004-03-08T05:00:46\", \"2004-03-08T05:00:52\", \"2004-03-08T05:01:02\", \"2004-03-08T05:01:14\", \"2004-03-08T05:01:58\", \"2004-03-08T05:02:06\", \"2004-03-08T05:02:07\", \"2004-03-08T05:03:13\", \"2004-03-08T05:13:35\", \"2004-03-08T05:16:15\", \"2004-03-08T05:16:20\", \"2004-03-08T05:22:57\", \"2004-03-08T05:23:37\", \"2004-03-08T05:24:18\", \"2004-03-08T05:24:29\", \"2004-03-08T05:24:50\", \"2004-03-08T05:25:46\", \"2004-03-08T05:26:02\", \"2004-03-08T05:26:06\", \"2004-03-08T05:26:08\", \"2004-03-08T05:26:16\", \"2004-03-08T05:30:07\", \"2004-03-08T05:31:47\", \"2004-03-08T05:32:01\", \"2004-03-08T05:34:33\", \"2004-03-08T05:36:56\", \"2004-03-08T05:38:57\", \"2004-03-08T05:42:06\", \"2004-03-08T05:47:38\", \"2004-03-08T05:48:48\", \"2004-03-08T05:51:45\", \"2004-03-08T05:56:08\", \"2004-03-08T05:57:15\", \"2004-03-08T05:58:39\", \"2004-03-08T06:01:51\", \"2004-03-08T06:09:37\", \"2004-03-08T06:17:13\", \"2004-03-08T06:20:36\", \"2004-03-08T06:23:52\", \"2004-03-08T06:32:14\", \"2004-03-08T06:37:19\", \"2004-03-08T06:41:22\", \"2004-03-08T06:42:29\", \"2004-03-08T06:43:32\", \"2004-03-08T06:47:41\", \"2004-03-08T06:49:27\", \"2004-03-08T06:54:30\", \"2004-03-08T06:57:09\", \"2004-03-08T06:57:46\", \"2004-03-08T07:00:15\", \"2004-03-08T07:07:13\", \"2004-03-08T07:09:12\", \"2004-03-08T07:09:21\", \"2004-03-08T07:10:26\", \"2004-03-08T07:11:37\", \"2004-03-08T07:12:39\", \"2004-03-08T07:22:13\", \"2004-03-08T07:23:38\", \"2004-03-08T07:24:43\", \"2004-03-08T07:25:56\", \"2004-03-08T07:27:01\", \"2004-03-08T07:27:36\", \"2004-03-08T07:27:37\", \"2004-03-08T07:28:29\", \"2004-03-08T07:29:56\", \"2004-03-08T07:35:50\", \"2004-03-08T07:39:31\", \"2004-03-08T07:40:54\", \"2004-03-08T07:43:21\", \"2004-03-08T07:44:53\", \"2004-03-08T07:49:56\", \"2004-03-08T07:51:39\", \"2004-03-08T07:53:19\", \"2004-03-08T07:53:37\", \"2004-03-08T07:53:38\", \"2004-03-08T07:54:30\", \"2004-03-08T07:56:34\", \"2004-03-08T08:04:46\", \"2004-03-08T08:09:32\", \"2004-03-08T08:12:50\", \"2004-03-08T08:14:15\", \"2004-03-08T08:15:21\", \"2004-03-08T08:17:09\", \"2004-03-08T08:18:52\", \"2004-03-08T08:21:00\", \"2004-03-08T08:21:47\", \"2004-03-08T08:25:37\", \"2004-03-08T08:26:41\", \"2004-03-08T08:27:04\", \"2004-03-08T08:27:08\", \"2004-03-08T08:27:14\", \"2004-03-08T08:27:23\", \"2004-03-08T08:27:28\", \"2004-03-08T08:28:23\", \"2004-03-08T08:29:36\", \"2004-03-08T08:29:57\", \"2004-03-08T08:30:25\", \"2004-03-08T08:31:37\", \"2004-03-08T08:32:24\", \"2004-03-08T08:32:27\", \"2004-03-08T08:32:34\", \"2004-03-08T08:33:27\", \"2004-03-08T08:33:30\", \"2004-03-08T08:33:39\", \"2004-03-08T08:33:51\", \"2004-03-08T08:33:52\", \"2004-03-08T08:33:57\", \"2004-03-08T08:34:09\", \"2004-03-08T08:34:53\", \"2004-03-08T08:36:05\", \"2004-03-08T08:37:14\", \"2004-03-08T08:37:17\", \"2004-03-08T08:37:23\", \"2004-03-08T08:37:53\", \"2004-03-08T08:40:15\", \"2004-03-08T08:52:13\", \"2004-03-08T08:53:17\", \"2004-03-08T08:55:12\", \"2004-03-08T09:02:14\", \"2004-03-08T09:02:21\", \"2004-03-08T09:02:29\", \"2004-03-08T09:02:31\", \"2004-03-08T09:02:32\", \"2004-03-08T09:02:54\", \"2004-03-08T09:03:18\", \"2004-03-08T09:05:54\", \"2004-03-08T09:09:55\", \"2004-03-08T09:12:54\", \"2004-03-08T09:16:26\", \"2004-03-08T09:17:16\", \"2004-03-08T09:17:17\", \"2004-03-08T09:17:18\", \"2004-03-08T09:18:53\", \"2004-03-08T09:18:56\", \"2004-03-08T09:18:57\", \"2004-03-08T09:23:03\", \"2004-03-08T09:25:42\", \"2004-03-08T09:29:35\", \"2004-03-08T09:29:36\", \"2004-03-08T09:30:10\", \"2004-03-08T09:30:11\", \"2004-03-08T09:30:40\", \"2004-03-08T09:32:32\", \"2004-03-08T09:33:46\", \"2004-03-08T09:33:53\", \"2004-03-08T09:34:58\", \"2004-03-08T09:36:35\", \"2004-03-08T09:38:11\", \"2004-03-08T09:40:30\", \"2004-03-08T09:41:15\", \"2004-03-08T09:42:27\", \"2004-03-08T09:45:15\", \"2004-03-08T10:01:06\", \"2004-03-08T10:05:40\", \"2004-03-08T10:06:28\", \"2004-03-08T10:08:02\", \"2004-03-08T10:09:52\", \"2004-03-08T10:14:46\", \"2004-03-08T10:16:52\", \"2004-03-08T10:18:21\", \"2004-03-08T10:21:21\", \"2004-03-08T10:30:56\", \"2004-03-08T10:32:18\", \"2004-03-08T10:34:55\", \"2004-03-08T10:40:09\", \"2004-03-08T10:45:25\", \"2004-03-08T10:46:34\", \"2004-03-08T10:48:02\", \"2004-03-08T10:48:05\", \"2004-03-08T10:48:06\", \"2004-03-08T10:48:19\", \"2004-03-08T10:48:37\", \"2004-03-08T10:50:05\", \"2004-03-08T11:03:34\", \"2004-03-08T11:06:20\", \"2004-03-08T11:06:28\", \"2004-03-08T11:09:24\", \"2004-03-08T11:10:09\", \"2004-03-08T11:10:24\", \"2004-03-08T11:11:04\", \"2004-03-08T11:11:10\", \"2004-03-08T11:11:15\", \"2004-03-08T11:11:26\", \"2004-03-08T11:11:51\", \"2004-03-08T11:15:51\", \"2004-03-08T11:17:49\", \"2004-03-08T11:19:43\", \"2004-03-08T11:24:12\", \"2004-03-08T11:25:16\", \"2004-03-08T11:40:41\", \"2004-03-08T11:40:42\", \"2004-03-08T11:41:14\", \"2004-03-08T11:43:17\", \"2004-03-08T11:45:08\", \"2004-03-08T11:47:52\", \"2004-03-08T11:49:23\", \"2004-03-08T11:51:20\", \"2004-03-08T11:56:19\", \"2004-03-08T11:57:28\", \"2004-03-08T12:00:26\", \"2004-03-08T12:06:03\", \"2004-03-08T12:06:29\", \"2004-03-08T12:07:13\", \"2004-03-08T12:08:32\", \"2004-03-08T12:10:39\", \"2004-03-08T12:12:50\", \"2004-03-08T12:15:36\", \"2004-03-08T12:20:18\", \"2004-03-08T12:25:47\", \"2004-03-08T12:28:09\", \"2004-03-08T12:31:32\", \"2004-03-08T12:33:09\", \"2004-03-08T12:39:34\", \"2004-03-08T12:40:36\", \"2004-03-08T12:42:04\", \"2004-03-08T12:43:08\", \"2004-03-08T12:45:13\", \"2004-03-08T12:47:42\", \"2004-03-08T12:55:18\", \"2004-03-08T12:58:39\", \"2004-03-08T12:58:50\", \"2004-03-08T12:59:18\", \"2004-03-08T12:59:34\", \"2004-03-08T12:59:37\", \"2004-03-08T12:59:55\", \"2004-03-08T13:00:12\", \"2004-03-08T13:00:13\", \"2004-03-08T13:00:20\", \"2004-03-08T13:00:27\", \"2004-03-08T13:00:40\", \"2004-03-08T13:01:27\", \"2004-03-08T13:01:29\", \"2004-03-08T13:01:35\", \"2004-03-08T13:01:38\", \"2004-03-08T13:01:42\", \"2004-03-08T13:01:55\", \"2004-03-08T13:02:03\", \"2004-03-08T13:02:16\", \"2004-03-08T13:04:14\", \"2004-03-08T13:07:16\", \"2004-03-08T13:08:17\", \"2004-03-08T13:12:54\", \"2004-03-08T13:15:03\", \"2004-03-08T13:16:11\", \"2004-03-08T13:17:23\", \"2004-03-08T13:18:57\", \"2004-03-08T13:24:49\", \"2004-03-08T13:29:37\", \"2004-03-08T13:31:16\", \"2004-03-08T13:32:35\", \"2004-03-08T13:35:02\", \"2004-03-08T13:36:06\", \"2004-03-08T13:38:39\", \"2004-03-08T13:45:46\", \"2004-03-08T13:48:06\", \"2004-03-08T13:49:47\", \"2004-03-08T13:55:51\", \"2004-03-08T13:56:52\", \"2004-03-08T13:57:52\", \"2004-03-08T13:58:55\", \"2004-03-08T14:00:08\", \"2004-03-08T14:01:36\", \"2004-03-08T14:07:26\", \"2004-03-08T14:11:28\", \"2004-03-08T14:12:49\", \"2004-03-08T14:13:51\", \"2004-03-08T14:15:01\", \"2004-03-08T14:16:38\", \"2004-03-08T14:16:39\", \"2004-03-08T14:23:54\", \"2004-03-08T14:25:33\", \"2004-03-08T14:26:45\", \"2004-03-08T14:27:46\", \"2004-03-08T14:28:46\", \"2004-03-08T14:33:56\", \"2004-03-08T14:40:18\", \"2004-03-08T14:41:22\", \"2004-03-08T14:42:44\", \"2004-03-08T14:43:45\", \"2004-03-08T14:52:51\", \"2004-03-08T14:54:56\", \"2004-03-08T14:57:19\", \"2004-03-08T14:58:58\", \"2004-03-08T15:00:07\", \"2004-03-08T15:01:12\", \"2004-03-08T15:02:29\", \"2004-03-08T15:03:49\", \"2004-03-08T15:07:41\", \"2004-03-08T15:15:17\", \"2004-03-08T15:16:14\", \"2004-03-08T15:17:18\", \"2004-03-08T15:19:35\", \"2004-03-08T16:54:47\", \"2004-03-08T17:39:00\", \"2004-03-08T17:39:01\", \"2004-03-08T18:14:44\", \"2004-03-08T18:20:44\", \"2004-03-08T18:23:43\", \"2004-03-08T18:39:33\", \"2004-03-08T18:39:35\", \"2004-03-08T18:39:36\", \"2004-03-08T18:41:16\", \"2004-03-08T19:08:27\", \"2004-03-08T19:08:28\", \"2004-03-08T19:08:39\", \"2004-03-08T19:08:52\", \"2004-03-08T19:10:06\", \"2004-03-08T19:24:42\", \"2004-03-08T20:09:57\", \"2004-03-08T20:48:18\", \"2004-03-08T20:48:25\", \"2004-03-08T20:48:26\", \"2004-03-08T20:48:27\", \"2004-03-08T20:48:48\", \"2004-03-08T20:48:49\", \"2004-03-08T20:48:53\", \"2004-03-08T20:50:59\", \"2004-03-08T20:51:01\", \"2004-03-08T20:51:51\", \"2004-03-08T20:52:01\", \"2004-03-08T22:03:04\", \"2004-03-08T22:03:28\", \"2004-03-08T22:03:29\", \"2004-03-08T22:03:44\", \"2004-03-08T22:03:52\", \"2004-03-08T22:04:09\", \"2004-03-08T22:04:10\", \"2004-03-08T22:04:24\", \"2004-03-08T22:04:35\", \"2004-03-08T22:30:01\", \"2004-03-08T23:42:55\", \"2004-03-09T01:48:27\", \"2004-03-09T01:48:28\", \"2004-03-09T01:49:53\", \"2004-03-09T01:49:57\", \"2004-03-09T01:50:35\", \"2004-03-09T01:50:54\", \"2004-03-09T01:51:17\", \"2004-03-09T01:51:41\", \"2004-03-09T01:51:45\", \"2004-03-09T01:51:54\", \"2004-03-09T01:52:12\", \"2004-03-09T02:33:10\", \"2004-03-09T02:33:17\", \"2004-03-09T02:33:18\", \"2004-03-09T02:39:17\", \"2004-03-09T02:39:18\", \"2004-03-09T03:10:39\", \"2004-03-09T05:01:53\", \"2004-03-09T05:02:11\", \"2004-03-09T05:02:14\", \"2004-03-09T05:02:19\", \"2004-03-09T05:02:27\", \"2004-03-09T05:02:28\", \"2004-03-09T05:04:09\", \"2004-03-09T05:09:30\", \"2004-03-09T05:09:31\", \"2004-03-09T05:12:45\", \"2004-03-09T05:13:40\", \"2004-03-09T05:14:13\", \"2004-03-09T05:14:14\", \"2004-03-09T05:20:20\", \"2004-03-09T06:29:03\", \"2004-03-09T06:33:21\", \"2004-03-09T06:34:51\", \"2004-03-09T06:34:53\", \"2004-03-09T06:34:54\", \"2004-03-09T06:34:55\", \"2004-03-09T06:34:56\", \"2004-03-09T06:34:57\", \"2004-03-09T06:34:58\", \"2004-03-09T06:35:04\", \"2004-03-09T06:35:06\", \"2004-03-09T06:35:09\", \"2004-03-09T06:35:10\", \"2004-03-09T06:35:13\", \"2004-03-09T06:35:17\", \"2004-03-09T06:35:42\", \"2004-03-09T06:36:28\", \"2004-03-09T06:36:29\", \"2004-03-09T06:36:51\", \"2004-03-09T06:37:00\", \"2004-03-09T06:37:40\", \"2004-03-09T07:27:10\", \"2004-03-09T07:27:44\", \"2004-03-09T07:27:59\", \"2004-03-09T07:28:05\", \"2004-03-09T07:28:12\", \"2004-03-09T08:08:35\", \"2004-03-09T08:08:37\", \"2004-03-09T08:08:38\", \"2004-03-09T08:08:54\", \"2004-03-09T08:08:57\", \"2004-03-09T08:09:39\", \"2004-03-09T08:09:58\", \"2004-03-09T08:10:04\", \"2004-03-09T08:10:06\", \"2004-03-09T08:10:12\", \"2004-03-09T08:10:20\", \"2004-03-09T08:17:27\", \"2004-03-09T08:17:34\", \"2004-03-09T08:17:50\", \"2004-03-09T08:18:17\", \"2004-03-09T08:18:19\", \"2004-03-09T08:18:25\", \"2004-03-09T08:18:26\", \"2004-03-09T08:18:27\", \"2004-03-09T08:18:50\", \"2004-03-09T08:19:04\", \"2004-03-09T09:55:44\", \"2004-03-09T09:55:53\", \"2004-03-09T10:08:07\", \"2004-03-09T10:29:38\", \"2004-03-09T10:29:40\", \"2004-03-09T10:29:41\", \"2004-03-09T11:21:36\", \"2004-03-09T11:43:54\", \"2004-03-09T11:43:56\", \"2004-03-09T11:57:20\", \"2004-03-09T12:16:06\", \"2004-03-09T12:21:08\", \"2004-03-09T12:21:09\", \"2004-03-09T12:21:10\", \"2004-03-09T12:21:49\", \"2004-03-09T12:52:21\", \"2004-03-09T12:52:58\", \"2004-03-09T13:14:53\", \"2004-03-09T13:15:15\", \"2004-03-09T13:15:23\", \"2004-03-09T13:15:33\", \"2004-03-09T13:15:49\", \"2004-03-09T13:16:00\", \"2004-03-09T13:49:05\", \"2004-03-09T14:43:02\", \"2004-03-09T14:43:03\", \"2004-03-09T14:43:04\", \"2004-03-09T14:43:05\", \"2004-03-09T14:43:12\", \"2004-03-09T14:50:15\", \"2004-03-09T14:50:23\", \"2004-03-09T14:50:24\", \"2004-03-09T14:50:28\", \"2004-03-09T14:56:15\", \"2004-03-09T15:03:55\", \"2004-03-09T15:25:03\", \"2004-03-09T15:25:05\", \"2004-03-09T15:25:14\", \"2004-03-09T15:25:15\", \"2004-03-09T15:37:35\", \"2004-03-09T15:37:36\", \"2004-03-09T15:44:52\", \"2004-03-09T15:44:57\", \"2004-03-09T15:51:10\", \"2004-03-09T15:51:24\", \"2004-03-09T15:52:09\", \"2004-03-09T15:52:15\", \"2004-03-09T15:53:40\", \"2004-03-09T15:53:49\", \"2004-03-09T15:53:56\", \"2004-03-09T16:23:55\", \"2004-03-09T16:27:48\", \"2004-03-09T17:10:26\", \"2004-03-09T17:10:28\", \"2004-03-09T17:33:58\", \"2004-03-09T17:42:41\", \"2004-03-09T17:42:42\", \"2004-03-09T17:43:54\", \"2004-03-09T17:45:02\", \"2004-03-09T18:00:43\", \"2004-03-09T18:00:44\", \"2004-03-09T18:01:11\", \"2004-03-09T18:01:24\", \"2004-03-09T18:01:25\", \"2004-03-09T18:01:28\", \"2004-03-09T18:01:45\", \"2004-03-09T18:02:07\", \"2004-03-09T18:06:27\", \"2004-03-09T20:23:32\", \"2004-03-09T20:25:15\", \"2004-03-09T20:25:18\", \"2004-03-09T20:34:55\", \"2004-03-09T20:45:43\", \"2004-03-09T20:45:48\", \"2004-03-09T20:45:51\", \"2004-03-09T21:33:22\", \"2004-03-09T21:51:09\", \"2004-03-09T21:51:16\", \"2004-03-09T22:23:39\", \"2004-03-09T22:31:21\", \"2004-03-09T22:40:32\", \"2004-03-09T22:40:33\", \"2004-03-09T22:44:31\", \"2004-03-09T23:36:11\", \"2004-03-10T00:21:51\", \"2004-03-10T00:24:58\", \"2004-03-10T00:29:44\", \"2004-03-10T00:29:45\", \"2004-03-10T02:07:27\", \"2004-03-10T02:31:33\", \"2004-03-10T02:31:44\", \"2004-03-10T02:52:49\", \"2004-03-10T02:55:00\", \"2004-03-10T03:11:40\", \"2004-03-10T03:11:50\", \"2004-03-10T03:11:53\", \"2004-03-10T03:12:07\", \"2004-03-10T03:12:20\", \"2004-03-10T03:12:33\", \"2004-03-10T03:12:45\", \"2004-03-10T03:12:48\", \"2004-03-10T03:12:56\", \"2004-03-10T03:14:40\", \"2004-03-10T03:14:54\", \"2004-03-10T03:15:28\", \"2004-03-10T03:15:33\", \"2004-03-10T03:52:49\", \"2004-03-10T03:52:51\", \"2004-03-10T03:52:52\", \"2004-03-10T05:21:38\", \"2004-03-10T07:36:56\", \"2004-03-10T08:36:28\", \"2004-03-10T08:36:30\", \"2004-03-10T08:36:31\", \"2004-03-10T08:36:57\", \"2004-03-10T08:36:58\", \"2004-03-10T08:51:31\", \"2004-03-10T08:52:13\", \"2004-03-10T08:52:16\", \"2004-03-10T08:52:25\", \"2004-03-10T08:52:52\", \"2004-03-10T08:53:12\", \"2004-03-10T08:53:19\", \"2004-03-10T08:53:33\", \"2004-03-10T08:54:15\", \"2004-03-10T08:54:37\", \"2004-03-10T08:55:03\", \"2004-03-10T08:55:17\", \"2004-03-10T08:55:40\", \"2004-03-10T08:55:49\", \"2004-03-10T08:56:10\", \"2004-03-10T08:56:13\", \"2004-03-10T09:05:59\", \"2004-03-10T09:41:56\", \"2004-03-10T10:37:53\", \"2004-03-10T10:38:04\", \"2004-03-10T10:38:05\", \"2004-03-10T10:38:23\", \"2004-03-10T10:38:27\", \"2004-03-10T10:59:06\", \"2004-03-10T11:12:51\", \"2004-03-10T11:13:21\", \"2004-03-10T11:18:59\", \"2004-03-10T11:19:00\", \"2004-03-10T11:19:32\", \"2004-03-10T11:41:25\", \"2004-03-10T11:41:52\", \"2004-03-10T11:43:26\", \"2004-03-10T11:44:13\", \"2004-03-10T11:44:27\", \"2004-03-10T11:44:44\", \"2004-03-10T11:45:22\", \"2004-03-10T11:45:51\", \"2004-03-10T11:46:42\", \"2004-03-10T11:47:37\", \"2004-03-10T11:49:57\", \"2004-03-10T11:50:28\", \"2004-03-10T11:50:35\", \"2004-03-10T11:52:14\", \"2004-03-10T11:52:42\", \"2004-03-10T12:02:38\", \"2004-03-10T12:02:43\", \"2004-03-10T12:02:45\", \"2004-03-10T12:02:46\", \"2004-03-10T12:02:50\", \"2004-03-10T12:02:52\", \"2004-03-10T12:02:59\", \"2004-03-10T12:03:00\", \"2004-03-10T12:03:03\", \"2004-03-10T12:03:04\", \"2004-03-10T12:03:08\", \"2004-03-10T12:03:45\", \"2004-03-10T12:05:06\", \"2004-03-10T12:05:22\", \"2004-03-10T12:05:38\", \"2004-03-10T12:05:40\", \"2004-03-10T12:05:54\", \"2004-03-10T12:05:58\", \"2004-03-10T12:06:07\", \"2004-03-10T12:06:09\", \"2004-03-10T12:07:07\", \"2004-03-10T12:07:08\", \"2004-03-10T12:07:12\", \"2004-03-10T12:07:13\", \"2004-03-10T12:07:14\", \"2004-03-10T12:07:25\", \"2004-03-10T12:16:59\", \"2004-03-10T12:19:02\", \"2004-03-10T12:19:05\", \"2004-03-10T12:19:06\", \"2004-03-10T12:19:08\", \"2004-03-10T12:22:32\", \"2004-03-10T12:25:25\", \"2004-03-10T12:25:28\", \"2004-03-10T12:25:29\", \"2004-03-10T13:13:23\", \"2004-03-10T13:15:44\", \"2004-03-10T13:15:53\", \"2004-03-10T13:15:54\", \"2004-03-10T13:41:37\", \"2004-03-10T13:42:23\", \"2004-03-10T14:20:51\", \"2004-03-10T14:21:36\", \"2004-03-10T14:22:13\", \"2004-03-10T15:06:20\", \"2004-03-10T15:06:24\", \"2004-03-10T15:06:25\", \"2004-03-10T15:10:10\", \"2004-03-10T15:10:13\", \"2004-03-10T15:49:55\", \"2004-03-10T16:29:30\", \"2004-03-10T16:31:19\", \"2004-03-10T16:33:04\", \"2004-03-10T16:47:44\", \"2004-03-10T16:52:44\", \"2004-03-10T16:54:36\", \"2004-03-10T18:13:54\", \"2004-03-10T18:17:24\", \"2004-03-10T19:55:54\", \"2004-03-10T19:55:56\", \"2004-03-10T20:22:41\", \"2004-03-10T20:22:42\", \"2004-03-10T20:23:11\", \"2004-03-10T20:23:41\", \"2004-03-10T20:23:52\", \"2004-03-10T21:56:34\", \"2004-03-10T21:58:46\", \"2004-03-10T21:59:16\", \"2004-03-10T21:59:17\", \"2004-03-10T21:59:18\", \"2004-03-10T22:00:03\", \"2004-03-10T22:00:04\", \"2004-03-10T22:00:05\", \"2004-03-10T22:16:58\", \"2004-03-10T23:08:28\", \"2004-03-10T23:08:30\", \"2004-03-10T23:08:31\", \"2004-03-11T00:07:57\", \"2004-03-11T00:07:58\", \"2004-03-11T00:42:01\", \"2004-03-11T00:43:57\", \"2004-03-11T00:43:59\", \"2004-03-11T00:44:08\", \"2004-03-11T01:39:53\", \"2004-03-11T02:27:39\", \"2004-03-11T03:35:49\", \"2004-03-11T03:35:57\", \"2004-03-11T03:35:58\", \"2004-03-11T03:50:09\", \"2004-03-11T06:11:19\", \"2004-03-11T06:11:21\", \"2004-03-11T06:11:38\", \"2004-03-11T06:11:39\", \"2004-03-11T06:11:46\", \"2004-03-11T06:11:47\", \"2004-03-11T06:12:41\", \"2004-03-11T06:12:43\", \"2004-03-11T06:13:07\", \"2004-03-11T06:13:08\", \"2004-03-11T06:14:03\", \"2004-03-11T06:14:04\", \"2004-03-11T06:16:40\", \"2004-03-11T06:17:06\", \"2004-03-11T06:17:11\", \"2004-03-11T06:27:31\", \"2004-03-11T06:27:36\", \"2004-03-11T06:48:05\", \"2004-03-11T07:15:10\", \"2004-03-11T07:15:11\", \"2004-03-11T07:19:57\", \"2004-03-11T07:20:05\", \"2004-03-11T07:20:09\", \"2004-03-11T07:39:30\", \"2004-03-11T08:14:18\", \"2004-03-11T08:45:41\", \"2004-03-11T08:45:42\", \"2004-03-11T08:45:49\", \"2004-03-11T08:45:54\", \"2004-03-11T10:55:40\", \"2004-03-11T10:58:16\", \"2004-03-11T10:58:27\", \"2004-03-11T11:12:40\", \"2004-03-11T11:33:35\", \"2004-03-11T11:49:51\", \"2004-03-11T11:49:53\", \"2004-03-11T11:49:54\", \"2004-03-11T11:54:59\", \"2004-03-11T11:55:22\", \"2004-03-11T11:55:23\", \"2004-03-11T11:55:26\", \"2004-03-11T12:28:50\", \"2004-03-11T12:28:51\", \"2004-03-11T12:29:03\", \"2004-03-11T12:29:27\", \"2004-03-11T12:56:35\", \"2004-03-11T12:56:58\", \"2004-03-11T12:57:18\", \"2004-03-11T12:57:24\", \"2004-03-11T12:57:45\", \"2004-03-11T12:58:03\", \"2004-03-11T12:58:37\", \"2004-03-11T12:58:50\", \"2004-03-11T12:59:07\", \"2004-03-11T12:59:33\", \"2004-03-11T12:59:52\", \"2004-03-11T13:00:12\", \"2004-03-11T13:00:47\", \"2004-03-11T13:00:57\", \"2004-03-11T13:01:21\", \"2004-03-11T13:01:37\", \"2004-03-11T13:01:58\", \"2004-03-11T13:02:22\", \"2004-03-11T13:02:42\", \"2004-03-11T13:03:06\", \"2004-03-11T13:03:23\", \"2004-03-11T13:03:48\", \"2004-03-11T13:04:09\", \"2004-03-11T13:04:30\", \"2004-03-11T13:04:52\", \"2004-03-11T13:05:13\", \"2004-03-11T13:05:33\", \"2004-03-11T13:05:54\", \"2004-03-11T13:06:17\", \"2004-03-11T13:06:39\", \"2004-03-11T13:07:02\", \"2004-03-11T13:07:20\", \"2004-03-11T13:07:40\", \"2004-03-11T13:08:03\", \"2004-03-11T13:08:44\", \"2004-03-11T13:09:04\", \"2004-03-11T13:09:21\", \"2004-03-11T13:09:24\", \"2004-03-11T13:09:52\", \"2004-03-11T13:10:11\", \"2004-03-11T13:10:27\", \"2004-03-11T13:10:52\", \"2004-03-11T13:11:09\", \"2004-03-11T13:11:41\", \"2004-03-11T13:12:54\", \"2004-03-11T13:18:15\", \"2004-03-11T13:22:32\", \"2004-03-11T13:24:03\", \"2004-03-11T13:24:04\", \"2004-03-11T13:26:38\", \"2004-03-11T13:27:05\", \"2004-03-11T14:14:44\", \"2004-03-11T14:14:47\", \"2004-03-11T14:14:50\", \"2004-03-11T14:22:08\", \"2004-03-11T14:22:09\", \"2004-03-11T14:26:26\", \"2004-03-11T14:28:53\", \"2004-03-11T14:29:44\", \"2004-03-11T14:29:52\", \"2004-03-11T14:30:51\", \"2004-03-11T14:31:43\", \"2004-03-11T14:31:48\", \"2004-03-11T14:33:01\", \"2004-03-11T14:53:12\", \"2004-03-11T15:17:08\", \"2004-03-11T15:51:49\", \"2004-03-11T15:52:07\", \"2004-03-11T15:52:12\", \"2004-03-11T15:52:18\", \"2004-03-11T15:52:19\", \"2004-03-11T15:52:37\", \"2004-03-11T15:52:38\", \"2004-03-11T15:52:39\", \"2004-03-11T16:02:37\", \"2004-03-11T16:12:59\", \"2004-03-11T16:13:02\", \"2004-03-11T16:13:03\", \"2004-03-11T16:33:23\", \"2004-03-11T18:11:39\", \"2004-03-11T18:11:40\", \"2004-03-11T18:31:35\", \"2004-03-11T18:57:52\", \"2004-03-11T20:12:24\", \"2004-03-11T20:49:32\", \"2004-03-11T20:49:37\", \"2004-03-11T20:49:38\", \"2004-03-11T20:59:05\", \"2004-03-11T23:56:31\", \"2004-03-12T01:30:44\", \"2004-03-12T02:27:29\", \"2004-03-12T02:27:32\", \"2004-03-12T03:32:56\", \"2004-03-12T04:57:20\", \"2004-03-12T04:57:21\", \"2004-03-12T04:57:56\", \"2004-03-12T04:59:21\", \"2004-03-12T05:03:19\", \"2004-03-12T05:19:31\", \"2004-03-12T05:25:20\", \"2004-03-12T05:25:24\", \"2004-03-12T05:25:25\", \"2004-03-12T05:44:35\", \"2004-03-12T05:44:50\", \"2004-03-12T05:44:51\", \"2004-03-12T05:51:36\", \"2004-03-12T08:33:32\", \"2004-03-12T09:12:01\", \"2004-03-12T09:12:02\", \"2004-03-12T11:01:26\", \"2004-03-12T11:01:28\", \"2004-03-12T11:01:29\", \"2004-03-12T11:16:36\", \"2004-03-12T11:16:55\", \"2004-03-12T11:16:56\", \"2004-03-12T11:39:14\", \"2004-03-12T11:39:25\", \"2004-03-12T11:39:31\", \"2004-03-12T12:23:11\", \"2004-03-12T12:23:17\", \"2004-03-12T12:23:18\", \"2004-03-12T12:23:40\", \"2004-03-12T12:23:41\", \"2004-03-12T13:04:01\", \"2004-03-12T13:18:57\", \"2004-03-12T13:25:45\"], \"xaxis\": \"x\", \"y\": [6, 4, 1, 1, 1, 1, 1, 4, 1, 1, 1, 1, 1, 1, 2, 1, 1, 8, 1, 1, 1, 1, 1, 2, 1, 1, 1, 1, 1, 1, 2, 1, 1, 1, 1, 1, 1, 1, 1, 1, 2, 1, 1, 1, 1, 1, 1, 1, 2, 1, 1, 1, 1, 1, 1, 2, 1, 1, 1, 1, 1, 1, 1, 1, 1, 1, 1, 1, 1, 1, 1, 1, 1, 2, 1, 1, 1, 1, 52, 16, 28, 48, 1, 1, 1, 1, 5, 1, 1, 1, 1, 1, 2, 1, 1, 1, 1, 1, 1, 2, 2, 1, 1, 1, 1, 1, 1, 2, 1, 1, 1, 1, 1, 1, 1, 1, 1, 1, 1, 1, 1, 1, 1, 1, 1, 2, 1, 5, 2, 1, 1, 1, 1, 1, 2, 1, 1, 1, 1, 1, 1, 1, 2, 1, 1, 1, 1, 2, 2, 1, 1, 1, 1, 1, 1, 1, 4, 2, 4, 6, 6, 1, 1, 1, 1, 1, 1, 2, 1, 1, 1, 1, 1, 1, 1, 2, 2, 1, 1, 1, 1, 1, 1, 1, 1, 1, 1, 1, 1, 1, 1, 1, 1, 1, 2, 2, 2, 1, 2, 11, 1, 1, 1, 1, 1, 1, 1, 1, 1, 8, 1, 1, 1, 3, 1, 1, 1, 1, 2, 1, 3, 1, 1, 1, 1, 1, 1, 1, 1, 1, 1, 1, 2, 48, 36, 56, 48, 22, 1, 1, 1, 1, 1, 1, 2, 1, 1, 1, 2, 1, 1, 1, 1, 1, 1, 1, 1, 1, 1, 1, 1, 1, 2, 2, 1, 1, 3, 2, 1, 2, 1, 1, 1, 1, 1, 1, 2, 1, 1, 1, 1, 1, 2, 1, 1, 2, 2, 1, 1, 1, 1, 1, 1, 1, 2, 1, 2, 1, 1, 2, 1, 1, 1, 1, 2, 1, 1, 1, 2, 1, 2, 1, 2, 2, 4, 2, 1, 1, 1, 1, 1, 3, 1, 1, 4, 4, 1, 1, 1, 1, 4, 1, 1, 1, 1, 1, 1, 1, 2, 1, 1, 10, 1, 1, 1, 1, 1, 1, 1, 1, 1, 2, 1, 1, 1, 3, 1, 1, 2, 1, 2, 2, 1, 1, 2, 1, 1, 1, 1, 1, 1, 1, 1, 1, 1, 2, 1, 1, 1, 1, 1, 1, 1, 1, 1, 1, 1, 1, 1, 1, 1, 1, 1, 1, 1, 1, 2, 1, 1, 48, 42, 32, 32, 32, 2, 11, 1, 1, 1, 1, 1, 1, 1, 1, 1, 1, 1, 1, 1, 1, 1, 1, 1, 3, 1, 1, 1, 1, 1, 1, 1, 1, 1, 1, 1, 1, 1, 1, 1, 1, 1, 1, 1, 1, 1, 1, 1, 1, 1, 1, 2, 1, 1, 1, 1, 1, 1, 1, 1, 1, 2, 1, 1, 2, 1, 2, 1, 1, 1, 7, 1, 1, 1, 1, 1, 1, 1, 1, 2, 5, 2, 2, 1, 2, 1, 1, 1, 1, 1, 1, 1, 1, 1, 6, 18, 4, 2, 12, 8, 8, 1, 1, 1, 1, 1, 4, 1, 24, 6, 1, 2, 4, 1, 2, 1, 1, 1, 1, 1, 1, 1, 1, 1, 1, 1, 2, 1, 1, 2, 1, 2, 1, 2, 1, 3, 1, 1, 1, 1, 6, 1, 1, 1, 1, 1, 1, 1, 1, 8, 2, 1, 1, 1, 1, 1, 1, 1, 1, 1, 1, 1, 1, 1, 1, 4, 1, 1, 2, 1, 1, 1, 1, 1, 1, 1, 40, 20, 24, 24, 1, 2, 1, 1, 1, 1, 1, 1, 1, 2, 1, 3, 1, 8, 1, 1, 1, 1, 1, 1, 2, 1, 2, 1, 2, 1, 1, 2, 1, 1, 1, 1, 1, 1, 2, 1, 8, 1, 1, 1, 1, 1, 1, 2, 1, 1, 2, 1, 1, 1, 1, 1, 1, 1, 1, 8, 1, 2, 1, 1, 1, 2, 1, 1, 1, 1, 1, 1, 1, 2, 1, 1, 2, 2, 2, 2, 1, 2, 1, 1, 1, 1, 1, 11, 1, 1, 1, 1, 1, 1, 2, 4, 4, 6, 10, 1, 1, 2, 1, 1, 4, 1, 1, 1, 4, 4, 10, 4, 1, 1, 1, 1, 4, 1, 1, 5, 1, 1, 1, 1, 1, 1, 1, 1, 1, 1, 1, 1, 1, 1, 1, 2, 1, 1, 1, 3, 1, 1, 1, 1, 1, 1, 1, 1, 1, 1, 1, 1, 50, 1, 1, 1, 1, 1, 2, 1, 1, 1, 1, 1, 1, 1, 1, 2, 1, 1, 1, 8, 1, 1, 1, 1, 1, 1, 1, 40, 52, 58, 20, 1, 1, 1, 1, 1, 1, 1, 1, 1, 1, 4, 1, 1, 1, 1, 1, 3, 1, 11, 1, 1, 11, 6, 8, 1, 1, 1, 1, 1, 1, 1, 1, 1, 1, 1, 1, 1, 1, 1, 1, 1, 1, 1, 1, 12, 4, 1, 4, 1, 1, 1, 2, 1, 1, 1, 1, 1, 1, 1, 1, 1, 1, 2, 1, 1, 1, 1, 1, 1, 1, 1, 4, 1, 1, 2, 1, 1, 2, 2, 1, 1, 1, 2, 1, 1, 1, 2, 1, 1, 1, 1, 1, 1, 1, 1, 1, 1, 1, 2, 6, 4, 2, 2, 1, 1, 2, 8, 1, 1, 1, 1, 8, 1, 1, 2, 1, 4, 1, 1, 1, 1, 1, 1, 1, 1, 1, 1, 1, 1, 1, 1, 1, 1, 2, 2, 3, 2, 2, 1, 2, 1, 3, 1, 1, 1, 1, 1, 1, 1, 1, 1, 1, 1, 1, 1, 1, 1, 1, 1, 9, 1, 1, 48, 50, 36, 16, 20, 4, 1, 1, 4, 1, 1, 1, 1, 1, 2, 1, 1, 1, 1, 1, 1, 1, 1, 1, 1, 1, 1, 1, 1, 1, 1, 1, 2, 1, 1, 1, 1, 1, 1, 1, 2, 1, 1, 2, 1, 4, 1, 1, 1, 8, 2, 1, 8, 2, 1, 1, 5, 1, 2, 1, 1, 1, 8, 2, 1, 6, 4, 1, 1, 2, 1, 1, 1, 1, 1, 1, 10, 1, 1, 1, 1, 1, 1, 1, 1, 3, 1, 3, 1, 1, 2, 1, 1, 1, 2, 1, 1, 1, 1, 2, 1, 1, 1, 1, 1, 1, 1, 1, 1, 2, 1, 1, 1, 1, 1, 1, 1, 2, 1, 1, 1, 1, 1, 1, 1, 1, 1, 1, 1, 1, 1, 1, 1, 1, 1, 1, 14, 60, 40, 36, 42, 1, 1, 1, 1, 1, 1, 1, 1, 1, 1, 1, 1, 2, 1, 1, 1, 1, 1, 1, 3, 1, 1, 3, 1, 1, 1, 1, 1, 1, 1, 1, 1, 1, 1, 1, 1, 1, 1, 1, 1, 1, 1, 1, 1, 1, 1, 1, 3, 1, 1, 1, 1, 1, 1, 1, 1, 1, 1, 1, 1, 1, 2, 2, 1, 1, 2, 2, 1, 1, 1, 1, 2, 1, 1, 1, 1, 1, 1, 1, 1, 1, 1, 1, 1, 1, 1, 1, 4, 6, 4, 8, 4, 3, 1, 1, 1, 1, 1, 1, 1, 1, 1, 1, 1, 1, 1, 2, 10, 4, 1, 1, 1, 1, 1, 1, 1, 2, 1, 4, 2, 1, 1, 1, 1, 1, 1, 1, 4, 1, 1, 1, 1, 1, 1, 1, 2, 1, 1, 1, 1, 1, 1, 1, 1, 1, 1, 1, 1, 1, 1, 1, 1, 1, 1, 1, 1, 1, 1, 1, 1, 1, 1, 1, 1, 32, 48, 16, 68, 1, 1, 1, 1, 1, 1, 1, 1, 1, 1, 1, 1, 1, 1, 1, 1, 1, 1, 1, 1, 1, 1, 1, 2, 1, 2, 6, 1, 1, 1, 2, 1, 1, 1, 1, 2, 1, 2, 1, 1, 1, 1, 1, 9, 1, 1, 1, 1, 2, 1, 1, 2, 2, 1, 2, 1, 1, 1, 1, 1, 2, 1, 2, 2, 6, 1, 2, 2, 1, 1, 1, 1, 1, 2, 1, 1, 1, 6, 4, 2, 4], \"yaxis\": \"y\"}],                        {\"height\": 600, \"template\": {\"data\": {\"bar\": [{\"error_x\": {\"color\": \"#2a3f5f\"}, \"error_y\": {\"color\": \"#2a3f5f\"}, \"marker\": {\"line\": {\"color\": \"#E5ECF6\", \"width\": 0.5}}, \"type\": \"bar\"}], \"barpolar\": [{\"marker\": {\"line\": {\"color\": \"#E5ECF6\", \"width\": 0.5}}, \"type\": \"barpolar\"}], \"carpet\": [{\"aaxis\": {\"endlinecolor\": \"#2a3f5f\", \"gridcolor\": \"white\", \"linecolor\": \"white\", \"minorgridcolor\": \"white\", \"startlinecolor\": \"#2a3f5f\"}, \"baxis\": {\"endlinecolor\": \"#2a3f5f\", \"gridcolor\": \"white\", \"linecolor\": \"white\", \"minorgridcolor\": \"white\", \"startlinecolor\": \"#2a3f5f\"}, \"type\": \"carpet\"}], \"choropleth\": [{\"colorbar\": {\"outlinewidth\": 0, \"ticks\": \"\"}, \"type\": \"choropleth\"}], \"contour\": [{\"colorbar\": {\"outlinewidth\": 0, \"ticks\": \"\"}, \"colorscale\": [[0.0, \"#0d0887\"], [0.1111111111111111, \"#46039f\"], [0.2222222222222222, \"#7201a8\"], [0.3333333333333333, \"#9c179e\"], [0.4444444444444444, \"#bd3786\"], [0.5555555555555556, \"#d8576b\"], [0.6666666666666666, \"#ed7953\"], [0.7777777777777778, \"#fb9f3a\"], [0.8888888888888888, \"#fdca26\"], [1.0, \"#f0f921\"]], \"type\": \"contour\"}], \"contourcarpet\": [{\"colorbar\": {\"outlinewidth\": 0, \"ticks\": \"\"}, \"type\": \"contourcarpet\"}], \"heatmap\": [{\"colorbar\": {\"outlinewidth\": 0, \"ticks\": \"\"}, \"colorscale\": [[0.0, \"#0d0887\"], [0.1111111111111111, \"#46039f\"], [0.2222222222222222, \"#7201a8\"], [0.3333333333333333, \"#9c179e\"], [0.4444444444444444, \"#bd3786\"], [0.5555555555555556, \"#d8576b\"], [0.6666666666666666, \"#ed7953\"], [0.7777777777777778, \"#fb9f3a\"], [0.8888888888888888, \"#fdca26\"], [1.0, \"#f0f921\"]], \"type\": \"heatmap\"}], \"heatmapgl\": [{\"colorbar\": {\"outlinewidth\": 0, \"ticks\": \"\"}, \"colorscale\": [[0.0, \"#0d0887\"], [0.1111111111111111, \"#46039f\"], [0.2222222222222222, \"#7201a8\"], [0.3333333333333333, \"#9c179e\"], [0.4444444444444444, \"#bd3786\"], [0.5555555555555556, \"#d8576b\"], [0.6666666666666666, \"#ed7953\"], [0.7777777777777778, \"#fb9f3a\"], [0.8888888888888888, \"#fdca26\"], [1.0, \"#f0f921\"]], \"type\": \"heatmapgl\"}], \"histogram\": [{\"marker\": {\"colorbar\": {\"outlinewidth\": 0, \"ticks\": \"\"}}, \"type\": \"histogram\"}], \"histogram2d\": [{\"colorbar\": {\"outlinewidth\": 0, \"ticks\": \"\"}, \"colorscale\": [[0.0, \"#0d0887\"], [0.1111111111111111, \"#46039f\"], [0.2222222222222222, \"#7201a8\"], [0.3333333333333333, \"#9c179e\"], [0.4444444444444444, \"#bd3786\"], [0.5555555555555556, \"#d8576b\"], [0.6666666666666666, \"#ed7953\"], [0.7777777777777778, \"#fb9f3a\"], [0.8888888888888888, \"#fdca26\"], [1.0, \"#f0f921\"]], \"type\": \"histogram2d\"}], \"histogram2dcontour\": [{\"colorbar\": {\"outlinewidth\": 0, \"ticks\": \"\"}, \"colorscale\": [[0.0, \"#0d0887\"], [0.1111111111111111, \"#46039f\"], [0.2222222222222222, \"#7201a8\"], [0.3333333333333333, \"#9c179e\"], [0.4444444444444444, \"#bd3786\"], [0.5555555555555556, \"#d8576b\"], [0.6666666666666666, \"#ed7953\"], [0.7777777777777778, \"#fb9f3a\"], [0.8888888888888888, \"#fdca26\"], [1.0, \"#f0f921\"]], \"type\": \"histogram2dcontour\"}], \"mesh3d\": [{\"colorbar\": {\"outlinewidth\": 0, \"ticks\": \"\"}, \"type\": \"mesh3d\"}], \"parcoords\": [{\"line\": {\"colorbar\": {\"outlinewidth\": 0, \"ticks\": \"\"}}, \"type\": \"parcoords\"}], \"pie\": [{\"automargin\": true, \"type\": \"pie\"}], \"scatter\": [{\"marker\": {\"colorbar\": {\"outlinewidth\": 0, \"ticks\": \"\"}}, \"type\": \"scatter\"}], \"scatter3d\": [{\"line\": {\"colorbar\": {\"outlinewidth\": 0, \"ticks\": \"\"}}, \"marker\": {\"colorbar\": {\"outlinewidth\": 0, \"ticks\": \"\"}}, \"type\": \"scatter3d\"}], \"scattercarpet\": [{\"marker\": {\"colorbar\": {\"outlinewidth\": 0, \"ticks\": \"\"}}, \"type\": \"scattercarpet\"}], \"scattergeo\": [{\"marker\": {\"colorbar\": {\"outlinewidth\": 0, \"ticks\": \"\"}}, \"type\": \"scattergeo\"}], \"scattergl\": [{\"marker\": {\"colorbar\": {\"outlinewidth\": 0, \"ticks\": \"\"}}, \"type\": \"scattergl\"}], \"scattermapbox\": [{\"marker\": {\"colorbar\": {\"outlinewidth\": 0, \"ticks\": \"\"}}, \"type\": \"scattermapbox\"}], \"scatterpolar\": [{\"marker\": {\"colorbar\": {\"outlinewidth\": 0, \"ticks\": \"\"}}, \"type\": \"scatterpolar\"}], \"scatterpolargl\": [{\"marker\": {\"colorbar\": {\"outlinewidth\": 0, \"ticks\": \"\"}}, \"type\": \"scatterpolargl\"}], \"scatterternary\": [{\"marker\": {\"colorbar\": {\"outlinewidth\": 0, \"ticks\": \"\"}}, \"type\": \"scatterternary\"}], \"surface\": [{\"colorbar\": {\"outlinewidth\": 0, \"ticks\": \"\"}, \"colorscale\": [[0.0, \"#0d0887\"], [0.1111111111111111, \"#46039f\"], [0.2222222222222222, \"#7201a8\"], [0.3333333333333333, \"#9c179e\"], [0.4444444444444444, \"#bd3786\"], [0.5555555555555556, \"#d8576b\"], [0.6666666666666666, \"#ed7953\"], [0.7777777777777778, \"#fb9f3a\"], [0.8888888888888888, \"#fdca26\"], [1.0, \"#f0f921\"]], \"type\": \"surface\"}], \"table\": [{\"cells\": {\"fill\": {\"color\": \"#EBF0F8\"}, \"line\": {\"color\": \"white\"}}, \"header\": {\"fill\": {\"color\": \"#C8D4E3\"}, \"line\": {\"color\": \"white\"}}, \"type\": \"table\"}]}, \"layout\": {\"annotationdefaults\": {\"arrowcolor\": \"#2a3f5f\", \"arrowhead\": 0, \"arrowwidth\": 1}, \"autotypenumbers\": \"strict\", \"coloraxis\": {\"colorbar\": {\"outlinewidth\": 0, \"ticks\": \"\"}}, \"colorscale\": {\"diverging\": [[0, \"#8e0152\"], [0.1, \"#c51b7d\"], [0.2, \"#de77ae\"], [0.3, \"#f1b6da\"], [0.4, \"#fde0ef\"], [0.5, \"#f7f7f7\"], [0.6, \"#e6f5d0\"], [0.7, \"#b8e186\"], [0.8, \"#7fbc41\"], [0.9, \"#4d9221\"], [1, \"#276419\"]], \"sequential\": [[0.0, \"#0d0887\"], [0.1111111111111111, \"#46039f\"], [0.2222222222222222, \"#7201a8\"], [0.3333333333333333, \"#9c179e\"], [0.4444444444444444, \"#bd3786\"], [0.5555555555555556, \"#d8576b\"], [0.6666666666666666, \"#ed7953\"], [0.7777777777777778, \"#fb9f3a\"], [0.8888888888888888, \"#fdca26\"], [1.0, \"#f0f921\"]], \"sequentialminus\": [[0.0, \"#0d0887\"], [0.1111111111111111, \"#46039f\"], [0.2222222222222222, \"#7201a8\"], [0.3333333333333333, \"#9c179e\"], [0.4444444444444444, \"#bd3786\"], [0.5555555555555556, \"#d8576b\"], [0.6666666666666666, \"#ed7953\"], [0.7777777777777778, \"#fb9f3a\"], [0.8888888888888888, \"#fdca26\"], [1.0, \"#f0f921\"]]}, \"colorway\": [\"#636efa\", \"#EF553B\", \"#00cc96\", \"#ab63fa\", \"#FFA15A\", \"#19d3f3\", \"#FF6692\", \"#B6E880\", \"#FF97FF\", \"#FECB52\"], \"font\": {\"color\": \"#2a3f5f\"}, \"geo\": {\"bgcolor\": \"white\", \"lakecolor\": \"white\", \"landcolor\": \"#E5ECF6\", \"showlakes\": true, \"showland\": true, \"subunitcolor\": \"white\"}, \"hoverlabel\": {\"align\": \"left\"}, \"hovermode\": \"closest\", \"mapbox\": {\"style\": \"light\"}, \"paper_bgcolor\": \"white\", \"plot_bgcolor\": \"#E5ECF6\", \"polar\": {\"angularaxis\": {\"gridcolor\": \"white\", \"linecolor\": \"white\", \"ticks\": \"\"}, \"bgcolor\": \"#E5ECF6\", \"radialaxis\": {\"gridcolor\": \"white\", \"linecolor\": \"white\", \"ticks\": \"\"}}, \"scene\": {\"xaxis\": {\"backgroundcolor\": \"#E5ECF6\", \"gridcolor\": \"white\", \"gridwidth\": 2, \"linecolor\": \"white\", \"showbackground\": true, \"ticks\": \"\", \"zerolinecolor\": \"white\"}, \"yaxis\": {\"backgroundcolor\": \"#E5ECF6\", \"gridcolor\": \"white\", \"gridwidth\": 2, \"linecolor\": \"white\", \"showbackground\": true, \"ticks\": \"\", \"zerolinecolor\": \"white\"}, \"zaxis\": {\"backgroundcolor\": \"#E5ECF6\", \"gridcolor\": \"white\", \"gridwidth\": 2, \"linecolor\": \"white\", \"showbackground\": true, \"ticks\": \"\", \"zerolinecolor\": \"white\"}}, \"shapedefaults\": {\"line\": {\"color\": \"#2a3f5f\"}}, \"ternary\": {\"aaxis\": {\"gridcolor\": \"white\", \"linecolor\": \"white\", \"ticks\": \"\"}, \"baxis\": {\"gridcolor\": \"white\", \"linecolor\": \"white\", \"ticks\": \"\"}, \"bgcolor\": \"#E5ECF6\", \"caxis\": {\"gridcolor\": \"white\", \"linecolor\": \"white\", \"ticks\": \"\"}}, \"title\": {\"x\": 0.05}, \"xaxis\": {\"automargin\": true, \"gridcolor\": \"white\", \"linecolor\": \"white\", \"ticks\": \"\", \"title\": {\"standoff\": 15}, \"zerolinecolor\": \"white\", \"zerolinewidth\": 2}, \"yaxis\": {\"automargin\": true, \"gridcolor\": \"white\", \"linecolor\": \"white\", \"ticks\": \"\", \"title\": {\"standoff\": 15}, \"zerolinecolor\": \"white\", \"zerolinewidth\": 2}}}, \"title\": {\"text\": \"Hits Vs Time\"}, \"width\": 1000, \"xaxis\": {\"color\": \"orange\", \"title\": {\"text\": \"Date\"}}, \"yaxis\": {\"color\": \"blue\", \"title\": {\"text\": \"Hits\"}}},                        {\"responsive\": true}                    ).then(function(){\n",
       "                            \n",
       "var gd = document.getElementById('62a2a692-38c7-4d7a-afbd-59268bd612c4');\n",
       "var x = new MutationObserver(function (mutations, observer) {{\n",
       "        var display = window.getComputedStyle(gd).display;\n",
       "        if (!display || display === 'none') {{\n",
       "            console.log([gd, 'removed!']);\n",
       "            Plotly.purge(gd);\n",
       "            observer.disconnect();\n",
       "        }}\n",
       "}});\n",
       "\n",
       "// Listen for the removal of the full notebook cells\n",
       "var notebookContainer = gd.closest('#notebook-container');\n",
       "if (notebookContainer) {{\n",
       "    x.observe(notebookContainer, {childList: true});\n",
       "}}\n",
       "\n",
       "// Listen for the clearing of the current output cell\n",
       "var outputEl = gd.closest('.output');\n",
       "if (outputEl) {{\n",
       "    x.observe(outputEl, {childList: true});\n",
       "}}\n",
       "\n",
       "                        })                };                });            </script>        </div>"
      ]
     },
     "metadata": {},
     "output_type": "display_data"
    }
   ],
   "source": [
    "def plot_hit_vs_time(df_date,title,xlabel,ylabel):\n",
    "    layout = go.Layout(height=600, width=1000,title='Hits Vs Time', xaxis=dict(title='Date',color='orange'),\n",
    "                   yaxis=dict(title='Hits',color='blue'))\n",
    "    fig = px.line(x=df_date.unique(), y=df_date.value_counts(sort = False))\n",
    "    fig.layout=layout\n",
    "    fig.show()\n",
    "\n",
    "plot_hit_vs_time(df_date,\"Hits v/s Time: Complete\",'Time',\"Hits\")"
   ]
  },
  {
   "cell_type": "code",
   "execution_count": null,
   "metadata": {},
   "outputs": [],
   "source": []
  },
  {
   "cell_type": "code",
   "execution_count": null,
   "metadata": {},
   "outputs": [],
   "source": []
  }
 ],
 "metadata": {
  "kernelspec": {
   "display_name": "Python 3",
   "language": "python",
   "name": "python3"
  },
  "language_info": {
   "codemirror_mode": {
    "name": "ipython",
    "version": 3
   },
   "file_extension": ".py",
   "mimetype": "text/x-python",
   "name": "python",
   "nbconvert_exporter": "python",
   "pygments_lexer": "ipython3",
   "version": "3.8.3"
  }
 },
 "nbformat": 4,
 "nbformat_minor": 4
}
